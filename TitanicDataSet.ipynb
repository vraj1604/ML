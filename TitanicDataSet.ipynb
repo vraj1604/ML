{
 "cells": [
  {
   "cell_type": "code",
   "execution_count": 1,
   "id": "8700996d",
   "metadata": {},
   "outputs": [],
   "source": [
    "import pandas as pd"
   ]
  },
  {
   "cell_type": "code",
   "execution_count": 2,
   "id": "07b2fb7a",
   "metadata": {},
   "outputs": [
    {
     "data": {
      "text/html": [
       "<div>\n",
       "<style scoped>\n",
       "    .dataframe tbody tr th:only-of-type {\n",
       "        vertical-align: middle;\n",
       "    }\n",
       "\n",
       "    .dataframe tbody tr th {\n",
       "        vertical-align: top;\n",
       "    }\n",
       "\n",
       "    .dataframe thead th {\n",
       "        text-align: right;\n",
       "    }\n",
       "</style>\n",
       "<table border=\"1\" class=\"dataframe\">\n",
       "  <thead>\n",
       "    <tr style=\"text-align: right;\">\n",
       "      <th></th>\n",
       "      <th>PassengerId</th>\n",
       "      <th>Survived</th>\n",
       "      <th>Pclass</th>\n",
       "      <th>Name</th>\n",
       "      <th>Sex</th>\n",
       "      <th>Age</th>\n",
       "      <th>SibSp</th>\n",
       "      <th>Parch</th>\n",
       "      <th>Ticket</th>\n",
       "      <th>Fare</th>\n",
       "      <th>Cabin</th>\n",
       "      <th>Embarked</th>\n",
       "    </tr>\n",
       "  </thead>\n",
       "  <tbody>\n",
       "    <tr>\n",
       "      <th>0</th>\n",
       "      <td>892</td>\n",
       "      <td>0</td>\n",
       "      <td>3</td>\n",
       "      <td>Kelly, Mr. James</td>\n",
       "      <td>male</td>\n",
       "      <td>34.5</td>\n",
       "      <td>0</td>\n",
       "      <td>0</td>\n",
       "      <td>330911</td>\n",
       "      <td>7.8292</td>\n",
       "      <td>NaN</td>\n",
       "      <td>Q</td>\n",
       "    </tr>\n",
       "    <tr>\n",
       "      <th>1</th>\n",
       "      <td>893</td>\n",
       "      <td>1</td>\n",
       "      <td>3</td>\n",
       "      <td>Wilkes, Mrs. James (Ellen Needs)</td>\n",
       "      <td>female</td>\n",
       "      <td>47.0</td>\n",
       "      <td>1</td>\n",
       "      <td>0</td>\n",
       "      <td>363272</td>\n",
       "      <td>7.0000</td>\n",
       "      <td>NaN</td>\n",
       "      <td>S</td>\n",
       "    </tr>\n",
       "    <tr>\n",
       "      <th>2</th>\n",
       "      <td>894</td>\n",
       "      <td>0</td>\n",
       "      <td>2</td>\n",
       "      <td>Myles, Mr. Thomas Francis</td>\n",
       "      <td>male</td>\n",
       "      <td>62.0</td>\n",
       "      <td>0</td>\n",
       "      <td>0</td>\n",
       "      <td>240276</td>\n",
       "      <td>9.6875</td>\n",
       "      <td>NaN</td>\n",
       "      <td>Q</td>\n",
       "    </tr>\n",
       "    <tr>\n",
       "      <th>3</th>\n",
       "      <td>895</td>\n",
       "      <td>0</td>\n",
       "      <td>3</td>\n",
       "      <td>Wirz, Mr. Albert</td>\n",
       "      <td>male</td>\n",
       "      <td>27.0</td>\n",
       "      <td>0</td>\n",
       "      <td>0</td>\n",
       "      <td>315154</td>\n",
       "      <td>8.6625</td>\n",
       "      <td>NaN</td>\n",
       "      <td>S</td>\n",
       "    </tr>\n",
       "    <tr>\n",
       "      <th>4</th>\n",
       "      <td>896</td>\n",
       "      <td>1</td>\n",
       "      <td>3</td>\n",
       "      <td>Hirvonen, Mrs. Alexander (Helga E Lindqvist)</td>\n",
       "      <td>female</td>\n",
       "      <td>22.0</td>\n",
       "      <td>1</td>\n",
       "      <td>1</td>\n",
       "      <td>3101298</td>\n",
       "      <td>12.2875</td>\n",
       "      <td>NaN</td>\n",
       "      <td>S</td>\n",
       "    </tr>\n",
       "    <tr>\n",
       "      <th>...</th>\n",
       "      <td>...</td>\n",
       "      <td>...</td>\n",
       "      <td>...</td>\n",
       "      <td>...</td>\n",
       "      <td>...</td>\n",
       "      <td>...</td>\n",
       "      <td>...</td>\n",
       "      <td>...</td>\n",
       "      <td>...</td>\n",
       "      <td>...</td>\n",
       "      <td>...</td>\n",
       "      <td>...</td>\n",
       "    </tr>\n",
       "    <tr>\n",
       "      <th>413</th>\n",
       "      <td>1305</td>\n",
       "      <td>0</td>\n",
       "      <td>3</td>\n",
       "      <td>Spector, Mr. Woolf</td>\n",
       "      <td>male</td>\n",
       "      <td>NaN</td>\n",
       "      <td>0</td>\n",
       "      <td>0</td>\n",
       "      <td>A.5. 3236</td>\n",
       "      <td>8.0500</td>\n",
       "      <td>NaN</td>\n",
       "      <td>S</td>\n",
       "    </tr>\n",
       "    <tr>\n",
       "      <th>414</th>\n",
       "      <td>1306</td>\n",
       "      <td>1</td>\n",
       "      <td>1</td>\n",
       "      <td>Oliva y Ocana, Dona. Fermina</td>\n",
       "      <td>female</td>\n",
       "      <td>39.0</td>\n",
       "      <td>0</td>\n",
       "      <td>0</td>\n",
       "      <td>PC 17758</td>\n",
       "      <td>108.9000</td>\n",
       "      <td>C105</td>\n",
       "      <td>C</td>\n",
       "    </tr>\n",
       "    <tr>\n",
       "      <th>415</th>\n",
       "      <td>1307</td>\n",
       "      <td>0</td>\n",
       "      <td>3</td>\n",
       "      <td>Saether, Mr. Simon Sivertsen</td>\n",
       "      <td>male</td>\n",
       "      <td>38.5</td>\n",
       "      <td>0</td>\n",
       "      <td>0</td>\n",
       "      <td>SOTON/O.Q. 3101262</td>\n",
       "      <td>7.2500</td>\n",
       "      <td>NaN</td>\n",
       "      <td>S</td>\n",
       "    </tr>\n",
       "    <tr>\n",
       "      <th>416</th>\n",
       "      <td>1308</td>\n",
       "      <td>0</td>\n",
       "      <td>3</td>\n",
       "      <td>Ware, Mr. Frederick</td>\n",
       "      <td>male</td>\n",
       "      <td>NaN</td>\n",
       "      <td>0</td>\n",
       "      <td>0</td>\n",
       "      <td>359309</td>\n",
       "      <td>8.0500</td>\n",
       "      <td>NaN</td>\n",
       "      <td>S</td>\n",
       "    </tr>\n",
       "    <tr>\n",
       "      <th>417</th>\n",
       "      <td>1309</td>\n",
       "      <td>0</td>\n",
       "      <td>3</td>\n",
       "      <td>Peter, Master. Michael J</td>\n",
       "      <td>male</td>\n",
       "      <td>NaN</td>\n",
       "      <td>1</td>\n",
       "      <td>1</td>\n",
       "      <td>2668</td>\n",
       "      <td>22.3583</td>\n",
       "      <td>NaN</td>\n",
       "      <td>C</td>\n",
       "    </tr>\n",
       "  </tbody>\n",
       "</table>\n",
       "<p>418 rows × 12 columns</p>\n",
       "</div>"
      ],
      "text/plain": [
       "     PassengerId  Survived  Pclass  \\\n",
       "0            892         0       3   \n",
       "1            893         1       3   \n",
       "2            894         0       2   \n",
       "3            895         0       3   \n",
       "4            896         1       3   \n",
       "..           ...       ...     ...   \n",
       "413         1305         0       3   \n",
       "414         1306         1       1   \n",
       "415         1307         0       3   \n",
       "416         1308         0       3   \n",
       "417         1309         0       3   \n",
       "\n",
       "                                             Name     Sex   Age  SibSp  Parch  \\\n",
       "0                                Kelly, Mr. James    male  34.5      0      0   \n",
       "1                Wilkes, Mrs. James (Ellen Needs)  female  47.0      1      0   \n",
       "2                       Myles, Mr. Thomas Francis    male  62.0      0      0   \n",
       "3                                Wirz, Mr. Albert    male  27.0      0      0   \n",
       "4    Hirvonen, Mrs. Alexander (Helga E Lindqvist)  female  22.0      1      1   \n",
       "..                                            ...     ...   ...    ...    ...   \n",
       "413                            Spector, Mr. Woolf    male   NaN      0      0   \n",
       "414                  Oliva y Ocana, Dona. Fermina  female  39.0      0      0   \n",
       "415                  Saether, Mr. Simon Sivertsen    male  38.5      0      0   \n",
       "416                           Ware, Mr. Frederick    male   NaN      0      0   \n",
       "417                      Peter, Master. Michael J    male   NaN      1      1   \n",
       "\n",
       "                 Ticket      Fare Cabin Embarked  \n",
       "0                330911    7.8292   NaN        Q  \n",
       "1                363272    7.0000   NaN        S  \n",
       "2                240276    9.6875   NaN        Q  \n",
       "3                315154    8.6625   NaN        S  \n",
       "4               3101298   12.2875   NaN        S  \n",
       "..                  ...       ...   ...      ...  \n",
       "413           A.5. 3236    8.0500   NaN        S  \n",
       "414            PC 17758  108.9000  C105        C  \n",
       "415  SOTON/O.Q. 3101262    7.2500   NaN        S  \n",
       "416              359309    8.0500   NaN        S  \n",
       "417                2668   22.3583   NaN        C  \n",
       "\n",
       "[418 rows x 12 columns]"
      ]
     },
     "execution_count": 2,
     "metadata": {},
     "output_type": "execute_result"
    }
   ],
   "source": [
    "a=pd.read_csv('tested.csv')\n",
    "a"
   ]
  },
  {
   "cell_type": "code",
   "execution_count": 1,
   "id": "c8102e2a",
   "metadata": {},
   "outputs": [],
   "source": [
    "import numpy as np"
   ]
  },
  {
   "cell_type": "code",
   "execution_count": 4,
   "id": "1eb64b0a",
   "metadata": {},
   "outputs": [],
   "source": [
    "a=([1,2],[3,4])"
   ]
  },
  {
   "cell_type": "code",
   "execution_count": 5,
   "id": "d76d8ce1",
   "metadata": {},
   "outputs": [
    {
     "data": {
      "text/plain": [
       "([1, 2], [3, 4])"
      ]
     },
     "execution_count": 5,
     "metadata": {},
     "output_type": "execute_result"
    }
   ],
   "source": [
    "a"
   ]
  },
  {
   "cell_type": "code",
   "execution_count": 6,
   "id": "5c7ade05",
   "metadata": {},
   "outputs": [
    {
     "data": {
      "text/plain": [
       "array([[1, 2],\n",
       "       [3, 4]])"
      ]
     },
     "execution_count": 6,
     "metadata": {},
     "output_type": "execute_result"
    }
   ],
   "source": [
    "b=np.array(a)\n",
    "b"
   ]
  },
  {
   "cell_type": "code",
   "execution_count": 7,
   "id": "230b571b",
   "metadata": {},
   "outputs": [
    {
     "data": {
      "text/plain": [
       "2"
      ]
     },
     "execution_count": 7,
     "metadata": {},
     "output_type": "execute_result"
    }
   ],
   "source": [
    "b.ndim"
   ]
  },
  {
   "cell_type": "code",
   "execution_count": 8,
   "id": "238ce878",
   "metadata": {},
   "outputs": [
    {
     "data": {
      "text/plain": [
       "(2, 2)"
      ]
     },
     "execution_count": 8,
     "metadata": {},
     "output_type": "execute_result"
    }
   ],
   "source": [
    "b.shape"
   ]
  },
  {
   "cell_type": "code",
   "execution_count": 9,
   "id": "b3fe15ad",
   "metadata": {},
   "outputs": [
    {
     "data": {
      "text/plain": [
       "4"
      ]
     },
     "execution_count": 9,
     "metadata": {},
     "output_type": "execute_result"
    }
   ],
   "source": [
    "b.size"
   ]
  },
  {
   "cell_type": "code",
   "execution_count": 10,
   "id": "1016673c",
   "metadata": {},
   "outputs": [
    {
     "data": {
      "text/plain": [
       "4"
      ]
     },
     "execution_count": 10,
     "metadata": {},
     "output_type": "execute_result"
    }
   ],
   "source": [
    "b.itemsize"
   ]
  },
  {
   "cell_type": "code",
   "execution_count": 11,
   "id": "b2e8d669",
   "metadata": {},
   "outputs": [
    {
     "data": {
      "text/plain": [
       "dtype('int32')"
      ]
     },
     "execution_count": 11,
     "metadata": {},
     "output_type": "execute_result"
    }
   ],
   "source": [
    "b.dtype"
   ]
  },
  {
   "cell_type": "code",
   "execution_count": 12,
   "id": "8073457f",
   "metadata": {},
   "outputs": [
    {
     "data": {
      "text/plain": [
       "<memory at 0x0000017DE0DCD040>"
      ]
     },
     "execution_count": 12,
     "metadata": {},
     "output_type": "execute_result"
    }
   ],
   "source": [
    "b.data"
   ]
  },
  {
   "cell_type": "code",
   "execution_count": 13,
   "id": "2885e8cb",
   "metadata": {},
   "outputs": [
    {
     "data": {
      "text/plain": [
       "array([1, 2, 3])"
      ]
     },
     "execution_count": 13,
     "metadata": {},
     "output_type": "execute_result"
    }
   ],
   "source": [
    "#single dimension array\n",
    "c=np.array([1,2,3])\n",
    "c"
   ]
  },
  {
   "cell_type": "code",
   "execution_count": 14,
   "id": "acf6b72d",
   "metadata": {},
   "outputs": [
    {
     "data": {
      "text/plain": [
       "1"
      ]
     },
     "execution_count": 14,
     "metadata": {},
     "output_type": "execute_result"
    }
   ],
   "source": [
    "c.ndim"
   ]
  },
  {
   "cell_type": "code",
   "execution_count": 15,
   "id": "815ba237",
   "metadata": {},
   "outputs": [
    {
     "data": {
      "text/plain": [
       "(3,)"
      ]
     },
     "execution_count": 15,
     "metadata": {},
     "output_type": "execute_result"
    }
   ],
   "source": [
    "c.shape"
   ]
  },
  {
   "cell_type": "code",
   "execution_count": 16,
   "id": "9ff3c4cd",
   "metadata": {},
   "outputs": [
    {
     "data": {
      "text/plain": [
       "3"
      ]
     },
     "execution_count": 16,
     "metadata": {},
     "output_type": "execute_result"
    }
   ],
   "source": [
    "c.size"
   ]
  },
  {
   "cell_type": "code",
   "execution_count": 17,
   "id": "6dc3f472",
   "metadata": {},
   "outputs": [
    {
     "data": {
      "text/plain": [
       "<memory at 0x0000017DE0DB2400>"
      ]
     },
     "execution_count": 17,
     "metadata": {},
     "output_type": "execute_result"
    }
   ],
   "source": [
    "c.data"
   ]
  },
  {
   "cell_type": "code",
   "execution_count": 18,
   "id": "086c4390",
   "metadata": {},
   "outputs": [
    {
     "data": {
      "text/plain": [
       "dtype('int32')"
      ]
     },
     "execution_count": 18,
     "metadata": {},
     "output_type": "execute_result"
    }
   ],
   "source": [
    "c.dtype"
   ]
  },
  {
   "cell_type": "code",
   "execution_count": 22,
   "id": "c13d3ac1",
   "metadata": {},
   "outputs": [
    {
     "data": {
      "text/plain": [
       "array([[[1., 2.],\n",
       "        [3., 4.],\n",
       "        [5., 6.],\n",
       "        [7., 8.]]])"
      ]
     },
     "execution_count": 22,
     "metadata": {},
     "output_type": "execute_result"
    }
   ],
   "source": [
    "d=np.array([[[1.0,2.0],[3.0,4.0],[5.0,6.0],[7.0,8.0]]])\n",
    "d"
   ]
  },
  {
   "cell_type": "code",
   "execution_count": 23,
   "id": "55dece67",
   "metadata": {},
   "outputs": [
    {
     "data": {
      "text/plain": [
       "3"
      ]
     },
     "execution_count": 23,
     "metadata": {},
     "output_type": "execute_result"
    }
   ],
   "source": [
    "d.ndim"
   ]
  },
  {
   "cell_type": "code",
   "execution_count": 24,
   "id": "db567cb0",
   "metadata": {},
   "outputs": [
    {
     "data": {
      "text/plain": [
       "dtype('float64')"
      ]
     },
     "execution_count": 24,
     "metadata": {},
     "output_type": "execute_result"
    }
   ],
   "source": [
    "d.dtype"
   ]
  },
  {
   "cell_type": "code",
   "execution_count": 26,
   "id": "a73663c4",
   "metadata": {},
   "outputs": [
    {
     "data": {
      "text/plain": [
       "array([[2, 2],\n",
       "       [2, 2],\n",
       "       [2, 2]])"
      ]
     },
     "execution_count": 26,
     "metadata": {},
     "output_type": "execute_result"
    }
   ],
   "source": [
    "e=np.full((3,2),2)\n",
    "e"
   ]
  },
  {
   "cell_type": "code",
   "execution_count": 30,
   "id": "1a3dcfb5",
   "metadata": {},
   "outputs": [
    {
     "data": {
      "text/plain": [
       "array([[1., 1., 1., 1.],\n",
       "       [1., 1., 1., 1.],\n",
       "       [1., 1., 1., 1.]])"
      ]
     },
     "execution_count": 30,
     "metadata": {},
     "output_type": "execute_result"
    }
   ],
   "source": [
    "e=np.ones((3,4))\n",
    "e"
   ]
  },
  {
   "cell_type": "code",
   "execution_count": 31,
   "id": "9abe8e9d",
   "metadata": {},
   "outputs": [
    {
     "data": {
      "text/plain": [
       "dtype('float64')"
      ]
     },
     "execution_count": 31,
     "metadata": {},
     "output_type": "execute_result"
    }
   ],
   "source": [
    "e.dtype"
   ]
  },
  {
   "cell_type": "code",
   "execution_count": 3,
   "id": "9a96ae53",
   "metadata": {},
   "outputs": [],
   "source": [
    "import numpy as np\n",
    "#sum of third coloumn\n",
    "\n",
    "def sum_third_column(arr):\n",
    "    return np.sum(arr[:,2])\n",
    "\n",
    "def sum_second_column(arr):\n",
    "    return np.sum(arr[:,1])\n",
    "\n",
    "def sum_first_column(arr):\n",
    "    return np.sum(arr[:,0])"
   ]
  },
  {
   "cell_type": "code",
   "execution_count": 4,
   "id": "bd6dc9ca",
   "metadata": {},
   "outputs": [],
   "source": [
    "arr=np.array([[1,2,3],[4,5,6],[7,8,9]])\n"
   ]
  },
  {
   "cell_type": "code",
   "execution_count": 5,
   "id": "47acd1d2",
   "metadata": {},
   "outputs": [
    {
     "data": {
      "text/plain": [
       "18"
      ]
     },
     "execution_count": 5,
     "metadata": {},
     "output_type": "execute_result"
    }
   ],
   "source": [
    "sum_third_column(arr)"
   ]
  },
  {
   "cell_type": "code",
   "execution_count": 6,
   "id": "0ce18d91",
   "metadata": {},
   "outputs": [
    {
     "data": {
      "text/plain": [
       "15"
      ]
     },
     "execution_count": 6,
     "metadata": {},
     "output_type": "execute_result"
    }
   ],
   "source": [
    "sum_second_column(arr)"
   ]
  },
  {
   "cell_type": "code",
   "execution_count": 9,
   "id": "b073ca58",
   "metadata": {},
   "outputs": [
    {
     "data": {
      "text/plain": [
       "12"
      ]
     },
     "execution_count": 9,
     "metadata": {},
     "output_type": "execute_result"
    }
   ],
   "source": [
    "sum_first_column(arr)"
   ]
  },
  {
   "cell_type": "code",
   "execution_count": 43,
   "id": "733de9fc",
   "metadata": {},
   "outputs": [],
   "source": [
    "def transpose(arr):\n",
    "    return np.transpose(arr)"
   ]
  },
  {
   "cell_type": "code",
   "execution_count": 44,
   "id": "e2be481b",
   "metadata": {},
   "outputs": [
    {
     "data": {
      "text/plain": [
       "array([[1, 4, 7],\n",
       "       [2, 5, 8],\n",
       "       [3, 6, 9]])"
      ]
     },
     "execution_count": 44,
     "metadata": {},
     "output_type": "execute_result"
    }
   ],
   "source": [
    "transpose(arr)"
   ]
  },
  {
   "cell_type": "code",
   "execution_count": 45,
   "id": "d040867a",
   "metadata": {},
   "outputs": [
    {
     "data": {
      "text/plain": [
       "5.0"
      ]
     },
     "execution_count": 45,
     "metadata": {},
     "output_type": "execute_result"
    }
   ],
   "source": [
    "def average(arr):\n",
    "    return np.mean(arr)\n",
    "average(arr)"
   ]
  },
  {
   "cell_type": "code",
   "execution_count": 10,
   "id": "ada3134f",
   "metadata": {},
   "outputs": [
    {
     "data": {
      "text/plain": [
       "array([[10, 11, 12],\n",
       "       [13, 14, 15],\n",
       "       [16, 17, 18]])"
      ]
     },
     "execution_count": 10,
     "metadata": {},
     "output_type": "execute_result"
    }
   ],
   "source": [
    "arr1=np.array([[10,11,12],[13,14,15],[16,17,18]])\n",
    "arr1"
   ]
  },
  {
   "cell_type": "code",
   "execution_count": 49,
   "id": "7e9469bf",
   "metadata": {},
   "outputs": [
    {
     "data": {
      "text/plain": [
       "array([[ 84,  90,  96],\n",
       "       [201, 216, 231],\n",
       "       [318, 342, 366]])"
      ]
     },
     "execution_count": 49,
     "metadata": {},
     "output_type": "execute_result"
    }
   ],
   "source": [
    "def dot_product(arr,arr1):\n",
    "    return np.dot(arr, arr1)\n",
    "dot_product(arr,arr1)"
   ]
  },
  {
   "cell_type": "code",
   "execution_count": 52,
   "id": "feff9732",
   "metadata": {},
   "outputs": [
    {
     "data": {
      "text/plain": [
       "array([[1, 2, 3],\n",
       "       [4, 5, 6],\n",
       "       [7, 8, 9]])"
      ]
     },
     "execution_count": 52,
     "metadata": {},
     "output_type": "execute_result"
    }
   ],
   "source": [
    "arr"
   ]
  },
  {
   "cell_type": "code",
   "execution_count": 53,
   "id": "d3ff5112",
   "metadata": {},
   "outputs": [
    {
     "data": {
      "text/plain": [
       "array([[10, 11, 12],\n",
       "       [13, 14, 15],\n",
       "       [16, 17, 18]])"
      ]
     },
     "execution_count": 53,
     "metadata": {},
     "output_type": "execute_result"
    }
   ],
   "source": [
    "arr1"
   ]
  },
  {
   "cell_type": "code",
   "execution_count": 58,
   "id": "009f82cc",
   "metadata": {},
   "outputs": [
    {
     "data": {
      "text/plain": [
       "array([[ 1,  2,  3],\n",
       "       [ 4,  5,  6],\n",
       "       [ 7,  8,  9],\n",
       "       [10, 11, 12],\n",
       "       [13, 14, 15],\n",
       "       [16, 17, 18]])"
      ]
     },
     "execution_count": 58,
     "metadata": {},
     "output_type": "execute_result"
    }
   ],
   "source": [
    "def concatenate(arr,arr1):\n",
    "    return np.concatenate((arr, arr1))\n",
    "\n",
    "concatenate(arr,arr1)"
   ]
  },
  {
   "cell_type": "code",
   "execution_count": 60,
   "id": "5b49dd07",
   "metadata": {},
   "outputs": [
    {
     "data": {
      "text/plain": [
       "array([[11, 13, 15],\n",
       "       [17, 19, 21],\n",
       "       [23, 25, 27]])"
      ]
     },
     "execution_count": 60,
     "metadata": {},
     "output_type": "execute_result"
    }
   ],
   "source": [
    "def add(arr, arr1):\n",
    "    return np.add(arr,arr1)\n",
    "\n",
    "add(arr, arr1)"
   ]
  },
  {
   "cell_type": "code",
   "execution_count": 62,
   "id": "d7da5042",
   "metadata": {},
   "outputs": [
    {
     "data": {
      "text/plain": [
       "array([[-9, -9, -9],\n",
       "       [-9, -9, -9],\n",
       "       [-9, -9, -9]])"
      ]
     },
     "execution_count": 62,
     "metadata": {},
     "output_type": "execute_result"
    }
   ],
   "source": [
    "def subtract(arr,arr1):\n",
    "    return np.subtract(arr,arr1)\n",
    "subtract(arr,arr1)"
   ]
  },
  {
   "cell_type": "code",
   "execution_count": 63,
   "id": "4e10eed3",
   "metadata": {},
   "outputs": [
    {
     "data": {
      "text/plain": [
       "array([[ 10,  22,  36],\n",
       "       [ 52,  70,  90],\n",
       "       [112, 136, 162]])"
      ]
     },
     "execution_count": 63,
     "metadata": {},
     "output_type": "execute_result"
    }
   ],
   "source": [
    "def multiply(arr,arr1):\n",
    "    return np.multiply(arr,arr1)\n",
    "multiply(arr,arr1)"
   ]
  },
  {
   "cell_type": "code",
   "execution_count": 65,
   "id": "30032576",
   "metadata": {},
   "outputs": [
    {
     "data": {
      "text/plain": [
       "array([[10.        ,  5.5       ,  4.        ],\n",
       "       [ 3.25      ,  2.8       ,  2.5       ],\n",
       "       [ 2.28571429,  2.125     ,  2.        ]])"
      ]
     },
     "execution_count": 65,
     "metadata": {},
     "output_type": "execute_result"
    }
   ],
   "source": [
    "def divide(arr1,arr):\n",
    "    return np.divide(arr1,arr)\n",
    "divide(arr1,arr)"
   ]
  },
  {
   "cell_type": "code",
   "execution_count": 8,
   "id": "be7b8e0c",
   "metadata": {},
   "outputs": [
    {
     "data": {
      "text/plain": [
       "array([[1.        , 1.41421356, 1.73205081],\n",
       "       [2.        , 2.23606798, 2.44948974],\n",
       "       [2.64575131, 2.82842712, 3.        ]])"
      ]
     },
     "execution_count": 8,
     "metadata": {},
     "output_type": "execute_result"
    }
   ],
   "source": [
    "def sqrt(arr):\n",
    "    return np.sqrt(arr)\n",
    "sqrt(arr)"
   ]
  },
  {
   "cell_type": "code",
   "execution_count": 11,
   "id": "5a6a0052",
   "metadata": {},
   "outputs": [
    {
     "data": {
      "text/plain": [
       "array([[2.20264658e+04, 5.98741417e+04, 1.62754791e+05],\n",
       "       [4.42413392e+05, 1.20260428e+06, 3.26901737e+06],\n",
       "       [8.88611052e+06, 2.41549528e+07, 6.56599691e+07]])"
      ]
     },
     "execution_count": 11,
     "metadata": {},
     "output_type": "execute_result"
    }
   ],
   "source": [
    "def exp(arr1):\n",
    "    return np.exp(arr1)\n",
    "exp(arr1)"
   ]
  },
  {
   "cell_type": "code",
   "execution_count": 12,
   "id": "bb0d168d",
   "metadata": {},
   "outputs": [
    {
     "data": {
      "text/plain": [
       "array([[False, False, False],\n",
       "       [False, False, False],\n",
       "       [False, False, False]])"
      ]
     },
     "execution_count": 12,
     "metadata": {},
     "output_type": "execute_result"
    }
   ],
   "source": [
    "arr==arr1"
   ]
  },
  {
   "cell_type": "code",
   "execution_count": 13,
   "id": "91e331ac",
   "metadata": {},
   "outputs": [
    {
     "data": {
      "text/plain": [
       "True"
      ]
     },
     "execution_count": 13,
     "metadata": {},
     "output_type": "execute_result"
    }
   ],
   "source": [
    "ar=([[1,2],[3,4]])\n",
    "ar1=([[1,2],[3,4]])\n",
    "\n",
    "ar==ar1"
   ]
  },
  {
   "cell_type": "code",
   "execution_count": 17,
   "id": "6d465335",
   "metadata": {},
   "outputs": [
    {
     "data": {
      "text/plain": [
       "10"
      ]
     },
     "execution_count": 17,
     "metadata": {},
     "output_type": "execute_result"
    }
   ],
   "source": [
    "def sum(ar):\n",
    "    return np.sum(ar)\n",
    "sum(ar)"
   ]
  },
  {
   "cell_type": "code",
   "execution_count": 18,
   "id": "11ba69dc",
   "metadata": {},
   "outputs": [
    {
     "data": {
      "text/plain": [
       "4"
      ]
     },
     "execution_count": 18,
     "metadata": {},
     "output_type": "execute_result"
    }
   ],
   "source": [
    "def max(ar):\n",
    "    return np.max(ar)\n",
    "max(ar)"
   ]
  },
  {
   "cell_type": "code",
   "execution_count": 20,
   "id": "9c53a1b4",
   "metadata": {},
   "outputs": [
    {
     "data": {
      "text/plain": [
       "1"
      ]
     },
     "execution_count": 20,
     "metadata": {},
     "output_type": "execute_result"
    }
   ],
   "source": [
    "def min(ar1):\n",
    "    return np.min(ar1)\n",
    "min(ar1)"
   ]
  },
  {
   "cell_type": "code",
   "execution_count": 23,
   "id": "df76be86",
   "metadata": {},
   "outputs": [
    {
     "data": {
      "text/plain": [
       "3"
      ]
     },
     "execution_count": 23,
     "metadata": {},
     "output_type": "execute_result"
    }
   ],
   "source": [
    "#which index is maximum\n",
    "def index_of_max(ar):\n",
    "    return np.argmax(ar)\n",
    "index_of_max(ar)"
   ]
  },
  {
   "cell_type": "code",
   "execution_count": 26,
   "id": "bb8464ec",
   "metadata": {},
   "outputs": [
    {
     "data": {
      "text/plain": [
       "2.5"
      ]
     },
     "execution_count": 26,
     "metadata": {},
     "output_type": "execute_result"
    }
   ],
   "source": [
    "def mean(ar):\n",
    "    return np.mean(ar)\n",
    "mean(ar)"
   ]
  },
  {
   "cell_type": "code",
   "execution_count": 30,
   "id": "b27ddeb1",
   "metadata": {},
   "outputs": [
    {
     "data": {
      "text/plain": [
       "2.5"
      ]
     },
     "execution_count": 30,
     "metadata": {},
     "output_type": "execute_result"
    }
   ],
   "source": [
    "def median(ar1):\n",
    "    return np.median(ar1)\n",
    "median(ar1)"
   ]
  },
  {
   "cell_type": "code",
   "execution_count": 31,
   "id": "7b6d5cd3",
   "metadata": {},
   "outputs": [],
   "source": [
    "from scipy import stats as st"
   ]
  },
  {
   "cell_type": "code",
   "execution_count": 32,
   "id": "15496088",
   "metadata": {},
   "outputs": [
    {
     "name": "stdout",
     "output_type": "stream",
     "text": [
      "ModeResult(mode=array([1]), count=array([6]))\n"
     ]
    },
    {
     "name": "stderr",
     "output_type": "stream",
     "text": [
      "C:\\Users\\Lenovo\\AppData\\Local\\Temp\\ipykernel_1928\\1195406691.py:2: FutureWarning: Unlike other reduction functions (e.g. `skew`, `kurtosis`), the default behavior of `mode` typically preserves the axis it acts along. In SciPy 1.11.0, this behavior will change: the default value of `keepdims` will become False, the `axis` over which the statistic is taken will be eliminated, and the value None will no longer be accepted. Set `keepdims` to True or False to avoid this warning.\n",
      "  print(st.mode(ab))\n"
     ]
    }
   ],
   "source": [
    "ab=([1,2,31,1,1,23,21,2,1,1,1])\n",
    "print(st.mode(ab))"
   ]
  },
  {
   "cell_type": "code",
   "execution_count": 39,
   "id": "6bc12d40",
   "metadata": {},
   "outputs": [],
   "source": [
    "ha=np.array([[1,2],[3,4],[5,6]])\n",
    "va=np.array([[11,12],[13,14],[15,16]])"
   ]
  },
  {
   "cell_type": "code",
   "execution_count": 40,
   "id": "f4d73e37",
   "metadata": {},
   "outputs": [
    {
     "data": {
      "text/plain": [
       "array([[ 1,  2, 11, 12],\n",
       "       [ 3,  4, 13, 14],\n",
       "       [ 5,  6, 15, 16]])"
      ]
     },
     "execution_count": 40,
     "metadata": {},
     "output_type": "execute_result"
    }
   ],
   "source": [
    "f=np.hstack((ha,va))\n",
    "f"
   ]
  },
  {
   "cell_type": "code",
   "execution_count": 42,
   "id": "e5c00064",
   "metadata": {},
   "outputs": [
    {
     "data": {
      "text/plain": [
       "array([[ 1,  2],\n",
       "       [ 3,  4],\n",
       "       [ 5,  6],\n",
       "       [11, 12],\n",
       "       [13, 14],\n",
       "       [15, 16]])"
      ]
     },
     "execution_count": 42,
     "metadata": {},
     "output_type": "execute_result"
    }
   ],
   "source": [
    "g=np.vstack((ha,va))\n",
    "g"
   ]
  },
  {
   "cell_type": "code",
   "execution_count": 47,
   "id": "522fbaad",
   "metadata": {},
   "outputs": [
    {
     "data": {
      "text/plain": [
       "array([ 2,  4,  6,  8, 10, 12, 14, 16, 18])"
      ]
     },
     "execution_count": 47,
     "metadata": {},
     "output_type": "execute_result"
    }
   ],
   "source": [
    "h=np.arange(2,20,2)\n",
    "h"
   ]
  },
  {
   "cell_type": "code",
   "execution_count": 48,
   "id": "181b2d7f",
   "metadata": {},
   "outputs": [
    {
     "data": {
      "text/plain": [
       "array([ 12,  24,  36,  48,  60,  72,  84,  96, 108])"
      ]
     },
     "execution_count": 48,
     "metadata": {},
     "output_type": "execute_result"
    }
   ],
   "source": [
    "i=np.arange(12,120,12)\n",
    "i"
   ]
  },
  {
   "cell_type": "code",
   "execution_count": 50,
   "id": "fa5dfdcf",
   "metadata": {},
   "outputs": [
    {
     "name": "stdout",
     "output_type": "stream",
     "text": [
      "Before Swaping:\n",
      "[[1 2 3]\n",
      " [4 5 6]\n",
      " [7 8 9]]\n",
      "After swaping:\n",
      "[[7 8 9]\n",
      " [4 5 6]\n",
      " [1 2 3]]\n"
     ]
    }
   ],
   "source": [
    "##swaping\n",
    "\n",
    "sa=np.array([[1,2,3],[4,5,6],[7,8,9]])\n",
    "print(\"Before Swaping:\")\n",
    "print(sa)\n",
    "\n",
    "temp=np.copy(sa[0])\n",
    "sa[0]=sa[2]\n",
    "sa[2]=temp\n",
    "\n",
    "print(\"After swaping:\")\n",
    "print(sa)"
   ]
  },
  {
   "cell_type": "code",
   "execution_count": 55,
   "id": "a7c3f4be",
   "metadata": {},
   "outputs": [
    {
     "name": "stdout",
     "output_type": "stream",
     "text": [
      "[[7 8 6 7]\n",
      " [1 9 0 3]]\n",
      "(2, 4)\n",
      "After Reshape\n",
      "[[7 8]\n",
      " [6 7]\n",
      " [1 9]\n",
      " [0 3]]\n"
     ]
    }
   ],
   "source": [
    "p=np.random.randint(0,10,size=(2,4))\n",
    "print(p)\n",
    "print(p.shape)\n",
    "print(\"After Reshape\")\n",
    "q=p.reshape(4,2)\n",
    "print(q)"
   ]
  },
  {
   "cell_type": "code",
   "execution_count": 56,
   "id": "5e7ca45f",
   "metadata": {},
   "outputs": [
    {
     "name": "stdout",
     "output_type": "stream",
     "text": [
      "[[ 1  2  3  4  5  6  7]\n",
      " [ 8  9 10 11 12 13 14]]\n"
     ]
    }
   ],
   "source": [
    "j=np.array([[1,2,3,4,5,6,7],[8,9,10,11,12,13,14]])\n",
    "print(j)"
   ]
  },
  {
   "cell_type": "code",
   "execution_count": 58,
   "id": "b7a00a22",
   "metadata": {},
   "outputs": [
    {
     "data": {
      "text/plain": [
       "6"
      ]
     },
     "execution_count": 58,
     "metadata": {},
     "output_type": "execute_result"
    }
   ],
   "source": [
    "j[0,5]"
   ]
  },
  {
   "cell_type": "code",
   "execution_count": 60,
   "id": "a31045b6",
   "metadata": {},
   "outputs": [
    {
     "data": {
      "text/plain": [
       "array([ 8,  9, 10, 11, 12, 13, 14])"
      ]
     },
     "execution_count": 60,
     "metadata": {},
     "output_type": "execute_result"
    }
   ],
   "source": [
    "j[1,:]"
   ]
  },
  {
   "cell_type": "code",
   "execution_count": 61,
   "id": "0454ccff",
   "metadata": {},
   "outputs": [
    {
     "data": {
      "text/plain": [
       "array([2, 9])"
      ]
     },
     "execution_count": 61,
     "metadata": {},
     "output_type": "execute_result"
    }
   ],
   "source": [
    "j[:,1]"
   ]
  },
  {
   "cell_type": "code",
   "execution_count": 65,
   "id": "fdd8b35a",
   "metadata": {},
   "outputs": [
    {
     "data": {
      "text/plain": [
       "array([ 1,  2,  3,  4,  5,  6,  7,  8,  9, 10, 11, 12, 13, 14, 20])"
      ]
     },
     "execution_count": 65,
     "metadata": {},
     "output_type": "execute_result"
    }
   ],
   "source": [
    "np.append(j,20)"
   ]
  },
  {
   "cell_type": "code",
   "execution_count": 66,
   "id": "a1e5e113",
   "metadata": {},
   "outputs": [
    {
     "data": {
      "text/plain": [
       "array([ 1, 30,  2,  3,  4,  5,  6,  7,  8,  9, 10, 11, 12, 13, 14])"
      ]
     },
     "execution_count": 66,
     "metadata": {},
     "output_type": "execute_result"
    }
   ],
   "source": [
    "np.insert(j,1,30)"
   ]
  },
  {
   "cell_type": "code",
   "execution_count": 70,
   "id": "583cf0ea",
   "metadata": {},
   "outputs": [
    {
     "data": {
      "text/plain": [
       "array([[1, 2, 3, 4, 5, 6, 7]])"
      ]
     },
     "execution_count": 70,
     "metadata": {},
     "output_type": "execute_result"
    }
   ],
   "source": [
    "np.delete(j,1,axis=0)"
   ]
  },
  {
   "cell_type": "code",
   "execution_count": 80,
   "id": "42497719",
   "metadata": {},
   "outputs": [
    {
     "data": {
      "text/plain": [
       "array([[ 1,  2,  3,  4,  5,  6,  7],\n",
       "       [ 8,  9, 10, 11, 12, 13, 14]])"
      ]
     },
     "execution_count": 80,
     "metadata": {},
     "output_type": "execute_result"
    }
   ],
   "source": [
    "j=np.array([[1,2,3,4,5,6,7],[8,9,10,11,12,13,14]])\n",
    "j"
   ]
  },
  {
   "cell_type": "code",
   "execution_count": 86,
   "id": "e6a9b0ae",
   "metadata": {},
   "outputs": [
    {
     "data": {
      "text/plain": [
       "array([[ 1,  2,  3,  4,  5,  6,  7],\n",
       "       [ 8,  9, 10, 11, 12, 13, 14]])"
      ]
     },
     "execution_count": 86,
     "metadata": {},
     "output_type": "execute_result"
    }
   ],
   "source": [
    "j[0,3]=4\n",
    "j"
   ]
  },
  {
   "cell_type": "code",
   "execution_count": 87,
   "id": "23235679",
   "metadata": {},
   "outputs": [
    {
     "data": {
      "text/plain": [
       "array([[ 1,  2,  3,  4,  5,  6,  7],\n",
       "       [ 8,  9, 10, 11, 12, 13, 14]])"
      ]
     },
     "execution_count": 87,
     "metadata": {},
     "output_type": "execute_result"
    }
   ],
   "source": [
    "j"
   ]
  },
  {
   "cell_type": "code",
   "execution_count": 88,
   "id": "baaa80eb",
   "metadata": {},
   "outputs": [
    {
     "data": {
      "text/plain": [
       "array([[1, 2, 3],\n",
       "       [4, 5, 6],\n",
       "       [7, 8, 9]])"
      ]
     },
     "execution_count": 88,
     "metadata": {},
     "output_type": "execute_result"
    }
   ],
   "source": [
    "i=np.array([[1,2,3],[4,5,6],[7,8,9]])\n",
    "i"
   ]
  },
  {
   "cell_type": "code",
   "execution_count": 89,
   "id": "2222706b",
   "metadata": {},
   "outputs": [],
   "source": [
    "i[2,1]=10"
   ]
  },
  {
   "cell_type": "code",
   "execution_count": 90,
   "id": "a5872dee",
   "metadata": {},
   "outputs": [
    {
     "data": {
      "text/plain": [
       "array([[ 1,  2,  3],\n",
       "       [ 4,  5,  6],\n",
       "       [ 7, 10,  9]])"
      ]
     },
     "execution_count": 90,
     "metadata": {},
     "output_type": "execute_result"
    }
   ],
   "source": [
    "i"
   ]
  },
  {
   "cell_type": "code",
   "execution_count": 98,
   "id": "55b01684",
   "metadata": {},
   "outputs": [
    {
     "data": {
      "text/plain": [
       "[array([1]),\n",
       " array([2]),\n",
       " array([3]),\n",
       " array([4]),\n",
       " array([5]),\n",
       " array([6]),\n",
       " array([7]),\n",
       " array([8]),\n",
       " array([9])]"
      ]
     },
     "execution_count": 98,
     "metadata": {},
     "output_type": "execute_result"
    }
   ],
   "source": [
    "k=np.array([1,2,3,4,5,6,7,8,9])\n",
    "k\n",
    "np.split(k,9)"
   ]
  },
  {
   "cell_type": "code",
   "execution_count": 1,
   "id": "dffc9a1c",
   "metadata": {},
   "outputs": [],
   "source": [
    "import pandas as pd\n"
   ]
  },
  {
   "cell_type": "code",
   "execution_count": 11,
   "id": "f6622d87",
   "metadata": {},
   "outputs": [
    {
     "data": {
      "text/plain": [
       "0    70\n",
       "1    90\n",
       "2    80\n",
       "dtype: int64"
      ]
     },
     "execution_count": 11,
     "metadata": {},
     "output_type": "execute_result"
    }
   ],
   "source": [
    "Name = ['js','ks','ws']\n",
    "Marks = [70,90,80]\n",
    "ef=pd.Series(data=Marks)\n",
    "ef"
   ]
  },
  {
   "cell_type": "code",
   "execution_count": 12,
   "id": "e931dee6",
   "metadata": {},
   "outputs": [
    {
     "data": {
      "text/plain": [
       "pandas.core.series.Series"
      ]
     },
     "execution_count": 12,
     "metadata": {},
     "output_type": "execute_result"
    }
   ],
   "source": [
    "type(ef)"
   ]
  },
  {
   "cell_type": "code",
   "execution_count": 13,
   "id": "93b1ad1c",
   "metadata": {},
   "outputs": [
    {
     "data": {
      "text/plain": [
       "{'Name': ['js', 'ks', 'ws'], 'Marks': [70, 90, 80]}"
      ]
     },
     "execution_count": 13,
     "metadata": {},
     "output_type": "execute_result"
    }
   ],
   "source": [
    "Student={'Name':Name,'Marks':Marks}\n",
    "Student"
   ]
  },
  {
   "cell_type": "code",
   "execution_count": 14,
   "id": "cfc841bf",
   "metadata": {},
   "outputs": [
    {
     "data": {
      "text/plain": [
       "dict"
      ]
     },
     "execution_count": 14,
     "metadata": {},
     "output_type": "execute_result"
    }
   ],
   "source": [
    "type(Student)"
   ]
  },
  {
   "cell_type": "code",
   "execution_count": 15,
   "id": "2ca917df",
   "metadata": {},
   "outputs": [
    {
     "data": {
      "text/html": [
       "<div>\n",
       "<style scoped>\n",
       "    .dataframe tbody tr th:only-of-type {\n",
       "        vertical-align: middle;\n",
       "    }\n",
       "\n",
       "    .dataframe tbody tr th {\n",
       "        vertical-align: top;\n",
       "    }\n",
       "\n",
       "    .dataframe thead th {\n",
       "        text-align: right;\n",
       "    }\n",
       "</style>\n",
       "<table border=\"1\" class=\"dataframe\">\n",
       "  <thead>\n",
       "    <tr style=\"text-align: right;\">\n",
       "      <th></th>\n",
       "      <th>Name</th>\n",
       "      <th>Marks</th>\n",
       "    </tr>\n",
       "  </thead>\n",
       "  <tbody>\n",
       "    <tr>\n",
       "      <th>0</th>\n",
       "      <td>js</td>\n",
       "      <td>70</td>\n",
       "    </tr>\n",
       "    <tr>\n",
       "      <th>1</th>\n",
       "      <td>ks</td>\n",
       "      <td>90</td>\n",
       "    </tr>\n",
       "    <tr>\n",
       "      <th>2</th>\n",
       "      <td>ws</td>\n",
       "      <td>80</td>\n",
       "    </tr>\n",
       "  </tbody>\n",
       "</table>\n",
       "</div>"
      ],
      "text/plain": [
       "  Name  Marks\n",
       "0   js     70\n",
       "1   ks     90\n",
       "2   ws     80"
      ]
     },
     "execution_count": 15,
     "metadata": {},
     "output_type": "execute_result"
    }
   ],
   "source": [
    "de=pd.DataFrame(Student)\n",
    "de"
   ]
  },
  {
   "cell_type": "code",
   "execution_count": 16,
   "id": "babecb2e",
   "metadata": {},
   "outputs": [
    {
     "data": {
      "text/plain": [
       "(3, 2)"
      ]
     },
     "execution_count": 16,
     "metadata": {},
     "output_type": "execute_result"
    }
   ],
   "source": [
    "de.shape"
   ]
  },
  {
   "cell_type": "code",
   "execution_count": 17,
   "id": "010445a1",
   "metadata": {},
   "outputs": [
    {
     "data": {
      "text/plain": [
       "<bound method DataFrame.info of   Name  Marks\n",
       "0   js     70\n",
       "1   ks     90\n",
       "2   ws     80>"
      ]
     },
     "execution_count": 17,
     "metadata": {},
     "output_type": "execute_result"
    }
   ],
   "source": [
    "de.info"
   ]
  },
  {
   "cell_type": "code",
   "execution_count": 18,
   "id": "163c0658",
   "metadata": {},
   "outputs": [
    {
     "data": {
      "text/plain": [
       "<bound method NDFrame.describe of   Name  Marks\n",
       "0   js     70\n",
       "1   ks     90\n",
       "2   ws     80>"
      ]
     },
     "execution_count": 18,
     "metadata": {},
     "output_type": "execute_result"
    }
   ],
   "source": [
    "de.describe"
   ]
  },
  {
   "cell_type": "code",
   "execution_count": 20,
   "id": "bcae3a1b",
   "metadata": {},
   "outputs": [
    {
     "data": {
      "text/html": [
       "<div>\n",
       "<style scoped>\n",
       "    .dataframe tbody tr th:only-of-type {\n",
       "        vertical-align: middle;\n",
       "    }\n",
       "\n",
       "    .dataframe tbody tr th {\n",
       "        vertical-align: top;\n",
       "    }\n",
       "\n",
       "    .dataframe thead th {\n",
       "        text-align: right;\n",
       "    }\n",
       "</style>\n",
       "<table border=\"1\" class=\"dataframe\">\n",
       "  <thead>\n",
       "    <tr style=\"text-align: right;\">\n",
       "      <th></th>\n",
       "      <th>Name</th>\n",
       "      <th>Marks</th>\n",
       "    </tr>\n",
       "  </thead>\n",
       "  <tbody>\n",
       "    <tr>\n",
       "      <th>0</th>\n",
       "      <td>js</td>\n",
       "      <td>70</td>\n",
       "    </tr>\n",
       "    <tr>\n",
       "      <th>1</th>\n",
       "      <td>ks</td>\n",
       "      <td>90</td>\n",
       "    </tr>\n",
       "  </tbody>\n",
       "</table>\n",
       "</div>"
      ],
      "text/plain": [
       "  Name  Marks\n",
       "0   js     70\n",
       "1   ks     90"
      ]
     },
     "execution_count": 20,
     "metadata": {},
     "output_type": "execute_result"
    }
   ],
   "source": [
    "de.head(2)"
   ]
  },
  {
   "cell_type": "code",
   "execution_count": 24,
   "id": "d31562e8",
   "metadata": {},
   "outputs": [
    {
     "data": {
      "text/html": [
       "<div>\n",
       "<style scoped>\n",
       "    .dataframe tbody tr th:only-of-type {\n",
       "        vertical-align: middle;\n",
       "    }\n",
       "\n",
       "    .dataframe tbody tr th {\n",
       "        vertical-align: top;\n",
       "    }\n",
       "\n",
       "    .dataframe thead th {\n",
       "        text-align: right;\n",
       "    }\n",
       "</style>\n",
       "<table border=\"1\" class=\"dataframe\">\n",
       "  <thead>\n",
       "    <tr style=\"text-align: right;\">\n",
       "      <th></th>\n",
       "      <th>Name</th>\n",
       "      <th>Marks</th>\n",
       "    </tr>\n",
       "  </thead>\n",
       "  <tbody>\n",
       "    <tr>\n",
       "      <th>2</th>\n",
       "      <td>ws</td>\n",
       "      <td>80</td>\n",
       "    </tr>\n",
       "  </tbody>\n",
       "</table>\n",
       "</div>"
      ],
      "text/plain": [
       "  Name  Marks\n",
       "2   ws     80"
      ]
     },
     "execution_count": 24,
     "metadata": {},
     "output_type": "execute_result"
    }
   ],
   "source": [
    "de.tail(1)"
   ]
  },
  {
   "cell_type": "code",
   "execution_count": 29,
   "id": "baa6f9ac",
   "metadata": {},
   "outputs": [
    {
     "data": {
      "text/plain": [
       "Index(['Name', 'Marks'], dtype='object')"
      ]
     },
     "execution_count": 29,
     "metadata": {},
     "output_type": "execute_result"
    }
   ],
   "source": [
    "de.columns"
   ]
  },
  {
   "cell_type": "code",
   "execution_count": 33,
   "id": "ec4bf004",
   "metadata": {},
   "outputs": [
    {
     "data": {
      "text/html": [
       "<div>\n",
       "<style scoped>\n",
       "    .dataframe tbody tr th:only-of-type {\n",
       "        vertical-align: middle;\n",
       "    }\n",
       "\n",
       "    .dataframe tbody tr th {\n",
       "        vertical-align: top;\n",
       "    }\n",
       "\n",
       "    .dataframe thead th {\n",
       "        text-align: right;\n",
       "    }\n",
       "</style>\n",
       "<table border=\"1\" class=\"dataframe\">\n",
       "  <thead>\n",
       "    <tr style=\"text-align: right;\">\n",
       "      <th></th>\n",
       "      <th>PassengerId</th>\n",
       "      <th>Survived</th>\n",
       "      <th>Pclass</th>\n",
       "      <th>Name</th>\n",
       "      <th>Sex</th>\n",
       "      <th>Age</th>\n",
       "      <th>SibSp</th>\n",
       "      <th>Parch</th>\n",
       "      <th>Ticket</th>\n",
       "      <th>Fare</th>\n",
       "      <th>Cabin</th>\n",
       "      <th>Embarked</th>\n",
       "    </tr>\n",
       "  </thead>\n",
       "  <tbody>\n",
       "    <tr>\n",
       "      <th>0</th>\n",
       "      <td>892</td>\n",
       "      <td>0</td>\n",
       "      <td>3</td>\n",
       "      <td>Kelly, Mr. James</td>\n",
       "      <td>male</td>\n",
       "      <td>34.5</td>\n",
       "      <td>0</td>\n",
       "      <td>0</td>\n",
       "      <td>330911</td>\n",
       "      <td>7.8292</td>\n",
       "      <td>NaN</td>\n",
       "      <td>Q</td>\n",
       "    </tr>\n",
       "    <tr>\n",
       "      <th>1</th>\n",
       "      <td>893</td>\n",
       "      <td>1</td>\n",
       "      <td>3</td>\n",
       "      <td>Wilkes, Mrs. James (Ellen Needs)</td>\n",
       "      <td>female</td>\n",
       "      <td>47.0</td>\n",
       "      <td>1</td>\n",
       "      <td>0</td>\n",
       "      <td>363272</td>\n",
       "      <td>7.0000</td>\n",
       "      <td>NaN</td>\n",
       "      <td>S</td>\n",
       "    </tr>\n",
       "    <tr>\n",
       "      <th>2</th>\n",
       "      <td>894</td>\n",
       "      <td>0</td>\n",
       "      <td>2</td>\n",
       "      <td>Myles, Mr. Thomas Francis</td>\n",
       "      <td>male</td>\n",
       "      <td>62.0</td>\n",
       "      <td>0</td>\n",
       "      <td>0</td>\n",
       "      <td>240276</td>\n",
       "      <td>9.6875</td>\n",
       "      <td>NaN</td>\n",
       "      <td>Q</td>\n",
       "    </tr>\n",
       "    <tr>\n",
       "      <th>3</th>\n",
       "      <td>895</td>\n",
       "      <td>0</td>\n",
       "      <td>3</td>\n",
       "      <td>Wirz, Mr. Albert</td>\n",
       "      <td>male</td>\n",
       "      <td>27.0</td>\n",
       "      <td>0</td>\n",
       "      <td>0</td>\n",
       "      <td>315154</td>\n",
       "      <td>8.6625</td>\n",
       "      <td>NaN</td>\n",
       "      <td>S</td>\n",
       "    </tr>\n",
       "    <tr>\n",
       "      <th>4</th>\n",
       "      <td>896</td>\n",
       "      <td>1</td>\n",
       "      <td>3</td>\n",
       "      <td>Hirvonen, Mrs. Alexander (Helga E Lindqvist)</td>\n",
       "      <td>female</td>\n",
       "      <td>22.0</td>\n",
       "      <td>1</td>\n",
       "      <td>1</td>\n",
       "      <td>3101298</td>\n",
       "      <td>12.2875</td>\n",
       "      <td>NaN</td>\n",
       "      <td>S</td>\n",
       "    </tr>\n",
       "    <tr>\n",
       "      <th>...</th>\n",
       "      <td>...</td>\n",
       "      <td>...</td>\n",
       "      <td>...</td>\n",
       "      <td>...</td>\n",
       "      <td>...</td>\n",
       "      <td>...</td>\n",
       "      <td>...</td>\n",
       "      <td>...</td>\n",
       "      <td>...</td>\n",
       "      <td>...</td>\n",
       "      <td>...</td>\n",
       "      <td>...</td>\n",
       "    </tr>\n",
       "    <tr>\n",
       "      <th>413</th>\n",
       "      <td>1305</td>\n",
       "      <td>0</td>\n",
       "      <td>3</td>\n",
       "      <td>Spector, Mr. Woolf</td>\n",
       "      <td>male</td>\n",
       "      <td>NaN</td>\n",
       "      <td>0</td>\n",
       "      <td>0</td>\n",
       "      <td>A.5. 3236</td>\n",
       "      <td>8.0500</td>\n",
       "      <td>NaN</td>\n",
       "      <td>S</td>\n",
       "    </tr>\n",
       "    <tr>\n",
       "      <th>414</th>\n",
       "      <td>1306</td>\n",
       "      <td>1</td>\n",
       "      <td>1</td>\n",
       "      <td>Oliva y Ocana, Dona. Fermina</td>\n",
       "      <td>female</td>\n",
       "      <td>39.0</td>\n",
       "      <td>0</td>\n",
       "      <td>0</td>\n",
       "      <td>PC 17758</td>\n",
       "      <td>108.9000</td>\n",
       "      <td>C105</td>\n",
       "      <td>C</td>\n",
       "    </tr>\n",
       "    <tr>\n",
       "      <th>415</th>\n",
       "      <td>1307</td>\n",
       "      <td>0</td>\n",
       "      <td>3</td>\n",
       "      <td>Saether, Mr. Simon Sivertsen</td>\n",
       "      <td>male</td>\n",
       "      <td>38.5</td>\n",
       "      <td>0</td>\n",
       "      <td>0</td>\n",
       "      <td>SOTON/O.Q. 3101262</td>\n",
       "      <td>7.2500</td>\n",
       "      <td>NaN</td>\n",
       "      <td>S</td>\n",
       "    </tr>\n",
       "    <tr>\n",
       "      <th>416</th>\n",
       "      <td>1308</td>\n",
       "      <td>0</td>\n",
       "      <td>3</td>\n",
       "      <td>Ware, Mr. Frederick</td>\n",
       "      <td>male</td>\n",
       "      <td>NaN</td>\n",
       "      <td>0</td>\n",
       "      <td>0</td>\n",
       "      <td>359309</td>\n",
       "      <td>8.0500</td>\n",
       "      <td>NaN</td>\n",
       "      <td>S</td>\n",
       "    </tr>\n",
       "    <tr>\n",
       "      <th>417</th>\n",
       "      <td>1309</td>\n",
       "      <td>0</td>\n",
       "      <td>3</td>\n",
       "      <td>Peter, Master. Michael J</td>\n",
       "      <td>male</td>\n",
       "      <td>NaN</td>\n",
       "      <td>1</td>\n",
       "      <td>1</td>\n",
       "      <td>2668</td>\n",
       "      <td>22.3583</td>\n",
       "      <td>NaN</td>\n",
       "      <td>C</td>\n",
       "    </tr>\n",
       "  </tbody>\n",
       "</table>\n",
       "<p>418 rows × 12 columns</p>\n",
       "</div>"
      ],
      "text/plain": [
       "     PassengerId  Survived  Pclass  \\\n",
       "0            892         0       3   \n",
       "1            893         1       3   \n",
       "2            894         0       2   \n",
       "3            895         0       3   \n",
       "4            896         1       3   \n",
       "..           ...       ...     ...   \n",
       "413         1305         0       3   \n",
       "414         1306         1       1   \n",
       "415         1307         0       3   \n",
       "416         1308         0       3   \n",
       "417         1309         0       3   \n",
       "\n",
       "                                             Name     Sex   Age  SibSp  Parch  \\\n",
       "0                                Kelly, Mr. James    male  34.5      0      0   \n",
       "1                Wilkes, Mrs. James (Ellen Needs)  female  47.0      1      0   \n",
       "2                       Myles, Mr. Thomas Francis    male  62.0      0      0   \n",
       "3                                Wirz, Mr. Albert    male  27.0      0      0   \n",
       "4    Hirvonen, Mrs. Alexander (Helga E Lindqvist)  female  22.0      1      1   \n",
       "..                                            ...     ...   ...    ...    ...   \n",
       "413                            Spector, Mr. Woolf    male   NaN      0      0   \n",
       "414                  Oliva y Ocana, Dona. Fermina  female  39.0      0      0   \n",
       "415                  Saether, Mr. Simon Sivertsen    male  38.5      0      0   \n",
       "416                           Ware, Mr. Frederick    male   NaN      0      0   \n",
       "417                      Peter, Master. Michael J    male   NaN      1      1   \n",
       "\n",
       "                 Ticket      Fare Cabin Embarked  \n",
       "0                330911    7.8292   NaN        Q  \n",
       "1                363272    7.0000   NaN        S  \n",
       "2                240276    9.6875   NaN        Q  \n",
       "3                315154    8.6625   NaN        S  \n",
       "4               3101298   12.2875   NaN        S  \n",
       "..                  ...       ...   ...      ...  \n",
       "413           A.5. 3236    8.0500   NaN        S  \n",
       "414            PC 17758  108.9000  C105        C  \n",
       "415  SOTON/O.Q. 3101262    7.2500   NaN        S  \n",
       "416              359309    8.0500   NaN        S  \n",
       "417                2668   22.3583   NaN        C  \n",
       "\n",
       "[418 rows x 12 columns]"
      ]
     },
     "execution_count": 33,
     "metadata": {},
     "output_type": "execute_result"
    }
   ],
   "source": [
    "a=pd.read_csv('tested.csv')\n",
    "a"
   ]
  },
  {
   "cell_type": "code",
   "execution_count": 34,
   "id": "ee29a2c4",
   "metadata": {},
   "outputs": [
    {
     "data": {
      "text/plain": [
       "Index(['PassengerId', 'Survived', 'Pclass', 'Name', 'Sex', 'Age', 'SibSp',\n",
       "       'Parch', 'Ticket', 'Fare', 'Cabin', 'Embarked'],\n",
       "      dtype='object')"
      ]
     },
     "execution_count": 34,
     "metadata": {},
     "output_type": "execute_result"
    }
   ],
   "source": [
    "a.columns"
   ]
  },
  {
   "cell_type": "code",
   "execution_count": 35,
   "id": "1929b6e3",
   "metadata": {},
   "outputs": [
    {
     "data": {
      "text/html": [
       "<div>\n",
       "<style scoped>\n",
       "    .dataframe tbody tr th:only-of-type {\n",
       "        vertical-align: middle;\n",
       "    }\n",
       "\n",
       "    .dataframe tbody tr th {\n",
       "        vertical-align: top;\n",
       "    }\n",
       "\n",
       "    .dataframe thead th {\n",
       "        text-align: right;\n",
       "    }\n",
       "</style>\n",
       "<table border=\"1\" class=\"dataframe\">\n",
       "  <thead>\n",
       "    <tr style=\"text-align: right;\">\n",
       "      <th></th>\n",
       "      <th>PassengerId</th>\n",
       "      <th>Pclass</th>\n",
       "      <th>Name</th>\n",
       "      <th>Ticket</th>\n",
       "    </tr>\n",
       "  </thead>\n",
       "  <tbody>\n",
       "    <tr>\n",
       "      <th>0</th>\n",
       "      <td>892</td>\n",
       "      <td>3</td>\n",
       "      <td>Kelly, Mr. James</td>\n",
       "      <td>330911</td>\n",
       "    </tr>\n",
       "    <tr>\n",
       "      <th>1</th>\n",
       "      <td>893</td>\n",
       "      <td>3</td>\n",
       "      <td>Wilkes, Mrs. James (Ellen Needs)</td>\n",
       "      <td>363272</td>\n",
       "    </tr>\n",
       "    <tr>\n",
       "      <th>2</th>\n",
       "      <td>894</td>\n",
       "      <td>2</td>\n",
       "      <td>Myles, Mr. Thomas Francis</td>\n",
       "      <td>240276</td>\n",
       "    </tr>\n",
       "    <tr>\n",
       "      <th>3</th>\n",
       "      <td>895</td>\n",
       "      <td>3</td>\n",
       "      <td>Wirz, Mr. Albert</td>\n",
       "      <td>315154</td>\n",
       "    </tr>\n",
       "    <tr>\n",
       "      <th>4</th>\n",
       "      <td>896</td>\n",
       "      <td>3</td>\n",
       "      <td>Hirvonen, Mrs. Alexander (Helga E Lindqvist)</td>\n",
       "      <td>3101298</td>\n",
       "    </tr>\n",
       "    <tr>\n",
       "      <th>...</th>\n",
       "      <td>...</td>\n",
       "      <td>...</td>\n",
       "      <td>...</td>\n",
       "      <td>...</td>\n",
       "    </tr>\n",
       "    <tr>\n",
       "      <th>413</th>\n",
       "      <td>1305</td>\n",
       "      <td>3</td>\n",
       "      <td>Spector, Mr. Woolf</td>\n",
       "      <td>A.5. 3236</td>\n",
       "    </tr>\n",
       "    <tr>\n",
       "      <th>414</th>\n",
       "      <td>1306</td>\n",
       "      <td>1</td>\n",
       "      <td>Oliva y Ocana, Dona. Fermina</td>\n",
       "      <td>PC 17758</td>\n",
       "    </tr>\n",
       "    <tr>\n",
       "      <th>415</th>\n",
       "      <td>1307</td>\n",
       "      <td>3</td>\n",
       "      <td>Saether, Mr. Simon Sivertsen</td>\n",
       "      <td>SOTON/O.Q. 3101262</td>\n",
       "    </tr>\n",
       "    <tr>\n",
       "      <th>416</th>\n",
       "      <td>1308</td>\n",
       "      <td>3</td>\n",
       "      <td>Ware, Mr. Frederick</td>\n",
       "      <td>359309</td>\n",
       "    </tr>\n",
       "    <tr>\n",
       "      <th>417</th>\n",
       "      <td>1309</td>\n",
       "      <td>3</td>\n",
       "      <td>Peter, Master. Michael J</td>\n",
       "      <td>2668</td>\n",
       "    </tr>\n",
       "  </tbody>\n",
       "</table>\n",
       "<p>418 rows × 4 columns</p>\n",
       "</div>"
      ],
      "text/plain": [
       "     PassengerId  Pclass                                          Name  \\\n",
       "0            892       3                              Kelly, Mr. James   \n",
       "1            893       3              Wilkes, Mrs. James (Ellen Needs)   \n",
       "2            894       2                     Myles, Mr. Thomas Francis   \n",
       "3            895       3                              Wirz, Mr. Albert   \n",
       "4            896       3  Hirvonen, Mrs. Alexander (Helga E Lindqvist)   \n",
       "..           ...     ...                                           ...   \n",
       "413         1305       3                            Spector, Mr. Woolf   \n",
       "414         1306       1                  Oliva y Ocana, Dona. Fermina   \n",
       "415         1307       3                  Saether, Mr. Simon Sivertsen   \n",
       "416         1308       3                           Ware, Mr. Frederick   \n",
       "417         1309       3                      Peter, Master. Michael J   \n",
       "\n",
       "                 Ticket  \n",
       "0                330911  \n",
       "1                363272  \n",
       "2                240276  \n",
       "3                315154  \n",
       "4               3101298  \n",
       "..                  ...  \n",
       "413           A.5. 3236  \n",
       "414            PC 17758  \n",
       "415  SOTON/O.Q. 3101262  \n",
       "416              359309  \n",
       "417                2668  \n",
       "\n",
       "[418 rows x 4 columns]"
      ]
     },
     "execution_count": 35,
     "metadata": {},
     "output_type": "execute_result"
    }
   ],
   "source": [
    "a[['PassengerId','Pclass','Name','Ticket']]"
   ]
  },
  {
   "cell_type": "code",
   "execution_count": 36,
   "id": "cadcc894",
   "metadata": {},
   "outputs": [
    {
     "data": {
      "text/plain": [
       "<bound method NDFrame.describe of      PassengerId  Survived  Pclass  \\\n",
       "0            892         0       3   \n",
       "1            893         1       3   \n",
       "2            894         0       2   \n",
       "3            895         0       3   \n",
       "4            896         1       3   \n",
       "..           ...       ...     ...   \n",
       "413         1305         0       3   \n",
       "414         1306         1       1   \n",
       "415         1307         0       3   \n",
       "416         1308         0       3   \n",
       "417         1309         0       3   \n",
       "\n",
       "                                             Name     Sex   Age  SibSp  Parch  \\\n",
       "0                                Kelly, Mr. James    male  34.5      0      0   \n",
       "1                Wilkes, Mrs. James (Ellen Needs)  female  47.0      1      0   \n",
       "2                       Myles, Mr. Thomas Francis    male  62.0      0      0   \n",
       "3                                Wirz, Mr. Albert    male  27.0      0      0   \n",
       "4    Hirvonen, Mrs. Alexander (Helga E Lindqvist)  female  22.0      1      1   \n",
       "..                                            ...     ...   ...    ...    ...   \n",
       "413                            Spector, Mr. Woolf    male   NaN      0      0   \n",
       "414                  Oliva y Ocana, Dona. Fermina  female  39.0      0      0   \n",
       "415                  Saether, Mr. Simon Sivertsen    male  38.5      0      0   \n",
       "416                           Ware, Mr. Frederick    male   NaN      0      0   \n",
       "417                      Peter, Master. Michael J    male   NaN      1      1   \n",
       "\n",
       "                 Ticket      Fare Cabin Embarked  \n",
       "0                330911    7.8292   NaN        Q  \n",
       "1                363272    7.0000   NaN        S  \n",
       "2                240276    9.6875   NaN        Q  \n",
       "3                315154    8.6625   NaN        S  \n",
       "4               3101298   12.2875   NaN        S  \n",
       "..                  ...       ...   ...      ...  \n",
       "413           A.5. 3236    8.0500   NaN        S  \n",
       "414            PC 17758  108.9000  C105        C  \n",
       "415  SOTON/O.Q. 3101262    7.2500   NaN        S  \n",
       "416              359309    8.0500   NaN        S  \n",
       "417                2668   22.3583   NaN        C  \n",
       "\n",
       "[418 rows x 12 columns]>"
      ]
     },
     "execution_count": 36,
     "metadata": {},
     "output_type": "execute_result"
    }
   ],
   "source": [
    "a.describe"
   ]
  },
  {
   "cell_type": "code",
   "execution_count": 37,
   "id": "1d24b4e9",
   "metadata": {},
   "outputs": [
    {
     "data": {
      "text/plain": [
       "<bound method DataFrame.info of      PassengerId  Survived  Pclass  \\\n",
       "0            892         0       3   \n",
       "1            893         1       3   \n",
       "2            894         0       2   \n",
       "3            895         0       3   \n",
       "4            896         1       3   \n",
       "..           ...       ...     ...   \n",
       "413         1305         0       3   \n",
       "414         1306         1       1   \n",
       "415         1307         0       3   \n",
       "416         1308         0       3   \n",
       "417         1309         0       3   \n",
       "\n",
       "                                             Name     Sex   Age  SibSp  Parch  \\\n",
       "0                                Kelly, Mr. James    male  34.5      0      0   \n",
       "1                Wilkes, Mrs. James (Ellen Needs)  female  47.0      1      0   \n",
       "2                       Myles, Mr. Thomas Francis    male  62.0      0      0   \n",
       "3                                Wirz, Mr. Albert    male  27.0      0      0   \n",
       "4    Hirvonen, Mrs. Alexander (Helga E Lindqvist)  female  22.0      1      1   \n",
       "..                                            ...     ...   ...    ...    ...   \n",
       "413                            Spector, Mr. Woolf    male   NaN      0      0   \n",
       "414                  Oliva y Ocana, Dona. Fermina  female  39.0      0      0   \n",
       "415                  Saether, Mr. Simon Sivertsen    male  38.5      0      0   \n",
       "416                           Ware, Mr. Frederick    male   NaN      0      0   \n",
       "417                      Peter, Master. Michael J    male   NaN      1      1   \n",
       "\n",
       "                 Ticket      Fare Cabin Embarked  \n",
       "0                330911    7.8292   NaN        Q  \n",
       "1                363272    7.0000   NaN        S  \n",
       "2                240276    9.6875   NaN        Q  \n",
       "3                315154    8.6625   NaN        S  \n",
       "4               3101298   12.2875   NaN        S  \n",
       "..                  ...       ...   ...      ...  \n",
       "413           A.5. 3236    8.0500   NaN        S  \n",
       "414            PC 17758  108.9000  C105        C  \n",
       "415  SOTON/O.Q. 3101262    7.2500   NaN        S  \n",
       "416              359309    8.0500   NaN        S  \n",
       "417                2668   22.3583   NaN        C  \n",
       "\n",
       "[418 rows x 12 columns]>"
      ]
     },
     "execution_count": 37,
     "metadata": {},
     "output_type": "execute_result"
    }
   ],
   "source": [
    "a.info"
   ]
  },
  {
   "cell_type": "code",
   "execution_count": 52,
   "id": "0598b8e6",
   "metadata": {},
   "outputs": [
    {
     "data": {
      "text/html": [
       "<div>\n",
       "<style scoped>\n",
       "    .dataframe tbody tr th:only-of-type {\n",
       "        vertical-align: middle;\n",
       "    }\n",
       "\n",
       "    .dataframe tbody tr th {\n",
       "        vertical-align: top;\n",
       "    }\n",
       "\n",
       "    .dataframe thead th {\n",
       "        text-align: right;\n",
       "    }\n",
       "</style>\n",
       "<table border=\"1\" class=\"dataframe\">\n",
       "  <thead>\n",
       "    <tr style=\"text-align: right;\">\n",
       "      <th></th>\n",
       "      <th>PassengerId</th>\n",
       "      <th>Survived</th>\n",
       "      <th>Pclass</th>\n",
       "      <th>Name</th>\n",
       "      <th>Sex</th>\n",
       "      <th>Age</th>\n",
       "      <th>SibSp</th>\n",
       "      <th>Parch</th>\n",
       "      <th>Ticket</th>\n",
       "      <th>Fare</th>\n",
       "      <th>Cabin</th>\n",
       "      <th>Embarked</th>\n",
       "    </tr>\n",
       "  </thead>\n",
       "  <tbody>\n",
       "  </tbody>\n",
       "</table>\n",
       "</div>"
      ],
      "text/plain": [
       "Empty DataFrame\n",
       "Columns: [PassengerId, Survived, Pclass, Name, Sex, Age, SibSp, Parch, Ticket, Fare, Cabin, Embarked]\n",
       "Index: []"
      ]
     },
     "execution_count": 52,
     "metadata": {},
     "output_type": "execute_result"
    }
   ],
   "source": [
    "# a[(a['Pclass']>2 & (a['Ticket']>330911))]\n",
    "# a\n",
    "df=a[(a['Pclass']<2 & (a['Age']>22.0))]\n",
    "df"
   ]
  },
  {
   "cell_type": "code",
   "execution_count": 48,
   "id": "d235171f",
   "metadata": {},
   "outputs": [
    {
     "data": {
      "text/html": [
       "<div>\n",
       "<style scoped>\n",
       "    .dataframe tbody tr th:only-of-type {\n",
       "        vertical-align: middle;\n",
       "    }\n",
       "\n",
       "    .dataframe tbody tr th {\n",
       "        vertical-align: top;\n",
       "    }\n",
       "\n",
       "    .dataframe thead th {\n",
       "        text-align: right;\n",
       "    }\n",
       "</style>\n",
       "<table border=\"1\" class=\"dataframe\">\n",
       "  <thead>\n",
       "    <tr style=\"text-align: right;\">\n",
       "      <th></th>\n",
       "      <th>PassengerId</th>\n",
       "      <th>Survived</th>\n",
       "      <th>Pclass</th>\n",
       "      <th>Name</th>\n",
       "      <th>Sex</th>\n",
       "      <th>Age</th>\n",
       "      <th>SibSp</th>\n",
       "      <th>Parch</th>\n",
       "      <th>Ticket</th>\n",
       "      <th>Fare</th>\n",
       "      <th>Cabin</th>\n",
       "      <th>Embarked</th>\n",
       "    </tr>\n",
       "  </thead>\n",
       "  <tbody>\n",
       "    <tr>\n",
       "      <th>0</th>\n",
       "      <td>892</td>\n",
       "      <td>0</td>\n",
       "      <td>3</td>\n",
       "      <td>Kelly, Mr. James</td>\n",
       "      <td>male</td>\n",
       "      <td>34.5</td>\n",
       "      <td>0</td>\n",
       "      <td>0</td>\n",
       "      <td>330911</td>\n",
       "      <td>7.8292</td>\n",
       "      <td>NaN</td>\n",
       "      <td>Q</td>\n",
       "    </tr>\n",
       "    <tr>\n",
       "      <th>1</th>\n",
       "      <td>893</td>\n",
       "      <td>1</td>\n",
       "      <td>3</td>\n",
       "      <td>Wilkes, Mrs. James (Ellen Needs)</td>\n",
       "      <td>female</td>\n",
       "      <td>47.0</td>\n",
       "      <td>1</td>\n",
       "      <td>0</td>\n",
       "      <td>363272</td>\n",
       "      <td>7.0000</td>\n",
       "      <td>NaN</td>\n",
       "      <td>S</td>\n",
       "    </tr>\n",
       "    <tr>\n",
       "      <th>2</th>\n",
       "      <td>894</td>\n",
       "      <td>0</td>\n",
       "      <td>2</td>\n",
       "      <td>Myles, Mr. Thomas Francis</td>\n",
       "      <td>male</td>\n",
       "      <td>62.0</td>\n",
       "      <td>0</td>\n",
       "      <td>0</td>\n",
       "      <td>240276</td>\n",
       "      <td>9.6875</td>\n",
       "      <td>NaN</td>\n",
       "      <td>Q</td>\n",
       "    </tr>\n",
       "    <tr>\n",
       "      <th>3</th>\n",
       "      <td>895</td>\n",
       "      <td>0</td>\n",
       "      <td>3</td>\n",
       "      <td>Wirz, Mr. Albert</td>\n",
       "      <td>male</td>\n",
       "      <td>27.0</td>\n",
       "      <td>0</td>\n",
       "      <td>0</td>\n",
       "      <td>315154</td>\n",
       "      <td>8.6625</td>\n",
       "      <td>NaN</td>\n",
       "      <td>S</td>\n",
       "    </tr>\n",
       "    <tr>\n",
       "      <th>4</th>\n",
       "      <td>896</td>\n",
       "      <td>1</td>\n",
       "      <td>3</td>\n",
       "      <td>Hirvonen, Mrs. Alexander (Helga E Lindqvist)</td>\n",
       "      <td>female</td>\n",
       "      <td>22.0</td>\n",
       "      <td>1</td>\n",
       "      <td>1</td>\n",
       "      <td>3101298</td>\n",
       "      <td>12.2875</td>\n",
       "      <td>NaN</td>\n",
       "      <td>S</td>\n",
       "    </tr>\n",
       "    <tr>\n",
       "      <th>...</th>\n",
       "      <td>...</td>\n",
       "      <td>...</td>\n",
       "      <td>...</td>\n",
       "      <td>...</td>\n",
       "      <td>...</td>\n",
       "      <td>...</td>\n",
       "      <td>...</td>\n",
       "      <td>...</td>\n",
       "      <td>...</td>\n",
       "      <td>...</td>\n",
       "      <td>...</td>\n",
       "      <td>...</td>\n",
       "    </tr>\n",
       "    <tr>\n",
       "      <th>413</th>\n",
       "      <td>1305</td>\n",
       "      <td>0</td>\n",
       "      <td>3</td>\n",
       "      <td>Spector, Mr. Woolf</td>\n",
       "      <td>male</td>\n",
       "      <td>NaN</td>\n",
       "      <td>0</td>\n",
       "      <td>0</td>\n",
       "      <td>A.5. 3236</td>\n",
       "      <td>8.0500</td>\n",
       "      <td>NaN</td>\n",
       "      <td>S</td>\n",
       "    </tr>\n",
       "    <tr>\n",
       "      <th>414</th>\n",
       "      <td>1306</td>\n",
       "      <td>1</td>\n",
       "      <td>1</td>\n",
       "      <td>Oliva y Ocana, Dona. Fermina</td>\n",
       "      <td>female</td>\n",
       "      <td>39.0</td>\n",
       "      <td>0</td>\n",
       "      <td>0</td>\n",
       "      <td>PC 17758</td>\n",
       "      <td>108.9000</td>\n",
       "      <td>C105</td>\n",
       "      <td>C</td>\n",
       "    </tr>\n",
       "    <tr>\n",
       "      <th>415</th>\n",
       "      <td>1307</td>\n",
       "      <td>0</td>\n",
       "      <td>3</td>\n",
       "      <td>Saether, Mr. Simon Sivertsen</td>\n",
       "      <td>male</td>\n",
       "      <td>38.5</td>\n",
       "      <td>0</td>\n",
       "      <td>0</td>\n",
       "      <td>SOTON/O.Q. 3101262</td>\n",
       "      <td>7.2500</td>\n",
       "      <td>NaN</td>\n",
       "      <td>S</td>\n",
       "    </tr>\n",
       "    <tr>\n",
       "      <th>416</th>\n",
       "      <td>1308</td>\n",
       "      <td>0</td>\n",
       "      <td>3</td>\n",
       "      <td>Ware, Mr. Frederick</td>\n",
       "      <td>male</td>\n",
       "      <td>NaN</td>\n",
       "      <td>0</td>\n",
       "      <td>0</td>\n",
       "      <td>359309</td>\n",
       "      <td>8.0500</td>\n",
       "      <td>NaN</td>\n",
       "      <td>S</td>\n",
       "    </tr>\n",
       "    <tr>\n",
       "      <th>417</th>\n",
       "      <td>1309</td>\n",
       "      <td>0</td>\n",
       "      <td>3</td>\n",
       "      <td>Peter, Master. Michael J</td>\n",
       "      <td>male</td>\n",
       "      <td>NaN</td>\n",
       "      <td>1</td>\n",
       "      <td>1</td>\n",
       "      <td>2668</td>\n",
       "      <td>22.3583</td>\n",
       "      <td>NaN</td>\n",
       "      <td>C</td>\n",
       "    </tr>\n",
       "  </tbody>\n",
       "</table>\n",
       "<p>418 rows × 12 columns</p>\n",
       "</div>"
      ],
      "text/plain": [
       "     PassengerId  Survived  Pclass  \\\n",
       "0            892         0       3   \n",
       "1            893         1       3   \n",
       "2            894         0       2   \n",
       "3            895         0       3   \n",
       "4            896         1       3   \n",
       "..           ...       ...     ...   \n",
       "413         1305         0       3   \n",
       "414         1306         1       1   \n",
       "415         1307         0       3   \n",
       "416         1308         0       3   \n",
       "417         1309         0       3   \n",
       "\n",
       "                                             Name     Sex   Age  SibSp  Parch  \\\n",
       "0                                Kelly, Mr. James    male  34.5      0      0   \n",
       "1                Wilkes, Mrs. James (Ellen Needs)  female  47.0      1      0   \n",
       "2                       Myles, Mr. Thomas Francis    male  62.0      0      0   \n",
       "3                                Wirz, Mr. Albert    male  27.0      0      0   \n",
       "4    Hirvonen, Mrs. Alexander (Helga E Lindqvist)  female  22.0      1      1   \n",
       "..                                            ...     ...   ...    ...    ...   \n",
       "413                            Spector, Mr. Woolf    male   NaN      0      0   \n",
       "414                  Oliva y Ocana, Dona. Fermina  female  39.0      0      0   \n",
       "415                  Saether, Mr. Simon Sivertsen    male  38.5      0      0   \n",
       "416                           Ware, Mr. Frederick    male   NaN      0      0   \n",
       "417                      Peter, Master. Michael J    male   NaN      1      1   \n",
       "\n",
       "                 Ticket      Fare Cabin Embarked  \n",
       "0                330911    7.8292   NaN        Q  \n",
       "1                363272    7.0000   NaN        S  \n",
       "2                240276    9.6875   NaN        Q  \n",
       "3                315154    8.6625   NaN        S  \n",
       "4               3101298   12.2875   NaN        S  \n",
       "..                  ...       ...   ...      ...  \n",
       "413           A.5. 3236    8.0500   NaN        S  \n",
       "414            PC 17758  108.9000  C105        C  \n",
       "415  SOTON/O.Q. 3101262    7.2500   NaN        S  \n",
       "416              359309    8.0500   NaN        S  \n",
       "417                2668   22.3583   NaN        C  \n",
       "\n",
       "[418 rows x 12 columns]"
      ]
     },
     "execution_count": 48,
     "metadata": {},
     "output_type": "execute_result"
    }
   ],
   "source": [
    "a"
   ]
  },
  {
   "cell_type": "code",
   "execution_count": 49,
   "id": "ed03935c",
   "metadata": {},
   "outputs": [],
   "source": [
    "df=a.drop(columns=['Parch'])"
   ]
  },
  {
   "cell_type": "code",
   "execution_count": 50,
   "id": "900e9cd5",
   "metadata": {},
   "outputs": [
    {
     "data": {
      "text/html": [
       "<div>\n",
       "<style scoped>\n",
       "    .dataframe tbody tr th:only-of-type {\n",
       "        vertical-align: middle;\n",
       "    }\n",
       "\n",
       "    .dataframe tbody tr th {\n",
       "        vertical-align: top;\n",
       "    }\n",
       "\n",
       "    .dataframe thead th {\n",
       "        text-align: right;\n",
       "    }\n",
       "</style>\n",
       "<table border=\"1\" class=\"dataframe\">\n",
       "  <thead>\n",
       "    <tr style=\"text-align: right;\">\n",
       "      <th></th>\n",
       "      <th>PassengerId</th>\n",
       "      <th>Survived</th>\n",
       "      <th>Pclass</th>\n",
       "      <th>Name</th>\n",
       "      <th>Sex</th>\n",
       "      <th>Age</th>\n",
       "      <th>SibSp</th>\n",
       "      <th>Ticket</th>\n",
       "      <th>Fare</th>\n",
       "      <th>Cabin</th>\n",
       "      <th>Embarked</th>\n",
       "    </tr>\n",
       "  </thead>\n",
       "  <tbody>\n",
       "    <tr>\n",
       "      <th>0</th>\n",
       "      <td>892</td>\n",
       "      <td>0</td>\n",
       "      <td>3</td>\n",
       "      <td>Kelly, Mr. James</td>\n",
       "      <td>male</td>\n",
       "      <td>34.5</td>\n",
       "      <td>0</td>\n",
       "      <td>330911</td>\n",
       "      <td>7.8292</td>\n",
       "      <td>NaN</td>\n",
       "      <td>Q</td>\n",
       "    </tr>\n",
       "    <tr>\n",
       "      <th>1</th>\n",
       "      <td>893</td>\n",
       "      <td>1</td>\n",
       "      <td>3</td>\n",
       "      <td>Wilkes, Mrs. James (Ellen Needs)</td>\n",
       "      <td>female</td>\n",
       "      <td>47.0</td>\n",
       "      <td>1</td>\n",
       "      <td>363272</td>\n",
       "      <td>7.0000</td>\n",
       "      <td>NaN</td>\n",
       "      <td>S</td>\n",
       "    </tr>\n",
       "    <tr>\n",
       "      <th>2</th>\n",
       "      <td>894</td>\n",
       "      <td>0</td>\n",
       "      <td>2</td>\n",
       "      <td>Myles, Mr. Thomas Francis</td>\n",
       "      <td>male</td>\n",
       "      <td>62.0</td>\n",
       "      <td>0</td>\n",
       "      <td>240276</td>\n",
       "      <td>9.6875</td>\n",
       "      <td>NaN</td>\n",
       "      <td>Q</td>\n",
       "    </tr>\n",
       "    <tr>\n",
       "      <th>3</th>\n",
       "      <td>895</td>\n",
       "      <td>0</td>\n",
       "      <td>3</td>\n",
       "      <td>Wirz, Mr. Albert</td>\n",
       "      <td>male</td>\n",
       "      <td>27.0</td>\n",
       "      <td>0</td>\n",
       "      <td>315154</td>\n",
       "      <td>8.6625</td>\n",
       "      <td>NaN</td>\n",
       "      <td>S</td>\n",
       "    </tr>\n",
       "    <tr>\n",
       "      <th>4</th>\n",
       "      <td>896</td>\n",
       "      <td>1</td>\n",
       "      <td>3</td>\n",
       "      <td>Hirvonen, Mrs. Alexander (Helga E Lindqvist)</td>\n",
       "      <td>female</td>\n",
       "      <td>22.0</td>\n",
       "      <td>1</td>\n",
       "      <td>3101298</td>\n",
       "      <td>12.2875</td>\n",
       "      <td>NaN</td>\n",
       "      <td>S</td>\n",
       "    </tr>\n",
       "    <tr>\n",
       "      <th>...</th>\n",
       "      <td>...</td>\n",
       "      <td>...</td>\n",
       "      <td>...</td>\n",
       "      <td>...</td>\n",
       "      <td>...</td>\n",
       "      <td>...</td>\n",
       "      <td>...</td>\n",
       "      <td>...</td>\n",
       "      <td>...</td>\n",
       "      <td>...</td>\n",
       "      <td>...</td>\n",
       "    </tr>\n",
       "    <tr>\n",
       "      <th>413</th>\n",
       "      <td>1305</td>\n",
       "      <td>0</td>\n",
       "      <td>3</td>\n",
       "      <td>Spector, Mr. Woolf</td>\n",
       "      <td>male</td>\n",
       "      <td>NaN</td>\n",
       "      <td>0</td>\n",
       "      <td>A.5. 3236</td>\n",
       "      <td>8.0500</td>\n",
       "      <td>NaN</td>\n",
       "      <td>S</td>\n",
       "    </tr>\n",
       "    <tr>\n",
       "      <th>414</th>\n",
       "      <td>1306</td>\n",
       "      <td>1</td>\n",
       "      <td>1</td>\n",
       "      <td>Oliva y Ocana, Dona. Fermina</td>\n",
       "      <td>female</td>\n",
       "      <td>39.0</td>\n",
       "      <td>0</td>\n",
       "      <td>PC 17758</td>\n",
       "      <td>108.9000</td>\n",
       "      <td>C105</td>\n",
       "      <td>C</td>\n",
       "    </tr>\n",
       "    <tr>\n",
       "      <th>415</th>\n",
       "      <td>1307</td>\n",
       "      <td>0</td>\n",
       "      <td>3</td>\n",
       "      <td>Saether, Mr. Simon Sivertsen</td>\n",
       "      <td>male</td>\n",
       "      <td>38.5</td>\n",
       "      <td>0</td>\n",
       "      <td>SOTON/O.Q. 3101262</td>\n",
       "      <td>7.2500</td>\n",
       "      <td>NaN</td>\n",
       "      <td>S</td>\n",
       "    </tr>\n",
       "    <tr>\n",
       "      <th>416</th>\n",
       "      <td>1308</td>\n",
       "      <td>0</td>\n",
       "      <td>3</td>\n",
       "      <td>Ware, Mr. Frederick</td>\n",
       "      <td>male</td>\n",
       "      <td>NaN</td>\n",
       "      <td>0</td>\n",
       "      <td>359309</td>\n",
       "      <td>8.0500</td>\n",
       "      <td>NaN</td>\n",
       "      <td>S</td>\n",
       "    </tr>\n",
       "    <tr>\n",
       "      <th>417</th>\n",
       "      <td>1309</td>\n",
       "      <td>0</td>\n",
       "      <td>3</td>\n",
       "      <td>Peter, Master. Michael J</td>\n",
       "      <td>male</td>\n",
       "      <td>NaN</td>\n",
       "      <td>1</td>\n",
       "      <td>2668</td>\n",
       "      <td>22.3583</td>\n",
       "      <td>NaN</td>\n",
       "      <td>C</td>\n",
       "    </tr>\n",
       "  </tbody>\n",
       "</table>\n",
       "<p>418 rows × 11 columns</p>\n",
       "</div>"
      ],
      "text/plain": [
       "     PassengerId  Survived  Pclass  \\\n",
       "0            892         0       3   \n",
       "1            893         1       3   \n",
       "2            894         0       2   \n",
       "3            895         0       3   \n",
       "4            896         1       3   \n",
       "..           ...       ...     ...   \n",
       "413         1305         0       3   \n",
       "414         1306         1       1   \n",
       "415         1307         0       3   \n",
       "416         1308         0       3   \n",
       "417         1309         0       3   \n",
       "\n",
       "                                             Name     Sex   Age  SibSp  \\\n",
       "0                                Kelly, Mr. James    male  34.5      0   \n",
       "1                Wilkes, Mrs. James (Ellen Needs)  female  47.0      1   \n",
       "2                       Myles, Mr. Thomas Francis    male  62.0      0   \n",
       "3                                Wirz, Mr. Albert    male  27.0      0   \n",
       "4    Hirvonen, Mrs. Alexander (Helga E Lindqvist)  female  22.0      1   \n",
       "..                                            ...     ...   ...    ...   \n",
       "413                            Spector, Mr. Woolf    male   NaN      0   \n",
       "414                  Oliva y Ocana, Dona. Fermina  female  39.0      0   \n",
       "415                  Saether, Mr. Simon Sivertsen    male  38.5      0   \n",
       "416                           Ware, Mr. Frederick    male   NaN      0   \n",
       "417                      Peter, Master. Michael J    male   NaN      1   \n",
       "\n",
       "                 Ticket      Fare Cabin Embarked  \n",
       "0                330911    7.8292   NaN        Q  \n",
       "1                363272    7.0000   NaN        S  \n",
       "2                240276    9.6875   NaN        Q  \n",
       "3                315154    8.6625   NaN        S  \n",
       "4               3101298   12.2875   NaN        S  \n",
       "..                  ...       ...   ...      ...  \n",
       "413           A.5. 3236    8.0500   NaN        S  \n",
       "414            PC 17758  108.9000  C105        C  \n",
       "415  SOTON/O.Q. 3101262    7.2500   NaN        S  \n",
       "416              359309    8.0500   NaN        S  \n",
       "417                2668   22.3583   NaN        C  \n",
       "\n",
       "[418 rows x 11 columns]"
      ]
     },
     "execution_count": 50,
     "metadata": {},
     "output_type": "execute_result"
    }
   ],
   "source": [
    "df"
   ]
  },
  {
   "cell_type": "code",
   "execution_count": 59,
   "id": "a7daf988",
   "metadata": {},
   "outputs": [
    {
     "data": {
      "text/html": [
       "<div>\n",
       "<style scoped>\n",
       "    .dataframe tbody tr th:only-of-type {\n",
       "        vertical-align: middle;\n",
       "    }\n",
       "\n",
       "    .dataframe tbody tr th {\n",
       "        vertical-align: top;\n",
       "    }\n",
       "\n",
       "    .dataframe thead th {\n",
       "        text-align: right;\n",
       "    }\n",
       "</style>\n",
       "<table border=\"1\" class=\"dataframe\">\n",
       "  <thead>\n",
       "    <tr style=\"text-align: right;\">\n",
       "      <th></th>\n",
       "      <th>PassengerId</th>\n",
       "      <th>Survived</th>\n",
       "      <th>Pclass</th>\n",
       "      <th>Name</th>\n",
       "      <th>Sex</th>\n",
       "      <th>Age</th>\n",
       "      <th>SibSp</th>\n",
       "      <th>Parch</th>\n",
       "      <th>Ticket</th>\n",
       "      <th>Fare</th>\n",
       "      <th>Embarked</th>\n",
       "    </tr>\n",
       "  </thead>\n",
       "  <tbody>\n",
       "    <tr>\n",
       "      <th>0</th>\n",
       "      <td>892</td>\n",
       "      <td>0</td>\n",
       "      <td>3</td>\n",
       "      <td>Kelly, Mr. James</td>\n",
       "      <td>male</td>\n",
       "      <td>34.5</td>\n",
       "      <td>0</td>\n",
       "      <td>0</td>\n",
       "      <td>330911</td>\n",
       "      <td>7.8292</td>\n",
       "      <td>Q</td>\n",
       "    </tr>\n",
       "    <tr>\n",
       "      <th>1</th>\n",
       "      <td>893</td>\n",
       "      <td>1</td>\n",
       "      <td>3</td>\n",
       "      <td>Wilkes, Mrs. James (Ellen Needs)</td>\n",
       "      <td>female</td>\n",
       "      <td>47.0</td>\n",
       "      <td>1</td>\n",
       "      <td>0</td>\n",
       "      <td>363272</td>\n",
       "      <td>7.0000</td>\n",
       "      <td>S</td>\n",
       "    </tr>\n",
       "    <tr>\n",
       "      <th>2</th>\n",
       "      <td>894</td>\n",
       "      <td>0</td>\n",
       "      <td>2</td>\n",
       "      <td>Myles, Mr. Thomas Francis</td>\n",
       "      <td>male</td>\n",
       "      <td>62.0</td>\n",
       "      <td>0</td>\n",
       "      <td>0</td>\n",
       "      <td>240276</td>\n",
       "      <td>9.6875</td>\n",
       "      <td>Q</td>\n",
       "    </tr>\n",
       "    <tr>\n",
       "      <th>3</th>\n",
       "      <td>895</td>\n",
       "      <td>0</td>\n",
       "      <td>3</td>\n",
       "      <td>Wirz, Mr. Albert</td>\n",
       "      <td>male</td>\n",
       "      <td>27.0</td>\n",
       "      <td>0</td>\n",
       "      <td>0</td>\n",
       "      <td>315154</td>\n",
       "      <td>8.6625</td>\n",
       "      <td>S</td>\n",
       "    </tr>\n",
       "    <tr>\n",
       "      <th>4</th>\n",
       "      <td>896</td>\n",
       "      <td>1</td>\n",
       "      <td>3</td>\n",
       "      <td>Hirvonen, Mrs. Alexander (Helga E Lindqvist)</td>\n",
       "      <td>female</td>\n",
       "      <td>22.0</td>\n",
       "      <td>1</td>\n",
       "      <td>1</td>\n",
       "      <td>3101298</td>\n",
       "      <td>12.2875</td>\n",
       "      <td>S</td>\n",
       "    </tr>\n",
       "    <tr>\n",
       "      <th>...</th>\n",
       "      <td>...</td>\n",
       "      <td>...</td>\n",
       "      <td>...</td>\n",
       "      <td>...</td>\n",
       "      <td>...</td>\n",
       "      <td>...</td>\n",
       "      <td>...</td>\n",
       "      <td>...</td>\n",
       "      <td>...</td>\n",
       "      <td>...</td>\n",
       "      <td>...</td>\n",
       "    </tr>\n",
       "    <tr>\n",
       "      <th>413</th>\n",
       "      <td>1305</td>\n",
       "      <td>0</td>\n",
       "      <td>3</td>\n",
       "      <td>Spector, Mr. Woolf</td>\n",
       "      <td>male</td>\n",
       "      <td>NaN</td>\n",
       "      <td>0</td>\n",
       "      <td>0</td>\n",
       "      <td>A.5. 3236</td>\n",
       "      <td>8.0500</td>\n",
       "      <td>S</td>\n",
       "    </tr>\n",
       "    <tr>\n",
       "      <th>414</th>\n",
       "      <td>1306</td>\n",
       "      <td>1</td>\n",
       "      <td>1</td>\n",
       "      <td>Oliva y Ocana, Dona. Fermina</td>\n",
       "      <td>female</td>\n",
       "      <td>39.0</td>\n",
       "      <td>0</td>\n",
       "      <td>0</td>\n",
       "      <td>PC 17758</td>\n",
       "      <td>108.9000</td>\n",
       "      <td>C</td>\n",
       "    </tr>\n",
       "    <tr>\n",
       "      <th>415</th>\n",
       "      <td>1307</td>\n",
       "      <td>0</td>\n",
       "      <td>3</td>\n",
       "      <td>Saether, Mr. Simon Sivertsen</td>\n",
       "      <td>male</td>\n",
       "      <td>38.5</td>\n",
       "      <td>0</td>\n",
       "      <td>0</td>\n",
       "      <td>SOTON/O.Q. 3101262</td>\n",
       "      <td>7.2500</td>\n",
       "      <td>S</td>\n",
       "    </tr>\n",
       "    <tr>\n",
       "      <th>416</th>\n",
       "      <td>1308</td>\n",
       "      <td>0</td>\n",
       "      <td>3</td>\n",
       "      <td>Ware, Mr. Frederick</td>\n",
       "      <td>male</td>\n",
       "      <td>NaN</td>\n",
       "      <td>0</td>\n",
       "      <td>0</td>\n",
       "      <td>359309</td>\n",
       "      <td>8.0500</td>\n",
       "      <td>S</td>\n",
       "    </tr>\n",
       "    <tr>\n",
       "      <th>417</th>\n",
       "      <td>1309</td>\n",
       "      <td>0</td>\n",
       "      <td>3</td>\n",
       "      <td>Peter, Master. Michael J</td>\n",
       "      <td>male</td>\n",
       "      <td>NaN</td>\n",
       "      <td>1</td>\n",
       "      <td>1</td>\n",
       "      <td>2668</td>\n",
       "      <td>22.3583</td>\n",
       "      <td>C</td>\n",
       "    </tr>\n",
       "  </tbody>\n",
       "</table>\n",
       "<p>418 rows × 11 columns</p>\n",
       "</div>"
      ],
      "text/plain": [
       "     PassengerId  Survived  Pclass  \\\n",
       "0            892         0       3   \n",
       "1            893         1       3   \n",
       "2            894         0       2   \n",
       "3            895         0       3   \n",
       "4            896         1       3   \n",
       "..           ...       ...     ...   \n",
       "413         1305         0       3   \n",
       "414         1306         1       1   \n",
       "415         1307         0       3   \n",
       "416         1308         0       3   \n",
       "417         1309         0       3   \n",
       "\n",
       "                                             Name     Sex   Age  SibSp  Parch  \\\n",
       "0                                Kelly, Mr. James    male  34.5      0      0   \n",
       "1                Wilkes, Mrs. James (Ellen Needs)  female  47.0      1      0   \n",
       "2                       Myles, Mr. Thomas Francis    male  62.0      0      0   \n",
       "3                                Wirz, Mr. Albert    male  27.0      0      0   \n",
       "4    Hirvonen, Mrs. Alexander (Helga E Lindqvist)  female  22.0      1      1   \n",
       "..                                            ...     ...   ...    ...    ...   \n",
       "413                            Spector, Mr. Woolf    male   NaN      0      0   \n",
       "414                  Oliva y Ocana, Dona. Fermina  female  39.0      0      0   \n",
       "415                  Saether, Mr. Simon Sivertsen    male  38.5      0      0   \n",
       "416                           Ware, Mr. Frederick    male   NaN      0      0   \n",
       "417                      Peter, Master. Michael J    male   NaN      1      1   \n",
       "\n",
       "                 Ticket      Fare Embarked  \n",
       "0                330911    7.8292        Q  \n",
       "1                363272    7.0000        S  \n",
       "2                240276    9.6875        Q  \n",
       "3                315154    8.6625        S  \n",
       "4               3101298   12.2875        S  \n",
       "..                  ...       ...      ...  \n",
       "413           A.5. 3236    8.0500        S  \n",
       "414            PC 17758  108.9000        C  \n",
       "415  SOTON/O.Q. 3101262    7.2500        S  \n",
       "416              359309    8.0500        S  \n",
       "417                2668   22.3583        C  \n",
       "\n",
       "[418 rows x 11 columns]"
      ]
     },
     "execution_count": 59,
     "metadata": {},
     "output_type": "execute_result"
    }
   ],
   "source": [
    "a"
   ]
  },
  {
   "cell_type": "code",
   "execution_count": 60,
   "id": "51345f08",
   "metadata": {},
   "outputs": [],
   "source": [
    "a=pd.read_csv('tested.csv',index_col='Name')"
   ]
  },
  {
   "cell_type": "code",
   "execution_count": 61,
   "id": "84a8fd24",
   "metadata": {},
   "outputs": [
    {
     "data": {
      "text/html": [
       "<div>\n",
       "<style scoped>\n",
       "    .dataframe tbody tr th:only-of-type {\n",
       "        vertical-align: middle;\n",
       "    }\n",
       "\n",
       "    .dataframe tbody tr th {\n",
       "        vertical-align: top;\n",
       "    }\n",
       "\n",
       "    .dataframe thead th {\n",
       "        text-align: right;\n",
       "    }\n",
       "</style>\n",
       "<table border=\"1\" class=\"dataframe\">\n",
       "  <thead>\n",
       "    <tr style=\"text-align: right;\">\n",
       "      <th></th>\n",
       "      <th>PassengerId</th>\n",
       "      <th>Survived</th>\n",
       "      <th>Pclass</th>\n",
       "      <th>Sex</th>\n",
       "      <th>Age</th>\n",
       "      <th>SibSp</th>\n",
       "      <th>Parch</th>\n",
       "      <th>Ticket</th>\n",
       "      <th>Fare</th>\n",
       "      <th>Cabin</th>\n",
       "      <th>Embarked</th>\n",
       "    </tr>\n",
       "    <tr>\n",
       "      <th>Name</th>\n",
       "      <th></th>\n",
       "      <th></th>\n",
       "      <th></th>\n",
       "      <th></th>\n",
       "      <th></th>\n",
       "      <th></th>\n",
       "      <th></th>\n",
       "      <th></th>\n",
       "      <th></th>\n",
       "      <th></th>\n",
       "      <th></th>\n",
       "    </tr>\n",
       "  </thead>\n",
       "  <tbody>\n",
       "    <tr>\n",
       "      <th>Kelly, Mr. James</th>\n",
       "      <td>892</td>\n",
       "      <td>0</td>\n",
       "      <td>3</td>\n",
       "      <td>male</td>\n",
       "      <td>34.5</td>\n",
       "      <td>0</td>\n",
       "      <td>0</td>\n",
       "      <td>330911</td>\n",
       "      <td>7.8292</td>\n",
       "      <td>NaN</td>\n",
       "      <td>Q</td>\n",
       "    </tr>\n",
       "    <tr>\n",
       "      <th>Wilkes, Mrs. James (Ellen Needs)</th>\n",
       "      <td>893</td>\n",
       "      <td>1</td>\n",
       "      <td>3</td>\n",
       "      <td>female</td>\n",
       "      <td>47.0</td>\n",
       "      <td>1</td>\n",
       "      <td>0</td>\n",
       "      <td>363272</td>\n",
       "      <td>7.0000</td>\n",
       "      <td>NaN</td>\n",
       "      <td>S</td>\n",
       "    </tr>\n",
       "    <tr>\n",
       "      <th>Myles, Mr. Thomas Francis</th>\n",
       "      <td>894</td>\n",
       "      <td>0</td>\n",
       "      <td>2</td>\n",
       "      <td>male</td>\n",
       "      <td>62.0</td>\n",
       "      <td>0</td>\n",
       "      <td>0</td>\n",
       "      <td>240276</td>\n",
       "      <td>9.6875</td>\n",
       "      <td>NaN</td>\n",
       "      <td>Q</td>\n",
       "    </tr>\n",
       "    <tr>\n",
       "      <th>Wirz, Mr. Albert</th>\n",
       "      <td>895</td>\n",
       "      <td>0</td>\n",
       "      <td>3</td>\n",
       "      <td>male</td>\n",
       "      <td>27.0</td>\n",
       "      <td>0</td>\n",
       "      <td>0</td>\n",
       "      <td>315154</td>\n",
       "      <td>8.6625</td>\n",
       "      <td>NaN</td>\n",
       "      <td>S</td>\n",
       "    </tr>\n",
       "    <tr>\n",
       "      <th>Hirvonen, Mrs. Alexander (Helga E Lindqvist)</th>\n",
       "      <td>896</td>\n",
       "      <td>1</td>\n",
       "      <td>3</td>\n",
       "      <td>female</td>\n",
       "      <td>22.0</td>\n",
       "      <td>1</td>\n",
       "      <td>1</td>\n",
       "      <td>3101298</td>\n",
       "      <td>12.2875</td>\n",
       "      <td>NaN</td>\n",
       "      <td>S</td>\n",
       "    </tr>\n",
       "    <tr>\n",
       "      <th>...</th>\n",
       "      <td>...</td>\n",
       "      <td>...</td>\n",
       "      <td>...</td>\n",
       "      <td>...</td>\n",
       "      <td>...</td>\n",
       "      <td>...</td>\n",
       "      <td>...</td>\n",
       "      <td>...</td>\n",
       "      <td>...</td>\n",
       "      <td>...</td>\n",
       "      <td>...</td>\n",
       "    </tr>\n",
       "    <tr>\n",
       "      <th>Spector, Mr. Woolf</th>\n",
       "      <td>1305</td>\n",
       "      <td>0</td>\n",
       "      <td>3</td>\n",
       "      <td>male</td>\n",
       "      <td>NaN</td>\n",
       "      <td>0</td>\n",
       "      <td>0</td>\n",
       "      <td>A.5. 3236</td>\n",
       "      <td>8.0500</td>\n",
       "      <td>NaN</td>\n",
       "      <td>S</td>\n",
       "    </tr>\n",
       "    <tr>\n",
       "      <th>Oliva y Ocana, Dona. Fermina</th>\n",
       "      <td>1306</td>\n",
       "      <td>1</td>\n",
       "      <td>1</td>\n",
       "      <td>female</td>\n",
       "      <td>39.0</td>\n",
       "      <td>0</td>\n",
       "      <td>0</td>\n",
       "      <td>PC 17758</td>\n",
       "      <td>108.9000</td>\n",
       "      <td>C105</td>\n",
       "      <td>C</td>\n",
       "    </tr>\n",
       "    <tr>\n",
       "      <th>Saether, Mr. Simon Sivertsen</th>\n",
       "      <td>1307</td>\n",
       "      <td>0</td>\n",
       "      <td>3</td>\n",
       "      <td>male</td>\n",
       "      <td>38.5</td>\n",
       "      <td>0</td>\n",
       "      <td>0</td>\n",
       "      <td>SOTON/O.Q. 3101262</td>\n",
       "      <td>7.2500</td>\n",
       "      <td>NaN</td>\n",
       "      <td>S</td>\n",
       "    </tr>\n",
       "    <tr>\n",
       "      <th>Ware, Mr. Frederick</th>\n",
       "      <td>1308</td>\n",
       "      <td>0</td>\n",
       "      <td>3</td>\n",
       "      <td>male</td>\n",
       "      <td>NaN</td>\n",
       "      <td>0</td>\n",
       "      <td>0</td>\n",
       "      <td>359309</td>\n",
       "      <td>8.0500</td>\n",
       "      <td>NaN</td>\n",
       "      <td>S</td>\n",
       "    </tr>\n",
       "    <tr>\n",
       "      <th>Peter, Master. Michael J</th>\n",
       "      <td>1309</td>\n",
       "      <td>0</td>\n",
       "      <td>3</td>\n",
       "      <td>male</td>\n",
       "      <td>NaN</td>\n",
       "      <td>1</td>\n",
       "      <td>1</td>\n",
       "      <td>2668</td>\n",
       "      <td>22.3583</td>\n",
       "      <td>NaN</td>\n",
       "      <td>C</td>\n",
       "    </tr>\n",
       "  </tbody>\n",
       "</table>\n",
       "<p>418 rows × 11 columns</p>\n",
       "</div>"
      ],
      "text/plain": [
       "                                              PassengerId  Survived  Pclass  \\\n",
       "Name                                                                          \n",
       "Kelly, Mr. James                                      892         0       3   \n",
       "Wilkes, Mrs. James (Ellen Needs)                      893         1       3   \n",
       "Myles, Mr. Thomas Francis                             894         0       2   \n",
       "Wirz, Mr. Albert                                      895         0       3   \n",
       "Hirvonen, Mrs. Alexander (Helga E Lindqvist)          896         1       3   \n",
       "...                                                   ...       ...     ...   \n",
       "Spector, Mr. Woolf                                   1305         0       3   \n",
       "Oliva y Ocana, Dona. Fermina                         1306         1       1   \n",
       "Saether, Mr. Simon Sivertsen                         1307         0       3   \n",
       "Ware, Mr. Frederick                                  1308         0       3   \n",
       "Peter, Master. Michael J                             1309         0       3   \n",
       "\n",
       "                                                 Sex   Age  SibSp  Parch  \\\n",
       "Name                                                                       \n",
       "Kelly, Mr. James                                male  34.5      0      0   \n",
       "Wilkes, Mrs. James (Ellen Needs)              female  47.0      1      0   \n",
       "Myles, Mr. Thomas Francis                       male  62.0      0      0   \n",
       "Wirz, Mr. Albert                                male  27.0      0      0   \n",
       "Hirvonen, Mrs. Alexander (Helga E Lindqvist)  female  22.0      1      1   \n",
       "...                                              ...   ...    ...    ...   \n",
       "Spector, Mr. Woolf                              male   NaN      0      0   \n",
       "Oliva y Ocana, Dona. Fermina                  female  39.0      0      0   \n",
       "Saether, Mr. Simon Sivertsen                    male  38.5      0      0   \n",
       "Ware, Mr. Frederick                             male   NaN      0      0   \n",
       "Peter, Master. Michael J                        male   NaN      1      1   \n",
       "\n",
       "                                                          Ticket      Fare  \\\n",
       "Name                                                                         \n",
       "Kelly, Mr. James                                          330911    7.8292   \n",
       "Wilkes, Mrs. James (Ellen Needs)                          363272    7.0000   \n",
       "Myles, Mr. Thomas Francis                                 240276    9.6875   \n",
       "Wirz, Mr. Albert                                          315154    8.6625   \n",
       "Hirvonen, Mrs. Alexander (Helga E Lindqvist)             3101298   12.2875   \n",
       "...                                                          ...       ...   \n",
       "Spector, Mr. Woolf                                     A.5. 3236    8.0500   \n",
       "Oliva y Ocana, Dona. Fermina                            PC 17758  108.9000   \n",
       "Saether, Mr. Simon Sivertsen                  SOTON/O.Q. 3101262    7.2500   \n",
       "Ware, Mr. Frederick                                       359309    8.0500   \n",
       "Peter, Master. Michael J                                    2668   22.3583   \n",
       "\n",
       "                                             Cabin Embarked  \n",
       "Name                                                         \n",
       "Kelly, Mr. James                               NaN        Q  \n",
       "Wilkes, Mrs. James (Ellen Needs)               NaN        S  \n",
       "Myles, Mr. Thomas Francis                      NaN        Q  \n",
       "Wirz, Mr. Albert                               NaN        S  \n",
       "Hirvonen, Mrs. Alexander (Helga E Lindqvist)   NaN        S  \n",
       "...                                            ...      ...  \n",
       "Spector, Mr. Woolf                             NaN        S  \n",
       "Oliva y Ocana, Dona. Fermina                  C105        C  \n",
       "Saether, Mr. Simon Sivertsen                   NaN        S  \n",
       "Ware, Mr. Frederick                            NaN        S  \n",
       "Peter, Master. Michael J                       NaN        C  \n",
       "\n",
       "[418 rows x 11 columns]"
      ]
     },
     "execution_count": 61,
     "metadata": {},
     "output_type": "execute_result"
    }
   ],
   "source": [
    "a"
   ]
  },
  {
   "cell_type": "code",
   "execution_count": 62,
   "id": "690741f2",
   "metadata": {},
   "outputs": [
    {
     "data": {
      "text/plain": [
       "(418, 11)"
      ]
     },
     "execution_count": 62,
     "metadata": {},
     "output_type": "execute_result"
    }
   ],
   "source": [
    "a.shape"
   ]
  },
  {
   "cell_type": "code",
   "execution_count": 63,
   "id": "0ed1a69e",
   "metadata": {},
   "outputs": [
    {
     "data": {
      "text/html": [
       "<div>\n",
       "<style scoped>\n",
       "    .dataframe tbody tr th:only-of-type {\n",
       "        vertical-align: middle;\n",
       "    }\n",
       "\n",
       "    .dataframe tbody tr th {\n",
       "        vertical-align: top;\n",
       "    }\n",
       "\n",
       "    .dataframe thead th {\n",
       "        text-align: right;\n",
       "    }\n",
       "</style>\n",
       "<table border=\"1\" class=\"dataframe\">\n",
       "  <thead>\n",
       "    <tr style=\"text-align: right;\">\n",
       "      <th></th>\n",
       "      <th>PassengerId</th>\n",
       "      <th>Survived</th>\n",
       "      <th>Pclass</th>\n",
       "      <th>Sex</th>\n",
       "      <th>Age</th>\n",
       "      <th>SibSp</th>\n",
       "      <th>Parch</th>\n",
       "      <th>Ticket</th>\n",
       "      <th>Fare</th>\n",
       "      <th>Cabin</th>\n",
       "      <th>Embarked</th>\n",
       "    </tr>\n",
       "    <tr>\n",
       "      <th>Name</th>\n",
       "      <th></th>\n",
       "      <th></th>\n",
       "      <th></th>\n",
       "      <th></th>\n",
       "      <th></th>\n",
       "      <th></th>\n",
       "      <th></th>\n",
       "      <th></th>\n",
       "      <th></th>\n",
       "      <th></th>\n",
       "      <th></th>\n",
       "    </tr>\n",
       "  </thead>\n",
       "  <tbody>\n",
       "    <tr>\n",
       "      <th>Kelly, Mr. James</th>\n",
       "      <td>892</td>\n",
       "      <td>0</td>\n",
       "      <td>3</td>\n",
       "      <td>male</td>\n",
       "      <td>34.5</td>\n",
       "      <td>0</td>\n",
       "      <td>0</td>\n",
       "      <td>330911</td>\n",
       "      <td>7.8292</td>\n",
       "      <td>NaN</td>\n",
       "      <td>Q</td>\n",
       "    </tr>\n",
       "    <tr>\n",
       "      <th>Wilkes, Mrs. James (Ellen Needs)</th>\n",
       "      <td>893</td>\n",
       "      <td>1</td>\n",
       "      <td>3</td>\n",
       "      <td>female</td>\n",
       "      <td>47.0</td>\n",
       "      <td>1</td>\n",
       "      <td>0</td>\n",
       "      <td>363272</td>\n",
       "      <td>7.0000</td>\n",
       "      <td>NaN</td>\n",
       "      <td>S</td>\n",
       "    </tr>\n",
       "    <tr>\n",
       "      <th>Myles, Mr. Thomas Francis</th>\n",
       "      <td>894</td>\n",
       "      <td>0</td>\n",
       "      <td>2</td>\n",
       "      <td>male</td>\n",
       "      <td>62.0</td>\n",
       "      <td>0</td>\n",
       "      <td>0</td>\n",
       "      <td>240276</td>\n",
       "      <td>9.6875</td>\n",
       "      <td>NaN</td>\n",
       "      <td>Q</td>\n",
       "    </tr>\n",
       "    <tr>\n",
       "      <th>Wirz, Mr. Albert</th>\n",
       "      <td>895</td>\n",
       "      <td>0</td>\n",
       "      <td>3</td>\n",
       "      <td>male</td>\n",
       "      <td>27.0</td>\n",
       "      <td>0</td>\n",
       "      <td>0</td>\n",
       "      <td>315154</td>\n",
       "      <td>8.6625</td>\n",
       "      <td>NaN</td>\n",
       "      <td>S</td>\n",
       "    </tr>\n",
       "    <tr>\n",
       "      <th>Hirvonen, Mrs. Alexander (Helga E Lindqvist)</th>\n",
       "      <td>896</td>\n",
       "      <td>1</td>\n",
       "      <td>3</td>\n",
       "      <td>female</td>\n",
       "      <td>22.0</td>\n",
       "      <td>1</td>\n",
       "      <td>1</td>\n",
       "      <td>3101298</td>\n",
       "      <td>12.2875</td>\n",
       "      <td>NaN</td>\n",
       "      <td>S</td>\n",
       "    </tr>\n",
       "    <tr>\n",
       "      <th>Svensson, Mr. Johan Cervin</th>\n",
       "      <td>897</td>\n",
       "      <td>0</td>\n",
       "      <td>3</td>\n",
       "      <td>male</td>\n",
       "      <td>14.0</td>\n",
       "      <td>0</td>\n",
       "      <td>0</td>\n",
       "      <td>7538</td>\n",
       "      <td>9.2250</td>\n",
       "      <td>NaN</td>\n",
       "      <td>S</td>\n",
       "    </tr>\n",
       "    <tr>\n",
       "      <th>Connolly, Miss. Kate</th>\n",
       "      <td>898</td>\n",
       "      <td>1</td>\n",
       "      <td>3</td>\n",
       "      <td>female</td>\n",
       "      <td>30.0</td>\n",
       "      <td>0</td>\n",
       "      <td>0</td>\n",
       "      <td>330972</td>\n",
       "      <td>7.6292</td>\n",
       "      <td>NaN</td>\n",
       "      <td>Q</td>\n",
       "    </tr>\n",
       "    <tr>\n",
       "      <th>Caldwell, Mr. Albert Francis</th>\n",
       "      <td>899</td>\n",
       "      <td>0</td>\n",
       "      <td>2</td>\n",
       "      <td>male</td>\n",
       "      <td>26.0</td>\n",
       "      <td>1</td>\n",
       "      <td>1</td>\n",
       "      <td>248738</td>\n",
       "      <td>29.0000</td>\n",
       "      <td>NaN</td>\n",
       "      <td>S</td>\n",
       "    </tr>\n",
       "    <tr>\n",
       "      <th>Abrahim, Mrs. Joseph (Sophie Halaut Easu)</th>\n",
       "      <td>900</td>\n",
       "      <td>1</td>\n",
       "      <td>3</td>\n",
       "      <td>female</td>\n",
       "      <td>18.0</td>\n",
       "      <td>0</td>\n",
       "      <td>0</td>\n",
       "      <td>2657</td>\n",
       "      <td>7.2292</td>\n",
       "      <td>NaN</td>\n",
       "      <td>C</td>\n",
       "    </tr>\n",
       "    <tr>\n",
       "      <th>Davies, Mr. John Samuel</th>\n",
       "      <td>901</td>\n",
       "      <td>0</td>\n",
       "      <td>3</td>\n",
       "      <td>male</td>\n",
       "      <td>21.0</td>\n",
       "      <td>2</td>\n",
       "      <td>0</td>\n",
       "      <td>A/4 48871</td>\n",
       "      <td>24.1500</td>\n",
       "      <td>NaN</td>\n",
       "      <td>S</td>\n",
       "    </tr>\n",
       "  </tbody>\n",
       "</table>\n",
       "</div>"
      ],
      "text/plain": [
       "                                              PassengerId  Survived  Pclass  \\\n",
       "Name                                                                          \n",
       "Kelly, Mr. James                                      892         0       3   \n",
       "Wilkes, Mrs. James (Ellen Needs)                      893         1       3   \n",
       "Myles, Mr. Thomas Francis                             894         0       2   \n",
       "Wirz, Mr. Albert                                      895         0       3   \n",
       "Hirvonen, Mrs. Alexander (Helga E Lindqvist)          896         1       3   \n",
       "Svensson, Mr. Johan Cervin                            897         0       3   \n",
       "Connolly, Miss. Kate                                  898         1       3   \n",
       "Caldwell, Mr. Albert Francis                          899         0       2   \n",
       "Abrahim, Mrs. Joseph (Sophie Halaut Easu)             900         1       3   \n",
       "Davies, Mr. John Samuel                               901         0       3   \n",
       "\n",
       "                                                 Sex   Age  SibSp  Parch  \\\n",
       "Name                                                                       \n",
       "Kelly, Mr. James                                male  34.5      0      0   \n",
       "Wilkes, Mrs. James (Ellen Needs)              female  47.0      1      0   \n",
       "Myles, Mr. Thomas Francis                       male  62.0      0      0   \n",
       "Wirz, Mr. Albert                                male  27.0      0      0   \n",
       "Hirvonen, Mrs. Alexander (Helga E Lindqvist)  female  22.0      1      1   \n",
       "Svensson, Mr. Johan Cervin                      male  14.0      0      0   \n",
       "Connolly, Miss. Kate                          female  30.0      0      0   \n",
       "Caldwell, Mr. Albert Francis                    male  26.0      1      1   \n",
       "Abrahim, Mrs. Joseph (Sophie Halaut Easu)     female  18.0      0      0   \n",
       "Davies, Mr. John Samuel                         male  21.0      2      0   \n",
       "\n",
       "                                                 Ticket     Fare Cabin  \\\n",
       "Name                                                                     \n",
       "Kelly, Mr. James                                 330911   7.8292   NaN   \n",
       "Wilkes, Mrs. James (Ellen Needs)                 363272   7.0000   NaN   \n",
       "Myles, Mr. Thomas Francis                        240276   9.6875   NaN   \n",
       "Wirz, Mr. Albert                                 315154   8.6625   NaN   \n",
       "Hirvonen, Mrs. Alexander (Helga E Lindqvist)    3101298  12.2875   NaN   \n",
       "Svensson, Mr. Johan Cervin                         7538   9.2250   NaN   \n",
       "Connolly, Miss. Kate                             330972   7.6292   NaN   \n",
       "Caldwell, Mr. Albert Francis                     248738  29.0000   NaN   \n",
       "Abrahim, Mrs. Joseph (Sophie Halaut Easu)          2657   7.2292   NaN   \n",
       "Davies, Mr. John Samuel                       A/4 48871  24.1500   NaN   \n",
       "\n",
       "                                             Embarked  \n",
       "Name                                                   \n",
       "Kelly, Mr. James                                    Q  \n",
       "Wilkes, Mrs. James (Ellen Needs)                    S  \n",
       "Myles, Mr. Thomas Francis                           Q  \n",
       "Wirz, Mr. Albert                                    S  \n",
       "Hirvonen, Mrs. Alexander (Helga E Lindqvist)        S  \n",
       "Svensson, Mr. Johan Cervin                          S  \n",
       "Connolly, Miss. Kate                                Q  \n",
       "Caldwell, Mr. Albert Francis                        S  \n",
       "Abrahim, Mrs. Joseph (Sophie Halaut Easu)           C  \n",
       "Davies, Mr. John Samuel                             S  "
      ]
     },
     "execution_count": 63,
     "metadata": {},
     "output_type": "execute_result"
    }
   ],
   "source": [
    "a.head(10)"
   ]
  },
  {
   "cell_type": "code",
   "execution_count": 64,
   "id": "7cb3c89d",
   "metadata": {},
   "outputs": [
    {
     "data": {
      "text/html": [
       "<div>\n",
       "<style scoped>\n",
       "    .dataframe tbody tr th:only-of-type {\n",
       "        vertical-align: middle;\n",
       "    }\n",
       "\n",
       "    .dataframe tbody tr th {\n",
       "        vertical-align: top;\n",
       "    }\n",
       "\n",
       "    .dataframe thead th {\n",
       "        text-align: right;\n",
       "    }\n",
       "</style>\n",
       "<table border=\"1\" class=\"dataframe\">\n",
       "  <thead>\n",
       "    <tr style=\"text-align: right;\">\n",
       "      <th></th>\n",
       "      <th>PassengerId</th>\n",
       "      <th>Survived</th>\n",
       "      <th>Pclass</th>\n",
       "      <th>Sex</th>\n",
       "      <th>Age</th>\n",
       "      <th>SibSp</th>\n",
       "      <th>Parch</th>\n",
       "      <th>Ticket</th>\n",
       "      <th>Fare</th>\n",
       "      <th>Cabin</th>\n",
       "      <th>Embarked</th>\n",
       "    </tr>\n",
       "    <tr>\n",
       "      <th>Name</th>\n",
       "      <th></th>\n",
       "      <th></th>\n",
       "      <th></th>\n",
       "      <th></th>\n",
       "      <th></th>\n",
       "      <th></th>\n",
       "      <th></th>\n",
       "      <th></th>\n",
       "      <th></th>\n",
       "      <th></th>\n",
       "      <th></th>\n",
       "    </tr>\n",
       "  </thead>\n",
       "  <tbody>\n",
       "    <tr>\n",
       "      <th>Riordan, Miss. Johanna Hannah\"\"</th>\n",
       "      <td>1300</td>\n",
       "      <td>1</td>\n",
       "      <td>3</td>\n",
       "      <td>female</td>\n",
       "      <td>NaN</td>\n",
       "      <td>0</td>\n",
       "      <td>0</td>\n",
       "      <td>334915</td>\n",
       "      <td>7.7208</td>\n",
       "      <td>NaN</td>\n",
       "      <td>Q</td>\n",
       "    </tr>\n",
       "    <tr>\n",
       "      <th>Peacock, Miss. Treasteall</th>\n",
       "      <td>1301</td>\n",
       "      <td>1</td>\n",
       "      <td>3</td>\n",
       "      <td>female</td>\n",
       "      <td>3.0</td>\n",
       "      <td>1</td>\n",
       "      <td>1</td>\n",
       "      <td>SOTON/O.Q. 3101315</td>\n",
       "      <td>13.7750</td>\n",
       "      <td>NaN</td>\n",
       "      <td>S</td>\n",
       "    </tr>\n",
       "    <tr>\n",
       "      <th>Naughton, Miss. Hannah</th>\n",
       "      <td>1302</td>\n",
       "      <td>1</td>\n",
       "      <td>3</td>\n",
       "      <td>female</td>\n",
       "      <td>NaN</td>\n",
       "      <td>0</td>\n",
       "      <td>0</td>\n",
       "      <td>365237</td>\n",
       "      <td>7.7500</td>\n",
       "      <td>NaN</td>\n",
       "      <td>Q</td>\n",
       "    </tr>\n",
       "    <tr>\n",
       "      <th>Minahan, Mrs. William Edward (Lillian E Thorpe)</th>\n",
       "      <td>1303</td>\n",
       "      <td>1</td>\n",
       "      <td>1</td>\n",
       "      <td>female</td>\n",
       "      <td>37.0</td>\n",
       "      <td>1</td>\n",
       "      <td>0</td>\n",
       "      <td>19928</td>\n",
       "      <td>90.0000</td>\n",
       "      <td>C78</td>\n",
       "      <td>Q</td>\n",
       "    </tr>\n",
       "    <tr>\n",
       "      <th>Henriksson, Miss. Jenny Lovisa</th>\n",
       "      <td>1304</td>\n",
       "      <td>1</td>\n",
       "      <td>3</td>\n",
       "      <td>female</td>\n",
       "      <td>28.0</td>\n",
       "      <td>0</td>\n",
       "      <td>0</td>\n",
       "      <td>347086</td>\n",
       "      <td>7.7750</td>\n",
       "      <td>NaN</td>\n",
       "      <td>S</td>\n",
       "    </tr>\n",
       "    <tr>\n",
       "      <th>Spector, Mr. Woolf</th>\n",
       "      <td>1305</td>\n",
       "      <td>0</td>\n",
       "      <td>3</td>\n",
       "      <td>male</td>\n",
       "      <td>NaN</td>\n",
       "      <td>0</td>\n",
       "      <td>0</td>\n",
       "      <td>A.5. 3236</td>\n",
       "      <td>8.0500</td>\n",
       "      <td>NaN</td>\n",
       "      <td>S</td>\n",
       "    </tr>\n",
       "    <tr>\n",
       "      <th>Oliva y Ocana, Dona. Fermina</th>\n",
       "      <td>1306</td>\n",
       "      <td>1</td>\n",
       "      <td>1</td>\n",
       "      <td>female</td>\n",
       "      <td>39.0</td>\n",
       "      <td>0</td>\n",
       "      <td>0</td>\n",
       "      <td>PC 17758</td>\n",
       "      <td>108.9000</td>\n",
       "      <td>C105</td>\n",
       "      <td>C</td>\n",
       "    </tr>\n",
       "    <tr>\n",
       "      <th>Saether, Mr. Simon Sivertsen</th>\n",
       "      <td>1307</td>\n",
       "      <td>0</td>\n",
       "      <td>3</td>\n",
       "      <td>male</td>\n",
       "      <td>38.5</td>\n",
       "      <td>0</td>\n",
       "      <td>0</td>\n",
       "      <td>SOTON/O.Q. 3101262</td>\n",
       "      <td>7.2500</td>\n",
       "      <td>NaN</td>\n",
       "      <td>S</td>\n",
       "    </tr>\n",
       "    <tr>\n",
       "      <th>Ware, Mr. Frederick</th>\n",
       "      <td>1308</td>\n",
       "      <td>0</td>\n",
       "      <td>3</td>\n",
       "      <td>male</td>\n",
       "      <td>NaN</td>\n",
       "      <td>0</td>\n",
       "      <td>0</td>\n",
       "      <td>359309</td>\n",
       "      <td>8.0500</td>\n",
       "      <td>NaN</td>\n",
       "      <td>S</td>\n",
       "    </tr>\n",
       "    <tr>\n",
       "      <th>Peter, Master. Michael J</th>\n",
       "      <td>1309</td>\n",
       "      <td>0</td>\n",
       "      <td>3</td>\n",
       "      <td>male</td>\n",
       "      <td>NaN</td>\n",
       "      <td>1</td>\n",
       "      <td>1</td>\n",
       "      <td>2668</td>\n",
       "      <td>22.3583</td>\n",
       "      <td>NaN</td>\n",
       "      <td>C</td>\n",
       "    </tr>\n",
       "  </tbody>\n",
       "</table>\n",
       "</div>"
      ],
      "text/plain": [
       "                                                 PassengerId  Survived  \\\n",
       "Name                                                                     \n",
       "Riordan, Miss. Johanna Hannah\"\"                         1300         1   \n",
       "Peacock, Miss. Treasteall                               1301         1   \n",
       "Naughton, Miss. Hannah                                  1302         1   \n",
       "Minahan, Mrs. William Edward (Lillian E Thorpe)         1303         1   \n",
       "Henriksson, Miss. Jenny Lovisa                          1304         1   \n",
       "Spector, Mr. Woolf                                      1305         0   \n",
       "Oliva y Ocana, Dona. Fermina                            1306         1   \n",
       "Saether, Mr. Simon Sivertsen                            1307         0   \n",
       "Ware, Mr. Frederick                                     1308         0   \n",
       "Peter, Master. Michael J                                1309         0   \n",
       "\n",
       "                                                 Pclass     Sex   Age  SibSp  \\\n",
       "Name                                                                           \n",
       "Riordan, Miss. Johanna Hannah\"\"                       3  female   NaN      0   \n",
       "Peacock, Miss. Treasteall                             3  female   3.0      1   \n",
       "Naughton, Miss. Hannah                                3  female   NaN      0   \n",
       "Minahan, Mrs. William Edward (Lillian E Thorpe)       1  female  37.0      1   \n",
       "Henriksson, Miss. Jenny Lovisa                        3  female  28.0      0   \n",
       "Spector, Mr. Woolf                                    3    male   NaN      0   \n",
       "Oliva y Ocana, Dona. Fermina                          1  female  39.0      0   \n",
       "Saether, Mr. Simon Sivertsen                          3    male  38.5      0   \n",
       "Ware, Mr. Frederick                                   3    male   NaN      0   \n",
       "Peter, Master. Michael J                              3    male   NaN      1   \n",
       "\n",
       "                                                 Parch              Ticket  \\\n",
       "Name                                                                         \n",
       "Riordan, Miss. Johanna Hannah\"\"                      0              334915   \n",
       "Peacock, Miss. Treasteall                            1  SOTON/O.Q. 3101315   \n",
       "Naughton, Miss. Hannah                               0              365237   \n",
       "Minahan, Mrs. William Edward (Lillian E Thorpe)      0               19928   \n",
       "Henriksson, Miss. Jenny Lovisa                       0              347086   \n",
       "Spector, Mr. Woolf                                   0           A.5. 3236   \n",
       "Oliva y Ocana, Dona. Fermina                         0            PC 17758   \n",
       "Saether, Mr. Simon Sivertsen                         0  SOTON/O.Q. 3101262   \n",
       "Ware, Mr. Frederick                                  0              359309   \n",
       "Peter, Master. Michael J                             1                2668   \n",
       "\n",
       "                                                     Fare Cabin Embarked  \n",
       "Name                                                                      \n",
       "Riordan, Miss. Johanna Hannah\"\"                    7.7208   NaN        Q  \n",
       "Peacock, Miss. Treasteall                         13.7750   NaN        S  \n",
       "Naughton, Miss. Hannah                             7.7500   NaN        Q  \n",
       "Minahan, Mrs. William Edward (Lillian E Thorpe)   90.0000   C78        Q  \n",
       "Henriksson, Miss. Jenny Lovisa                     7.7750   NaN        S  \n",
       "Spector, Mr. Woolf                                 8.0500   NaN        S  \n",
       "Oliva y Ocana, Dona. Fermina                     108.9000  C105        C  \n",
       "Saether, Mr. Simon Sivertsen                       7.2500   NaN        S  \n",
       "Ware, Mr. Frederick                                8.0500   NaN        S  \n",
       "Peter, Master. Michael J                          22.3583   NaN        C  "
      ]
     },
     "execution_count": 64,
     "metadata": {},
     "output_type": "execute_result"
    }
   ],
   "source": [
    "a.tail(10)"
   ]
  },
  {
   "cell_type": "code",
   "execution_count": 65,
   "id": "b7e5078d",
   "metadata": {},
   "outputs": [
    {
     "name": "stdout",
     "output_type": "stream",
     "text": [
      "<class 'pandas.core.frame.DataFrame'>\n",
      "Index: 418 entries, Kelly, Mr. James to Peter, Master. Michael J\n",
      "Data columns (total 11 columns):\n",
      " #   Column       Non-Null Count  Dtype  \n",
      "---  ------       --------------  -----  \n",
      " 0   PassengerId  418 non-null    int64  \n",
      " 1   Survived     418 non-null    int64  \n",
      " 2   Pclass       418 non-null    int64  \n",
      " 3   Sex          418 non-null    object \n",
      " 4   Age          332 non-null    float64\n",
      " 5   SibSp        418 non-null    int64  \n",
      " 6   Parch        418 non-null    int64  \n",
      " 7   Ticket       418 non-null    object \n",
      " 8   Fare         417 non-null    float64\n",
      " 9   Cabin        91 non-null     object \n",
      " 10  Embarked     418 non-null    object \n",
      "dtypes: float64(2), int64(5), object(4)\n",
      "memory usage: 39.2+ KB\n"
     ]
    }
   ],
   "source": [
    "a.info()"
   ]
  },
  {
   "cell_type": "code",
   "execution_count": 66,
   "id": "a64a5925",
   "metadata": {},
   "outputs": [
    {
     "data": {
      "text/html": [
       "<div>\n",
       "<style scoped>\n",
       "    .dataframe tbody tr th:only-of-type {\n",
       "        vertical-align: middle;\n",
       "    }\n",
       "\n",
       "    .dataframe tbody tr th {\n",
       "        vertical-align: top;\n",
       "    }\n",
       "\n",
       "    .dataframe thead th {\n",
       "        text-align: right;\n",
       "    }\n",
       "</style>\n",
       "<table border=\"1\" class=\"dataframe\">\n",
       "  <thead>\n",
       "    <tr style=\"text-align: right;\">\n",
       "      <th></th>\n",
       "      <th>PassengerId</th>\n",
       "      <th>Survived</th>\n",
       "      <th>Pclass</th>\n",
       "      <th>Age</th>\n",
       "      <th>SibSp</th>\n",
       "      <th>Parch</th>\n",
       "      <th>Fare</th>\n",
       "    </tr>\n",
       "  </thead>\n",
       "  <tbody>\n",
       "    <tr>\n",
       "      <th>count</th>\n",
       "      <td>418.000000</td>\n",
       "      <td>418.000000</td>\n",
       "      <td>418.000000</td>\n",
       "      <td>332.000000</td>\n",
       "      <td>418.000000</td>\n",
       "      <td>418.000000</td>\n",
       "      <td>417.000000</td>\n",
       "    </tr>\n",
       "    <tr>\n",
       "      <th>mean</th>\n",
       "      <td>1100.500000</td>\n",
       "      <td>0.363636</td>\n",
       "      <td>2.265550</td>\n",
       "      <td>30.272590</td>\n",
       "      <td>0.447368</td>\n",
       "      <td>0.392344</td>\n",
       "      <td>35.627188</td>\n",
       "    </tr>\n",
       "    <tr>\n",
       "      <th>std</th>\n",
       "      <td>120.810458</td>\n",
       "      <td>0.481622</td>\n",
       "      <td>0.841838</td>\n",
       "      <td>14.181209</td>\n",
       "      <td>0.896760</td>\n",
       "      <td>0.981429</td>\n",
       "      <td>55.907576</td>\n",
       "    </tr>\n",
       "    <tr>\n",
       "      <th>min</th>\n",
       "      <td>892.000000</td>\n",
       "      <td>0.000000</td>\n",
       "      <td>1.000000</td>\n",
       "      <td>0.170000</td>\n",
       "      <td>0.000000</td>\n",
       "      <td>0.000000</td>\n",
       "      <td>0.000000</td>\n",
       "    </tr>\n",
       "    <tr>\n",
       "      <th>25%</th>\n",
       "      <td>996.250000</td>\n",
       "      <td>0.000000</td>\n",
       "      <td>1.000000</td>\n",
       "      <td>21.000000</td>\n",
       "      <td>0.000000</td>\n",
       "      <td>0.000000</td>\n",
       "      <td>7.895800</td>\n",
       "    </tr>\n",
       "    <tr>\n",
       "      <th>50%</th>\n",
       "      <td>1100.500000</td>\n",
       "      <td>0.000000</td>\n",
       "      <td>3.000000</td>\n",
       "      <td>27.000000</td>\n",
       "      <td>0.000000</td>\n",
       "      <td>0.000000</td>\n",
       "      <td>14.454200</td>\n",
       "    </tr>\n",
       "    <tr>\n",
       "      <th>75%</th>\n",
       "      <td>1204.750000</td>\n",
       "      <td>1.000000</td>\n",
       "      <td>3.000000</td>\n",
       "      <td>39.000000</td>\n",
       "      <td>1.000000</td>\n",
       "      <td>0.000000</td>\n",
       "      <td>31.500000</td>\n",
       "    </tr>\n",
       "    <tr>\n",
       "      <th>max</th>\n",
       "      <td>1309.000000</td>\n",
       "      <td>1.000000</td>\n",
       "      <td>3.000000</td>\n",
       "      <td>76.000000</td>\n",
       "      <td>8.000000</td>\n",
       "      <td>9.000000</td>\n",
       "      <td>512.329200</td>\n",
       "    </tr>\n",
       "  </tbody>\n",
       "</table>\n",
       "</div>"
      ],
      "text/plain": [
       "       PassengerId    Survived      Pclass         Age       SibSp  \\\n",
       "count   418.000000  418.000000  418.000000  332.000000  418.000000   \n",
       "mean   1100.500000    0.363636    2.265550   30.272590    0.447368   \n",
       "std     120.810458    0.481622    0.841838   14.181209    0.896760   \n",
       "min     892.000000    0.000000    1.000000    0.170000    0.000000   \n",
       "25%     996.250000    0.000000    1.000000   21.000000    0.000000   \n",
       "50%    1100.500000    0.000000    3.000000   27.000000    0.000000   \n",
       "75%    1204.750000    1.000000    3.000000   39.000000    1.000000   \n",
       "max    1309.000000    1.000000    3.000000   76.000000    8.000000   \n",
       "\n",
       "            Parch        Fare  \n",
       "count  418.000000  417.000000  \n",
       "mean     0.392344   35.627188  \n",
       "std      0.981429   55.907576  \n",
       "min      0.000000    0.000000  \n",
       "25%      0.000000    7.895800  \n",
       "50%      0.000000   14.454200  \n",
       "75%      0.000000   31.500000  \n",
       "max      9.000000  512.329200  "
      ]
     },
     "execution_count": 66,
     "metadata": {},
     "output_type": "execute_result"
    }
   ],
   "source": [
    "a.describe()"
   ]
  },
  {
   "cell_type": "code",
   "execution_count": 67,
   "id": "d1897a50",
   "metadata": {},
   "outputs": [],
   "source": [
    "clist=a.columns"
   ]
  },
  {
   "cell_type": "code",
   "execution_count": 68,
   "id": "f5e70348",
   "metadata": {},
   "outputs": [
    {
     "data": {
      "text/plain": [
       "Index(['PassengerId', 'Survived', 'Pclass', 'Sex', 'Age', 'SibSp', 'Parch',\n",
       "       'Ticket', 'Fare', 'Cabin', 'Embarked'],\n",
       "      dtype='object')"
      ]
     },
     "execution_count": 68,
     "metadata": {},
     "output_type": "execute_result"
    }
   ],
   "source": [
    "clist"
   ]
  },
  {
   "cell_type": "code",
   "execution_count": 69,
   "id": "1f0aada9",
   "metadata": {},
   "outputs": [
    {
     "data": {
      "text/plain": [
       "PassengerId      0\n",
       "Survived         0\n",
       "Pclass           0\n",
       "Sex              0\n",
       "Age             86\n",
       "SibSp            0\n",
       "Parch            0\n",
       "Ticket           0\n",
       "Fare             1\n",
       "Cabin          327\n",
       "Embarked         0\n",
       "dtype: int64"
      ]
     },
     "execution_count": 69,
     "metadata": {},
     "output_type": "execute_result"
    }
   ],
   "source": [
    "a.isnull().sum()"
   ]
  },
  {
   "cell_type": "code",
   "execution_count": 73,
   "id": "c3b44c1c",
   "metadata": {},
   "outputs": [
    {
     "data": {
      "text/plain": [
       "Name\n",
       "Kelly, Mr. James                                34.5\n",
       "Wilkes, Mrs. James (Ellen Needs)                47.0\n",
       "Myles, Mr. Thomas Francis                       62.0\n",
       "Wirz, Mr. Albert                                27.0\n",
       "Hirvonen, Mrs. Alexander (Helga E Lindqvist)    22.0\n",
       "                                                ... \n",
       "Spector, Mr. Woolf                               NaN\n",
       "Oliva y Ocana, Dona. Fermina                    39.0\n",
       "Saether, Mr. Simon Sivertsen                    38.5\n",
       "Ware, Mr. Frederick                              NaN\n",
       "Peter, Master. Michael J                         NaN\n",
       "Name: Age, Length: 418, dtype: float64"
      ]
     },
     "execution_count": 73,
     "metadata": {},
     "output_type": "execute_result"
    }
   ],
   "source": [
    "r=a['Age']\n",
    "r"
   ]
  },
  {
   "cell_type": "code",
   "execution_count": 74,
   "id": "46b9d2ea",
   "metadata": {},
   "outputs": [
    {
     "data": {
      "text/plain": [
       "pandas.core.series.Series"
      ]
     },
     "execution_count": 74,
     "metadata": {},
     "output_type": "execute_result"
    }
   ],
   "source": [
    "type(r)"
   ]
  },
  {
   "cell_type": "code",
   "execution_count": 75,
   "id": "75e5fad7",
   "metadata": {},
   "outputs": [
    {
     "data": {
      "text/plain": [
       "30.272590361445783"
      ]
     },
     "execution_count": 75,
     "metadata": {},
     "output_type": "execute_result"
    }
   ],
   "source": [
    "rmean=r.mean()\n",
    "rmean"
   ]
  },
  {
   "cell_type": "code",
   "execution_count": 76,
   "id": "71fb5524",
   "metadata": {},
   "outputs": [
    {
     "data": {
      "text/plain": [
       "Name\n",
       "Kelly, Mr. James                                34.50000\n",
       "Wilkes, Mrs. James (Ellen Needs)                47.00000\n",
       "Myles, Mr. Thomas Francis                       62.00000\n",
       "Wirz, Mr. Albert                                27.00000\n",
       "Hirvonen, Mrs. Alexander (Helga E Lindqvist)    22.00000\n",
       "                                                  ...   \n",
       "Spector, Mr. Woolf                              30.27259\n",
       "Oliva y Ocana, Dona. Fermina                    39.00000\n",
       "Saether, Mr. Simon Sivertsen                    38.50000\n",
       "Ware, Mr. Frederick                             30.27259\n",
       "Peter, Master. Michael J                        30.27259\n",
       "Name: Age, Length: 418, dtype: float64"
      ]
     },
     "execution_count": 76,
     "metadata": {},
     "output_type": "execute_result"
    }
   ],
   "source": [
    "r.fillna(rmean,inplace=True)\n",
    "r"
   ]
  },
  {
   "cell_type": "code",
   "execution_count": 78,
   "id": "d1cff68d",
   "metadata": {},
   "outputs": [
    {
     "data": {
      "text/plain": [
       "PassengerId      0\n",
       "Survived         0\n",
       "Pclass           0\n",
       "Sex              0\n",
       "Age              0\n",
       "SibSp            0\n",
       "Parch            0\n",
       "Ticket           0\n",
       "Fare             1\n",
       "Cabin          327\n",
       "Embarked         0\n",
       "dtype: int64"
      ]
     },
     "execution_count": 78,
     "metadata": {},
     "output_type": "execute_result"
    }
   ],
   "source": [
    "a\n",
    "a.isnull().sum()"
   ]
  },
  {
   "cell_type": "code",
   "execution_count": 79,
   "id": "e65c1e01",
   "metadata": {},
   "outputs": [
    {
     "data": {
      "text/plain": [
       "Name\n",
       "Kelly, Mr. James                                  7.8292\n",
       "Wilkes, Mrs. James (Ellen Needs)                  7.0000\n",
       "Myles, Mr. Thomas Francis                         9.6875\n",
       "Wirz, Mr. Albert                                  8.6625\n",
       "Hirvonen, Mrs. Alexander (Helga E Lindqvist)     12.2875\n",
       "                                                  ...   \n",
       "Spector, Mr. Woolf                                8.0500\n",
       "Oliva y Ocana, Dona. Fermina                    108.9000\n",
       "Saether, Mr. Simon Sivertsen                      7.2500\n",
       "Ware, Mr. Frederick                               8.0500\n",
       "Peter, Master. Michael J                         22.3583\n",
       "Name: Fare, Length: 418, dtype: float64"
      ]
     },
     "execution_count": 79,
     "metadata": {},
     "output_type": "execute_result"
    }
   ],
   "source": [
    "g=a['Fare']\n",
    "g"
   ]
  },
  {
   "cell_type": "code",
   "execution_count": 80,
   "id": "f957bcef",
   "metadata": {},
   "outputs": [
    {
     "data": {
      "text/plain": [
       "pandas.core.series.Series"
      ]
     },
     "execution_count": 80,
     "metadata": {},
     "output_type": "execute_result"
    }
   ],
   "source": [
    "type(g)"
   ]
  },
  {
   "cell_type": "code",
   "execution_count": 81,
   "id": "f15b17a9",
   "metadata": {},
   "outputs": [
    {
     "data": {
      "text/plain": [
       "35.6271884892086"
      ]
     },
     "execution_count": 81,
     "metadata": {},
     "output_type": "execute_result"
    }
   ],
   "source": [
    "gmean=g.mean()\n",
    "gmean"
   ]
  },
  {
   "cell_type": "code",
   "execution_count": 83,
   "id": "5be83e9d",
   "metadata": {},
   "outputs": [
    {
     "data": {
      "text/plain": [
       "Name\n",
       "Kelly, Mr. James                                  7.8292\n",
       "Wilkes, Mrs. James (Ellen Needs)                  7.0000\n",
       "Myles, Mr. Thomas Francis                         9.6875\n",
       "Wirz, Mr. Albert                                  8.6625\n",
       "Hirvonen, Mrs. Alexander (Helga E Lindqvist)     12.2875\n",
       "                                                  ...   \n",
       "Spector, Mr. Woolf                                8.0500\n",
       "Oliva y Ocana, Dona. Fermina                    108.9000\n",
       "Saether, Mr. Simon Sivertsen                      7.2500\n",
       "Ware, Mr. Frederick                               8.0500\n",
       "Peter, Master. Michael J                         22.3583\n",
       "Name: Fare, Length: 418, dtype: float64"
      ]
     },
     "execution_count": 83,
     "metadata": {},
     "output_type": "execute_result"
    }
   ],
   "source": [
    "g.fillna(gmean,inplace=True)\n",
    "g"
   ]
  },
  {
   "cell_type": "code",
   "execution_count": 86,
   "id": "8b1412af",
   "metadata": {},
   "outputs": [
    {
     "data": {
      "text/plain": [
       "PassengerId      0\n",
       "Survived         0\n",
       "Pclass           0\n",
       "Sex              0\n",
       "Age              0\n",
       "SibSp            0\n",
       "Parch            0\n",
       "Ticket           0\n",
       "Fare             0\n",
       "Cabin          327\n",
       "Embarked         0\n",
       "dtype: int64"
      ]
     },
     "execution_count": 86,
     "metadata": {},
     "output_type": "execute_result"
    }
   ],
   "source": [
    "a.isnull().sum()\n",
    "\n"
   ]
  },
  {
   "cell_type": "code",
   "execution_count": 89,
   "id": "b741023f",
   "metadata": {},
   "outputs": [
    {
     "data": {
      "text/plain": [
       "PassengerId       894\n",
       "Survived            0\n",
       "Pclass              2\n",
       "Sex              male\n",
       "Age              62.0\n",
       "SibSp               0\n",
       "Parch               0\n",
       "Ticket         240276\n",
       "Fare           9.6875\n",
       "Cabin             NaN\n",
       "Embarked            Q\n",
       "Name: Myles, Mr. Thomas Francis, dtype: object"
      ]
     },
     "execution_count": 89,
     "metadata": {},
     "output_type": "execute_result"
    }
   ],
   "source": [
    "mdf=a.iloc[2]\n",
    "mdf"
   ]
  },
  {
   "cell_type": "code",
   "execution_count": 95,
   "id": "35e37a00",
   "metadata": {},
   "outputs": [
    {
     "data": {
      "text/plain": [
       "PassengerId      0\n",
       "Survived         0\n",
       "Pclass           0\n",
       "Sex              0\n",
       "Age              0\n",
       "SibSp            0\n",
       "Parch            0\n",
       "Ticket           0\n",
       "Fare             0\n",
       "Cabin          327\n",
       "Embarked         0\n",
       "dtype: int64"
      ]
     },
     "execution_count": 95,
     "metadata": {},
     "output_type": "execute_result"
    }
   ],
   "source": [
    "a.isnull().sum()"
   ]
  },
  {
   "cell_type": "code",
   "execution_count": 98,
   "id": "ffa928c2",
   "metadata": {},
   "outputs": [
    {
     "data": {
      "text/html": [
       "<div>\n",
       "<style scoped>\n",
       "    .dataframe tbody tr th:only-of-type {\n",
       "        vertical-align: middle;\n",
       "    }\n",
       "\n",
       "    .dataframe tbody tr th {\n",
       "        vertical-align: top;\n",
       "    }\n",
       "\n",
       "    .dataframe thead th {\n",
       "        text-align: right;\n",
       "    }\n",
       "</style>\n",
       "<table border=\"1\" class=\"dataframe\">\n",
       "  <thead>\n",
       "    <tr style=\"text-align: right;\">\n",
       "      <th></th>\n",
       "      <th>PassengerId</th>\n",
       "      <th>Survived</th>\n",
       "      <th>Pclass</th>\n",
       "      <th>Sex</th>\n",
       "      <th>Age</th>\n",
       "      <th>SibSp</th>\n",
       "      <th>Parch</th>\n",
       "      <th>Ticket</th>\n",
       "      <th>Fare</th>\n",
       "      <th>Cabin</th>\n",
       "      <th>Embarked</th>\n",
       "    </tr>\n",
       "    <tr>\n",
       "      <th>Name</th>\n",
       "      <th></th>\n",
       "      <th></th>\n",
       "      <th></th>\n",
       "      <th></th>\n",
       "      <th></th>\n",
       "      <th></th>\n",
       "      <th></th>\n",
       "      <th></th>\n",
       "      <th></th>\n",
       "      <th></th>\n",
       "      <th></th>\n",
       "    </tr>\n",
       "  </thead>\n",
       "  <tbody>\n",
       "    <tr>\n",
       "      <th>Kelly, Mr. James</th>\n",
       "      <td>892</td>\n",
       "      <td>0</td>\n",
       "      <td>3</td>\n",
       "      <td>male</td>\n",
       "      <td>34.50000</td>\n",
       "      <td>0</td>\n",
       "      <td>0</td>\n",
       "      <td>330911</td>\n",
       "      <td>7.8292</td>\n",
       "      <td>NaN</td>\n",
       "      <td>Q</td>\n",
       "    </tr>\n",
       "    <tr>\n",
       "      <th>Wilkes, Mrs. James (Ellen Needs)</th>\n",
       "      <td>893</td>\n",
       "      <td>1</td>\n",
       "      <td>3</td>\n",
       "      <td>female</td>\n",
       "      <td>47.00000</td>\n",
       "      <td>1</td>\n",
       "      <td>0</td>\n",
       "      <td>363272</td>\n",
       "      <td>7.0000</td>\n",
       "      <td>NaN</td>\n",
       "      <td>S</td>\n",
       "    </tr>\n",
       "    <tr>\n",
       "      <th>Myles, Mr. Thomas Francis</th>\n",
       "      <td>894</td>\n",
       "      <td>0</td>\n",
       "      <td>2</td>\n",
       "      <td>male</td>\n",
       "      <td>62.00000</td>\n",
       "      <td>0</td>\n",
       "      <td>0</td>\n",
       "      <td>240276</td>\n",
       "      <td>9.6875</td>\n",
       "      <td>NaN</td>\n",
       "      <td>Q</td>\n",
       "    </tr>\n",
       "    <tr>\n",
       "      <th>Wirz, Mr. Albert</th>\n",
       "      <td>895</td>\n",
       "      <td>0</td>\n",
       "      <td>3</td>\n",
       "      <td>male</td>\n",
       "      <td>27.00000</td>\n",
       "      <td>0</td>\n",
       "      <td>0</td>\n",
       "      <td>315154</td>\n",
       "      <td>8.6625</td>\n",
       "      <td>NaN</td>\n",
       "      <td>S</td>\n",
       "    </tr>\n",
       "    <tr>\n",
       "      <th>Hirvonen, Mrs. Alexander (Helga E Lindqvist)</th>\n",
       "      <td>896</td>\n",
       "      <td>1</td>\n",
       "      <td>3</td>\n",
       "      <td>female</td>\n",
       "      <td>22.00000</td>\n",
       "      <td>1</td>\n",
       "      <td>1</td>\n",
       "      <td>3101298</td>\n",
       "      <td>12.2875</td>\n",
       "      <td>NaN</td>\n",
       "      <td>S</td>\n",
       "    </tr>\n",
       "    <tr>\n",
       "      <th>...</th>\n",
       "      <td>...</td>\n",
       "      <td>...</td>\n",
       "      <td>...</td>\n",
       "      <td>...</td>\n",
       "      <td>...</td>\n",
       "      <td>...</td>\n",
       "      <td>...</td>\n",
       "      <td>...</td>\n",
       "      <td>...</td>\n",
       "      <td>...</td>\n",
       "      <td>...</td>\n",
       "    </tr>\n",
       "    <tr>\n",
       "      <th>Spector, Mr. Woolf</th>\n",
       "      <td>1305</td>\n",
       "      <td>0</td>\n",
       "      <td>3</td>\n",
       "      <td>male</td>\n",
       "      <td>30.27259</td>\n",
       "      <td>0</td>\n",
       "      <td>0</td>\n",
       "      <td>A.5. 3236</td>\n",
       "      <td>8.0500</td>\n",
       "      <td>C78</td>\n",
       "      <td>S</td>\n",
       "    </tr>\n",
       "    <tr>\n",
       "      <th>Oliva y Ocana, Dona. Fermina</th>\n",
       "      <td>1306</td>\n",
       "      <td>1</td>\n",
       "      <td>1</td>\n",
       "      <td>female</td>\n",
       "      <td>39.00000</td>\n",
       "      <td>0</td>\n",
       "      <td>0</td>\n",
       "      <td>PC 17758</td>\n",
       "      <td>108.9000</td>\n",
       "      <td>C105</td>\n",
       "      <td>C</td>\n",
       "    </tr>\n",
       "    <tr>\n",
       "      <th>Saether, Mr. Simon Sivertsen</th>\n",
       "      <td>1307</td>\n",
       "      <td>0</td>\n",
       "      <td>3</td>\n",
       "      <td>male</td>\n",
       "      <td>38.50000</td>\n",
       "      <td>0</td>\n",
       "      <td>0</td>\n",
       "      <td>SOTON/O.Q. 3101262</td>\n",
       "      <td>7.2500</td>\n",
       "      <td>C105</td>\n",
       "      <td>S</td>\n",
       "    </tr>\n",
       "    <tr>\n",
       "      <th>Ware, Mr. Frederick</th>\n",
       "      <td>1308</td>\n",
       "      <td>0</td>\n",
       "      <td>3</td>\n",
       "      <td>male</td>\n",
       "      <td>30.27259</td>\n",
       "      <td>0</td>\n",
       "      <td>0</td>\n",
       "      <td>359309</td>\n",
       "      <td>8.0500</td>\n",
       "      <td>C105</td>\n",
       "      <td>S</td>\n",
       "    </tr>\n",
       "    <tr>\n",
       "      <th>Peter, Master. Michael J</th>\n",
       "      <td>1309</td>\n",
       "      <td>0</td>\n",
       "      <td>3</td>\n",
       "      <td>male</td>\n",
       "      <td>30.27259</td>\n",
       "      <td>1</td>\n",
       "      <td>1</td>\n",
       "      <td>2668</td>\n",
       "      <td>22.3583</td>\n",
       "      <td>C105</td>\n",
       "      <td>C</td>\n",
       "    </tr>\n",
       "  </tbody>\n",
       "</table>\n",
       "<p>418 rows × 11 columns</p>\n",
       "</div>"
      ],
      "text/plain": [
       "                                              PassengerId  Survived  Pclass  \\\n",
       "Name                                                                          \n",
       "Kelly, Mr. James                                      892         0       3   \n",
       "Wilkes, Mrs. James (Ellen Needs)                      893         1       3   \n",
       "Myles, Mr. Thomas Francis                             894         0       2   \n",
       "Wirz, Mr. Albert                                      895         0       3   \n",
       "Hirvonen, Mrs. Alexander (Helga E Lindqvist)          896         1       3   \n",
       "...                                                   ...       ...     ...   \n",
       "Spector, Mr. Woolf                                   1305         0       3   \n",
       "Oliva y Ocana, Dona. Fermina                         1306         1       1   \n",
       "Saether, Mr. Simon Sivertsen                         1307         0       3   \n",
       "Ware, Mr. Frederick                                  1308         0       3   \n",
       "Peter, Master. Michael J                             1309         0       3   \n",
       "\n",
       "                                                 Sex       Age  SibSp  Parch  \\\n",
       "Name                                                                           \n",
       "Kelly, Mr. James                                male  34.50000      0      0   \n",
       "Wilkes, Mrs. James (Ellen Needs)              female  47.00000      1      0   \n",
       "Myles, Mr. Thomas Francis                       male  62.00000      0      0   \n",
       "Wirz, Mr. Albert                                male  27.00000      0      0   \n",
       "Hirvonen, Mrs. Alexander (Helga E Lindqvist)  female  22.00000      1      1   \n",
       "...                                              ...       ...    ...    ...   \n",
       "Spector, Mr. Woolf                              male  30.27259      0      0   \n",
       "Oliva y Ocana, Dona. Fermina                  female  39.00000      0      0   \n",
       "Saether, Mr. Simon Sivertsen                    male  38.50000      0      0   \n",
       "Ware, Mr. Frederick                             male  30.27259      0      0   \n",
       "Peter, Master. Michael J                        male  30.27259      1      1   \n",
       "\n",
       "                                                          Ticket      Fare  \\\n",
       "Name                                                                         \n",
       "Kelly, Mr. James                                          330911    7.8292   \n",
       "Wilkes, Mrs. James (Ellen Needs)                          363272    7.0000   \n",
       "Myles, Mr. Thomas Francis                                 240276    9.6875   \n",
       "Wirz, Mr. Albert                                          315154    8.6625   \n",
       "Hirvonen, Mrs. Alexander (Helga E Lindqvist)             3101298   12.2875   \n",
       "...                                                          ...       ...   \n",
       "Spector, Mr. Woolf                                     A.5. 3236    8.0500   \n",
       "Oliva y Ocana, Dona. Fermina                            PC 17758  108.9000   \n",
       "Saether, Mr. Simon Sivertsen                  SOTON/O.Q. 3101262    7.2500   \n",
       "Ware, Mr. Frederick                                       359309    8.0500   \n",
       "Peter, Master. Michael J                                    2668   22.3583   \n",
       "\n",
       "                                             Cabin Embarked  \n",
       "Name                                                         \n",
       "Kelly, Mr. James                               NaN        Q  \n",
       "Wilkes, Mrs. James (Ellen Needs)               NaN        S  \n",
       "Myles, Mr. Thomas Francis                      NaN        Q  \n",
       "Wirz, Mr. Albert                               NaN        S  \n",
       "Hirvonen, Mrs. Alexander (Helga E Lindqvist)   NaN        S  \n",
       "...                                            ...      ...  \n",
       "Spector, Mr. Woolf                             C78        S  \n",
       "Oliva y Ocana, Dona. Fermina                  C105        C  \n",
       "Saether, Mr. Simon Sivertsen                  C105        S  \n",
       "Ware, Mr. Frederick                           C105        S  \n",
       "Peter, Master. Michael J                      C105        C  \n",
       "\n",
       "[418 rows x 11 columns]"
      ]
     },
     "execution_count": 98,
     "metadata": {},
     "output_type": "execute_result"
    }
   ],
   "source": [
    "a['Cabin'].fillna(method ='ffill',limit=327,inplace=True)\n",
    "a"
   ]
  },
  {
   "cell_type": "code",
   "execution_count": 99,
   "id": "31a05107",
   "metadata": {},
   "outputs": [
    {
     "data": {
      "text/plain": [
       "PassengerId     0\n",
       "Survived        0\n",
       "Pclass          0\n",
       "Sex             0\n",
       "Age             0\n",
       "SibSp           0\n",
       "Parch           0\n",
       "Ticket          0\n",
       "Fare            0\n",
       "Cabin          12\n",
       "Embarked        0\n",
       "dtype: int64"
      ]
     },
     "execution_count": 99,
     "metadata": {},
     "output_type": "execute_result"
    }
   ],
   "source": [
    "a.isnull().sum()"
   ]
  },
  {
   "cell_type": "code",
   "execution_count": 106,
   "id": "3b70e76e",
   "metadata": {},
   "outputs": [],
   "source": [
    "a['Cabin'].fillna(method ='ffill',limit=500,inplace=True)\n"
   ]
  },
  {
   "cell_type": "code",
   "execution_count": 107,
   "id": "b72d95e8",
   "metadata": {},
   "outputs": [
    {
     "data": {
      "text/plain": [
       "PassengerId     0\n",
       "Survived        0\n",
       "Pclass          0\n",
       "Sex             0\n",
       "Age             0\n",
       "SibSp           0\n",
       "Parch           0\n",
       "Ticket          0\n",
       "Fare            0\n",
       "Cabin          12\n",
       "Embarked        0\n",
       "dtype: int64"
      ]
     },
     "execution_count": 107,
     "metadata": {},
     "output_type": "execute_result"
    }
   ],
   "source": [
    "a.isnull().sum()"
   ]
  },
  {
   "cell_type": "code",
   "execution_count": 108,
   "id": "5da0757c",
   "metadata": {},
   "outputs": [
    {
     "name": "stdout",
     "output_type": "stream",
     "text": [
      "                                              PassengerId  Survived  Pclass  \\\n",
      "Name                                                                          \n",
      "Kelly, Mr. James                                      892         0       3   \n",
      "Wilkes, Mrs. James (Ellen Needs)                      893         1       3   \n",
      "Myles, Mr. Thomas Francis                             894         0       2   \n",
      "Wirz, Mr. Albert                                      895         0       3   \n",
      "Hirvonen, Mrs. Alexander (Helga E Lindqvist)          896         1       3   \n",
      "...                                                   ...       ...     ...   \n",
      "Spector, Mr. Woolf                                   1305         0       3   \n",
      "Oliva y Ocana, Dona. Fermina                         1306         1       1   \n",
      "Saether, Mr. Simon Sivertsen                         1307         0       3   \n",
      "Ware, Mr. Frederick                                  1308         0       3   \n",
      "Peter, Master. Michael J                             1309         0       3   \n",
      "\n",
      "                                                 Sex       Age  SibSp  Parch  \\\n",
      "Name                                                                           \n",
      "Kelly, Mr. James                                male  34.50000      0      0   \n",
      "Wilkes, Mrs. James (Ellen Needs)              female  47.00000      1      0   \n",
      "Myles, Mr. Thomas Francis                       male  62.00000      0      0   \n",
      "Wirz, Mr. Albert                                male  27.00000      0      0   \n",
      "Hirvonen, Mrs. Alexander (Helga E Lindqvist)  female  22.00000      1      1   \n",
      "...                                              ...       ...    ...    ...   \n",
      "Spector, Mr. Woolf                              male  30.27259      0      0   \n",
      "Oliva y Ocana, Dona. Fermina                  female  39.00000      0      0   \n",
      "Saether, Mr. Simon Sivertsen                    male  38.50000      0      0   \n",
      "Ware, Mr. Frederick                             male  30.27259      0      0   \n",
      "Peter, Master. Michael J                        male  30.27259      1      1   \n",
      "\n",
      "                                                          Ticket      Fare  \\\n",
      "Name                                                                         \n",
      "Kelly, Mr. James                                          330911    7.8292   \n",
      "Wilkes, Mrs. James (Ellen Needs)                          363272    7.0000   \n",
      "Myles, Mr. Thomas Francis                                 240276    9.6875   \n",
      "Wirz, Mr. Albert                                          315154    8.6625   \n",
      "Hirvonen, Mrs. Alexander (Helga E Lindqvist)             3101298   12.2875   \n",
      "...                                                          ...       ...   \n",
      "Spector, Mr. Woolf                                     A.5. 3236    8.0500   \n",
      "Oliva y Ocana, Dona. Fermina                            PC 17758  108.9000   \n",
      "Saether, Mr. Simon Sivertsen                  SOTON/O.Q. 3101262    7.2500   \n",
      "Ware, Mr. Frederick                                       359309    8.0500   \n",
      "Peter, Master. Michael J                                    2668   22.3583   \n",
      "\n",
      "                                             Cabin Embarked  \n",
      "Name                                                         \n",
      "Kelly, Mr. James                               NaN        Q  \n",
      "Wilkes, Mrs. James (Ellen Needs)               NaN        S  \n",
      "Myles, Mr. Thomas Francis                      NaN        Q  \n",
      "Wirz, Mr. Albert                               NaN        S  \n",
      "Hirvonen, Mrs. Alexander (Helga E Lindqvist)   NaN        S  \n",
      "...                                            ...      ...  \n",
      "Spector, Mr. Woolf                             C78        S  \n",
      "Oliva y Ocana, Dona. Fermina                  C105        C  \n",
      "Saether, Mr. Simon Sivertsen                  C105        S  \n",
      "Ware, Mr. Frederick                           C105        S  \n",
      "Peter, Master. Michael J                      C105        C  \n",
      "\n",
      "[418 rows x 11 columns]\n",
      "                                              PassengerId  Survived  Pclass  \\\n",
      "Name                                                                          \n",
      "Kelly, Mr. James                                      892         0       3   \n",
      "Wilkes, Mrs. James (Ellen Needs)                      893         1       3   \n",
      "Myles, Mr. Thomas Francis                             894         0       2   \n",
      "Wirz, Mr. Albert                                      895         0       3   \n",
      "Hirvonen, Mrs. Alexander (Helga E Lindqvist)          896         1       3   \n",
      "...                                                   ...       ...     ...   \n",
      "Spector, Mr. Woolf                                   1305         0       3   \n",
      "Oliva y Ocana, Dona. Fermina                         1306         1       1   \n",
      "Saether, Mr. Simon Sivertsen                         1307         0       3   \n",
      "Ware, Mr. Frederick                                  1308         0       3   \n",
      "Peter, Master. Michael J                             1309         0       3   \n",
      "\n",
      "                                                 Sex       Age  SibSp  Parch  \\\n",
      "Name                                                                           \n",
      "Kelly, Mr. James                                male  34.50000      0      0   \n",
      "Wilkes, Mrs. James (Ellen Needs)              female  47.00000      1      0   \n",
      "Myles, Mr. Thomas Francis                       male  62.00000      0      0   \n",
      "Wirz, Mr. Albert                                male  27.00000      0      0   \n",
      "Hirvonen, Mrs. Alexander (Helga E Lindqvist)  female  22.00000      1      1   \n",
      "...                                              ...       ...    ...    ...   \n",
      "Spector, Mr. Woolf                              male  30.27259      0      0   \n",
      "Oliva y Ocana, Dona. Fermina                  female  39.00000      0      0   \n",
      "Saether, Mr. Simon Sivertsen                    male  38.50000      0      0   \n",
      "Ware, Mr. Frederick                             male  30.27259      0      0   \n",
      "Peter, Master. Michael J                        male  30.27259      1      1   \n",
      "\n",
      "                                                          Ticket      Fare  \\\n",
      "Name                                                                         \n",
      "Kelly, Mr. James                                          330911    7.8292   \n",
      "Wilkes, Mrs. James (Ellen Needs)                          363272    7.0000   \n",
      "Myles, Mr. Thomas Francis                                 240276    9.6875   \n",
      "Wirz, Mr. Albert                                          315154    8.6625   \n",
      "Hirvonen, Mrs. Alexander (Helga E Lindqvist)             3101298   12.2875   \n",
      "...                                                          ...       ...   \n",
      "Spector, Mr. Woolf                                     A.5. 3236    8.0500   \n",
      "Oliva y Ocana, Dona. Fermina                            PC 17758  108.9000   \n",
      "Saether, Mr. Simon Sivertsen                  SOTON/O.Q. 3101262    7.2500   \n",
      "Ware, Mr. Frederick                                       359309    8.0500   \n",
      "Peter, Master. Michael J                                    2668   22.3583   \n",
      "\n",
      "                                             Cabin Embarked  \n",
      "Name                                                         \n",
      "Kelly, Mr. James                               NaN        Q  \n",
      "Wilkes, Mrs. James (Ellen Needs)               NaN        S  \n",
      "Myles, Mr. Thomas Francis                      NaN        Q  \n",
      "Wirz, Mr. Albert                               NaN        S  \n",
      "Hirvonen, Mrs. Alexander (Helga E Lindqvist)   NaN        S  \n",
      "...                                            ...      ...  \n",
      "Spector, Mr. Woolf                             C78        S  \n",
      "Oliva y Ocana, Dona. Fermina                  C105        C  \n",
      "Saether, Mr. Simon Sivertsen                  C105        S  \n",
      "Ware, Mr. Frederick                           C105        S  \n",
      "Peter, Master. Michael J                      C105        C  \n",
      "\n",
      "[418 rows x 11 columns]\n",
      "                                              PassengerId  Survived  Pclass  \\\n",
      "Name                                                                          \n",
      "Kelly, Mr. James                                      892         0       3   \n",
      "Wilkes, Mrs. James (Ellen Needs)                      893         1       3   \n",
      "Myles, Mr. Thomas Francis                             894         0       2   \n",
      "Wirz, Mr. Albert                                      895         0       3   \n",
      "Hirvonen, Mrs. Alexander (Helga E Lindqvist)          896         1       3   \n",
      "...                                                   ...       ...     ...   \n",
      "Spector, Mr. Woolf                                   1305         0       3   \n",
      "Oliva y Ocana, Dona. Fermina                         1306         1       1   \n",
      "Saether, Mr. Simon Sivertsen                         1307         0       3   \n",
      "Ware, Mr. Frederick                                  1308         0       3   \n",
      "Peter, Master. Michael J                             1309         0       3   \n",
      "\n",
      "                                                 Sex       Age  SibSp  Parch  \\\n",
      "Name                                                                           \n",
      "Kelly, Mr. James                                male  34.50000      0      0   \n",
      "Wilkes, Mrs. James (Ellen Needs)              female  47.00000      1      0   \n",
      "Myles, Mr. Thomas Francis                       male  62.00000      0      0   \n",
      "Wirz, Mr. Albert                                male  27.00000      0      0   \n",
      "Hirvonen, Mrs. Alexander (Helga E Lindqvist)  female  22.00000      1      1   \n",
      "...                                              ...       ...    ...    ...   \n",
      "Spector, Mr. Woolf                              male  30.27259      0      0   \n",
      "Oliva y Ocana, Dona. Fermina                  female  39.00000      0      0   \n",
      "Saether, Mr. Simon Sivertsen                    male  38.50000      0      0   \n",
      "Ware, Mr. Frederick                             male  30.27259      0      0   \n",
      "Peter, Master. Michael J                        male  30.27259      1      1   \n",
      "\n",
      "                                                          Ticket      Fare  \\\n",
      "Name                                                                         \n",
      "Kelly, Mr. James                                          330911    7.8292   \n",
      "Wilkes, Mrs. James (Ellen Needs)                          363272    7.0000   \n",
      "Myles, Mr. Thomas Francis                                 240276    9.6875   \n",
      "Wirz, Mr. Albert                                          315154    8.6625   \n",
      "Hirvonen, Mrs. Alexander (Helga E Lindqvist)             3101298   12.2875   \n",
      "...                                                          ...       ...   \n",
      "Spector, Mr. Woolf                                     A.5. 3236    8.0500   \n",
      "Oliva y Ocana, Dona. Fermina                            PC 17758  108.9000   \n",
      "Saether, Mr. Simon Sivertsen                  SOTON/O.Q. 3101262    7.2500   \n",
      "Ware, Mr. Frederick                                       359309    8.0500   \n",
      "Peter, Master. Michael J                                    2668   22.3583   \n",
      "\n",
      "                                             Cabin Embarked  \n",
      "Name                                                         \n",
      "Kelly, Mr. James                               NaN        Q  \n",
      "Wilkes, Mrs. James (Ellen Needs)               NaN        S  \n",
      "Myles, Mr. Thomas Francis                      NaN        Q  \n",
      "Wirz, Mr. Albert                               NaN        S  \n",
      "Hirvonen, Mrs. Alexander (Helga E Lindqvist)   NaN        S  \n",
      "...                                            ...      ...  \n",
      "Spector, Mr. Woolf                             C78        S  \n",
      "Oliva y Ocana, Dona. Fermina                  C105        C  \n",
      "Saether, Mr. Simon Sivertsen                  C105        S  \n",
      "Ware, Mr. Frederick                           C105        S  \n",
      "Peter, Master. Michael J                      C105        C  \n",
      "\n",
      "[418 rows x 11 columns]\n",
      "                                              PassengerId  Survived  Pclass  \\\n",
      "Name                                                                          \n",
      "Kelly, Mr. James                                      892         0       3   \n",
      "Wilkes, Mrs. James (Ellen Needs)                      893         1       3   \n",
      "Myles, Mr. Thomas Francis                             894         0       2   \n",
      "Wirz, Mr. Albert                                      895         0       3   \n",
      "Hirvonen, Mrs. Alexander (Helga E Lindqvist)          896         1       3   \n",
      "...                                                   ...       ...     ...   \n",
      "Spector, Mr. Woolf                                   1305         0       3   \n",
      "Oliva y Ocana, Dona. Fermina                         1306         1       1   \n",
      "Saether, Mr. Simon Sivertsen                         1307         0       3   \n",
      "Ware, Mr. Frederick                                  1308         0       3   \n",
      "Peter, Master. Michael J                             1309         0       3   \n",
      "\n",
      "                                                 Sex       Age  SibSp  Parch  \\\n",
      "Name                                                                           \n",
      "Kelly, Mr. James                                male  34.50000      0      0   \n",
      "Wilkes, Mrs. James (Ellen Needs)              female  47.00000      1      0   \n",
      "Myles, Mr. Thomas Francis                       male  62.00000      0      0   \n",
      "Wirz, Mr. Albert                                male  27.00000      0      0   \n",
      "Hirvonen, Mrs. Alexander (Helga E Lindqvist)  female  22.00000      1      1   \n",
      "...                                              ...       ...    ...    ...   \n",
      "Spector, Mr. Woolf                              male  30.27259      0      0   \n",
      "Oliva y Ocana, Dona. Fermina                  female  39.00000      0      0   \n",
      "Saether, Mr. Simon Sivertsen                    male  38.50000      0      0   \n",
      "Ware, Mr. Frederick                             male  30.27259      0      0   \n",
      "Peter, Master. Michael J                        male  30.27259      1      1   \n",
      "\n",
      "                                                          Ticket      Fare  \\\n",
      "Name                                                                         \n",
      "Kelly, Mr. James                                          330911    7.8292   \n",
      "Wilkes, Mrs. James (Ellen Needs)                          363272    7.0000   \n",
      "Myles, Mr. Thomas Francis                                 240276    9.6875   \n",
      "Wirz, Mr. Albert                                          315154    8.6625   \n",
      "Hirvonen, Mrs. Alexander (Helga E Lindqvist)             3101298   12.2875   \n",
      "...                                                          ...       ...   \n",
      "Spector, Mr. Woolf                                     A.5. 3236    8.0500   \n",
      "Oliva y Ocana, Dona. Fermina                            PC 17758  108.9000   \n",
      "Saether, Mr. Simon Sivertsen                  SOTON/O.Q. 3101262    7.2500   \n",
      "Ware, Mr. Frederick                                       359309    8.0500   \n",
      "Peter, Master. Michael J                                    2668   22.3583   \n",
      "\n",
      "                                             Cabin Embarked  \n",
      "Name                                                         \n",
      "Kelly, Mr. James                               NaN        Q  \n",
      "Wilkes, Mrs. James (Ellen Needs)               NaN        S  \n",
      "Myles, Mr. Thomas Francis                      NaN        Q  \n",
      "Wirz, Mr. Albert                               NaN        S  \n",
      "Hirvonen, Mrs. Alexander (Helga E Lindqvist)   NaN        S  \n",
      "...                                            ...      ...  \n",
      "Spector, Mr. Woolf                             C78        S  \n",
      "Oliva y Ocana, Dona. Fermina                  C105        C  \n",
      "Saether, Mr. Simon Sivertsen                  C105        S  \n",
      "Ware, Mr. Frederick                           C105        S  \n",
      "Peter, Master. Michael J                      C105        C  \n",
      "\n",
      "[418 rows x 11 columns]\n",
      "                                              PassengerId  Survived  Pclass  \\\n",
      "Name                                                                          \n",
      "Kelly, Mr. James                                      892         0       3   \n",
      "Wilkes, Mrs. James (Ellen Needs)                      893         1       3   \n",
      "Myles, Mr. Thomas Francis                             894         0       2   \n",
      "Wirz, Mr. Albert                                      895         0       3   \n",
      "Hirvonen, Mrs. Alexander (Helga E Lindqvist)          896         1       3   \n",
      "...                                                   ...       ...     ...   \n",
      "Spector, Mr. Woolf                                   1305         0       3   \n",
      "Oliva y Ocana, Dona. Fermina                         1306         1       1   \n",
      "Saether, Mr. Simon Sivertsen                         1307         0       3   \n",
      "Ware, Mr. Frederick                                  1308         0       3   \n",
      "Peter, Master. Michael J                             1309         0       3   \n",
      "\n",
      "                                                 Sex       Age  SibSp  Parch  \\\n",
      "Name                                                                           \n",
      "Kelly, Mr. James                                male  34.50000      0      0   \n",
      "Wilkes, Mrs. James (Ellen Needs)              female  47.00000      1      0   \n",
      "Myles, Mr. Thomas Francis                       male  62.00000      0      0   \n",
      "Wirz, Mr. Albert                                male  27.00000      0      0   \n",
      "Hirvonen, Mrs. Alexander (Helga E Lindqvist)  female  22.00000      1      1   \n",
      "...                                              ...       ...    ...    ...   \n",
      "Spector, Mr. Woolf                              male  30.27259      0      0   \n",
      "Oliva y Ocana, Dona. Fermina                  female  39.00000      0      0   \n",
      "Saether, Mr. Simon Sivertsen                    male  38.50000      0      0   \n",
      "Ware, Mr. Frederick                             male  30.27259      0      0   \n",
      "Peter, Master. Michael J                        male  30.27259      1      1   \n",
      "\n",
      "                                                          Ticket      Fare  \\\n",
      "Name                                                                         \n",
      "Kelly, Mr. James                                          330911    7.8292   \n",
      "Wilkes, Mrs. James (Ellen Needs)                          363272    7.0000   \n",
      "Myles, Mr. Thomas Francis                                 240276    9.6875   \n",
      "Wirz, Mr. Albert                                          315154    8.6625   \n",
      "Hirvonen, Mrs. Alexander (Helga E Lindqvist)             3101298   12.2875   \n",
      "...                                                          ...       ...   \n",
      "Spector, Mr. Woolf                                     A.5. 3236    8.0500   \n",
      "Oliva y Ocana, Dona. Fermina                            PC 17758  108.9000   \n",
      "Saether, Mr. Simon Sivertsen                  SOTON/O.Q. 3101262    7.2500   \n",
      "Ware, Mr. Frederick                                       359309    8.0500   \n",
      "Peter, Master. Michael J                                    2668   22.3583   \n",
      "\n",
      "                                             Cabin Embarked  \n",
      "Name                                                         \n",
      "Kelly, Mr. James                               NaN        Q  \n",
      "Wilkes, Mrs. James (Ellen Needs)               NaN        S  \n",
      "Myles, Mr. Thomas Francis                      NaN        Q  \n",
      "Wirz, Mr. Albert                               NaN        S  \n",
      "Hirvonen, Mrs. Alexander (Helga E Lindqvist)   NaN        S  \n",
      "...                                            ...      ...  \n",
      "Spector, Mr. Woolf                             C78        S  \n",
      "Oliva y Ocana, Dona. Fermina                  C105        C  \n",
      "Saether, Mr. Simon Sivertsen                  C105        S  \n",
      "Ware, Mr. Frederick                           C105        S  \n",
      "Peter, Master. Michael J                      C105        C  \n",
      "\n",
      "[418 rows x 11 columns]\n",
      "                                              PassengerId  Survived  Pclass  \\\n",
      "Name                                                                          \n",
      "Kelly, Mr. James                                      892         0       3   \n",
      "Wilkes, Mrs. James (Ellen Needs)                      893         1       3   \n",
      "Myles, Mr. Thomas Francis                             894         0       2   \n",
      "Wirz, Mr. Albert                                      895         0       3   \n",
      "Hirvonen, Mrs. Alexander (Helga E Lindqvist)          896         1       3   \n",
      "...                                                   ...       ...     ...   \n",
      "Spector, Mr. Woolf                                   1305         0       3   \n",
      "Oliva y Ocana, Dona. Fermina                         1306         1       1   \n",
      "Saether, Mr. Simon Sivertsen                         1307         0       3   \n",
      "Ware, Mr. Frederick                                  1308         0       3   \n",
      "Peter, Master. Michael J                             1309         0       3   \n",
      "\n",
      "                                                 Sex       Age  SibSp  Parch  \\\n",
      "Name                                                                           \n",
      "Kelly, Mr. James                                male  34.50000      0      0   \n",
      "Wilkes, Mrs. James (Ellen Needs)              female  47.00000      1      0   \n",
      "Myles, Mr. Thomas Francis                       male  62.00000      0      0   \n",
      "Wirz, Mr. Albert                                male  27.00000      0      0   \n",
      "Hirvonen, Mrs. Alexander (Helga E Lindqvist)  female  22.00000      1      1   \n",
      "...                                              ...       ...    ...    ...   \n",
      "Spector, Mr. Woolf                              male  30.27259      0      0   \n",
      "Oliva y Ocana, Dona. Fermina                  female  39.00000      0      0   \n",
      "Saether, Mr. Simon Sivertsen                    male  38.50000      0      0   \n",
      "Ware, Mr. Frederick                             male  30.27259      0      0   \n",
      "Peter, Master. Michael J                        male  30.27259      1      1   \n",
      "\n",
      "                                                          Ticket      Fare  \\\n",
      "Name                                                                         \n",
      "Kelly, Mr. James                                          330911    7.8292   \n",
      "Wilkes, Mrs. James (Ellen Needs)                          363272    7.0000   \n",
      "Myles, Mr. Thomas Francis                                 240276    9.6875   \n",
      "Wirz, Mr. Albert                                          315154    8.6625   \n",
      "Hirvonen, Mrs. Alexander (Helga E Lindqvist)             3101298   12.2875   \n",
      "...                                                          ...       ...   \n",
      "Spector, Mr. Woolf                                     A.5. 3236    8.0500   \n",
      "Oliva y Ocana, Dona. Fermina                            PC 17758  108.9000   \n",
      "Saether, Mr. Simon Sivertsen                  SOTON/O.Q. 3101262    7.2500   \n",
      "Ware, Mr. Frederick                                       359309    8.0500   \n",
      "Peter, Master. Michael J                                    2668   22.3583   \n",
      "\n",
      "                                             Cabin Embarked  \n",
      "Name                                                         \n",
      "Kelly, Mr. James                               NaN        Q  \n",
      "Wilkes, Mrs. James (Ellen Needs)               NaN        S  \n",
      "Myles, Mr. Thomas Francis                      NaN        Q  \n",
      "Wirz, Mr. Albert                               NaN        S  \n",
      "Hirvonen, Mrs. Alexander (Helga E Lindqvist)   NaN        S  \n",
      "...                                            ...      ...  \n",
      "Spector, Mr. Woolf                             C78        S  \n",
      "Oliva y Ocana, Dona. Fermina                  C105        C  \n",
      "Saether, Mr. Simon Sivertsen                  C105        S  \n",
      "Ware, Mr. Frederick                           C105        S  \n",
      "Peter, Master. Michael J                      C105        C  \n",
      "\n",
      "[418 rows x 11 columns]\n",
      "                                              PassengerId  Survived  Pclass  \\\n",
      "Name                                                                          \n",
      "Kelly, Mr. James                                      892         0       3   \n",
      "Wilkes, Mrs. James (Ellen Needs)                      893         1       3   \n",
      "Myles, Mr. Thomas Francis                             894         0       2   \n",
      "Wirz, Mr. Albert                                      895         0       3   \n",
      "Hirvonen, Mrs. Alexander (Helga E Lindqvist)          896         1       3   \n",
      "...                                                   ...       ...     ...   \n",
      "Spector, Mr. Woolf                                   1305         0       3   \n",
      "Oliva y Ocana, Dona. Fermina                         1306         1       1   \n",
      "Saether, Mr. Simon Sivertsen                         1307         0       3   \n",
      "Ware, Mr. Frederick                                  1308         0       3   \n",
      "Peter, Master. Michael J                             1309         0       3   \n",
      "\n",
      "                                                 Sex       Age  SibSp  Parch  \\\n",
      "Name                                                                           \n",
      "Kelly, Mr. James                                male  34.50000      0      0   \n",
      "Wilkes, Mrs. James (Ellen Needs)              female  47.00000      1      0   \n",
      "Myles, Mr. Thomas Francis                       male  62.00000      0      0   \n",
      "Wirz, Mr. Albert                                male  27.00000      0      0   \n",
      "Hirvonen, Mrs. Alexander (Helga E Lindqvist)  female  22.00000      1      1   \n",
      "...                                              ...       ...    ...    ...   \n",
      "Spector, Mr. Woolf                              male  30.27259      0      0   \n",
      "Oliva y Ocana, Dona. Fermina                  female  39.00000      0      0   \n",
      "Saether, Mr. Simon Sivertsen                    male  38.50000      0      0   \n",
      "Ware, Mr. Frederick                             male  30.27259      0      0   \n",
      "Peter, Master. Michael J                        male  30.27259      1      1   \n",
      "\n",
      "                                                          Ticket      Fare  \\\n",
      "Name                                                                         \n",
      "Kelly, Mr. James                                          330911    7.8292   \n",
      "Wilkes, Mrs. James (Ellen Needs)                          363272    7.0000   \n",
      "Myles, Mr. Thomas Francis                                 240276    9.6875   \n",
      "Wirz, Mr. Albert                                          315154    8.6625   \n",
      "Hirvonen, Mrs. Alexander (Helga E Lindqvist)             3101298   12.2875   \n",
      "...                                                          ...       ...   \n",
      "Spector, Mr. Woolf                                     A.5. 3236    8.0500   \n",
      "Oliva y Ocana, Dona. Fermina                            PC 17758  108.9000   \n",
      "Saether, Mr. Simon Sivertsen                  SOTON/O.Q. 3101262    7.2500   \n",
      "Ware, Mr. Frederick                                       359309    8.0500   \n",
      "Peter, Master. Michael J                                    2668   22.3583   \n",
      "\n",
      "                                             Cabin Embarked  \n",
      "Name                                                         \n",
      "Kelly, Mr. James                               NaN        Q  \n",
      "Wilkes, Mrs. James (Ellen Needs)               NaN        S  \n",
      "Myles, Mr. Thomas Francis                      NaN        Q  \n",
      "Wirz, Mr. Albert                               NaN        S  \n",
      "Hirvonen, Mrs. Alexander (Helga E Lindqvist)   NaN        S  \n",
      "...                                            ...      ...  \n",
      "Spector, Mr. Woolf                             C78        S  \n",
      "Oliva y Ocana, Dona. Fermina                  C105        C  \n",
      "Saether, Mr. Simon Sivertsen                  C105        S  \n",
      "Ware, Mr. Frederick                           C105        S  \n",
      "Peter, Master. Michael J                      C105        C  \n",
      "\n",
      "[418 rows x 11 columns]\n",
      "                                              PassengerId  Survived  Pclass  \\\n",
      "Name                                                                          \n",
      "Kelly, Mr. James                                      892         0       3   \n",
      "Wilkes, Mrs. James (Ellen Needs)                      893         1       3   \n",
      "Myles, Mr. Thomas Francis                             894         0       2   \n",
      "Wirz, Mr. Albert                                      895         0       3   \n",
      "Hirvonen, Mrs. Alexander (Helga E Lindqvist)          896         1       3   \n",
      "...                                                   ...       ...     ...   \n",
      "Spector, Mr. Woolf                                   1305         0       3   \n",
      "Oliva y Ocana, Dona. Fermina                         1306         1       1   \n",
      "Saether, Mr. Simon Sivertsen                         1307         0       3   \n",
      "Ware, Mr. Frederick                                  1308         0       3   \n",
      "Peter, Master. Michael J                             1309         0       3   \n",
      "\n",
      "                                                 Sex       Age  SibSp  Parch  \\\n",
      "Name                                                                           \n",
      "Kelly, Mr. James                                male  34.50000      0      0   \n",
      "Wilkes, Mrs. James (Ellen Needs)              female  47.00000      1      0   \n",
      "Myles, Mr. Thomas Francis                       male  62.00000      0      0   \n",
      "Wirz, Mr. Albert                                male  27.00000      0      0   \n",
      "Hirvonen, Mrs. Alexander (Helga E Lindqvist)  female  22.00000      1      1   \n",
      "...                                              ...       ...    ...    ...   \n",
      "Spector, Mr. Woolf                              male  30.27259      0      0   \n",
      "Oliva y Ocana, Dona. Fermina                  female  39.00000      0      0   \n",
      "Saether, Mr. Simon Sivertsen                    male  38.50000      0      0   \n",
      "Ware, Mr. Frederick                             male  30.27259      0      0   \n",
      "Peter, Master. Michael J                        male  30.27259      1      1   \n",
      "\n",
      "                                                          Ticket      Fare  \\\n",
      "Name                                                                         \n",
      "Kelly, Mr. James                                          330911    7.8292   \n",
      "Wilkes, Mrs. James (Ellen Needs)                          363272    7.0000   \n",
      "Myles, Mr. Thomas Francis                                 240276    9.6875   \n",
      "Wirz, Mr. Albert                                          315154    8.6625   \n",
      "Hirvonen, Mrs. Alexander (Helga E Lindqvist)             3101298   12.2875   \n",
      "...                                                          ...       ...   \n",
      "Spector, Mr. Woolf                                     A.5. 3236    8.0500   \n",
      "Oliva y Ocana, Dona. Fermina                            PC 17758  108.9000   \n",
      "Saether, Mr. Simon Sivertsen                  SOTON/O.Q. 3101262    7.2500   \n",
      "Ware, Mr. Frederick                                       359309    8.0500   \n",
      "Peter, Master. Michael J                                    2668   22.3583   \n",
      "\n",
      "                                             Cabin Embarked  \n",
      "Name                                                         \n",
      "Kelly, Mr. James                               NaN        Q  \n",
      "Wilkes, Mrs. James (Ellen Needs)               NaN        S  \n",
      "Myles, Mr. Thomas Francis                      NaN        Q  \n",
      "Wirz, Mr. Albert                               NaN        S  \n",
      "Hirvonen, Mrs. Alexander (Helga E Lindqvist)   NaN        S  \n",
      "...                                            ...      ...  \n",
      "Spector, Mr. Woolf                             C78        S  \n",
      "Oliva y Ocana, Dona. Fermina                  C105        C  \n",
      "Saether, Mr. Simon Sivertsen                  C105        S  \n",
      "Ware, Mr. Frederick                           C105        S  \n",
      "Peter, Master. Michael J                      C105        C  \n",
      "\n",
      "[418 rows x 11 columns]\n",
      "                                              PassengerId  Survived  Pclass  \\\n",
      "Name                                                                          \n",
      "Kelly, Mr. James                                      892         0       3   \n",
      "Wilkes, Mrs. James (Ellen Needs)                      893         1       3   \n",
      "Myles, Mr. Thomas Francis                             894         0       2   \n",
      "Wirz, Mr. Albert                                      895         0       3   \n",
      "Hirvonen, Mrs. Alexander (Helga E Lindqvist)          896         1       3   \n",
      "...                                                   ...       ...     ...   \n",
      "Spector, Mr. Woolf                                   1305         0       3   \n",
      "Oliva y Ocana, Dona. Fermina                         1306         1       1   \n",
      "Saether, Mr. Simon Sivertsen                         1307         0       3   \n",
      "Ware, Mr. Frederick                                  1308         0       3   \n",
      "Peter, Master. Michael J                             1309         0       3   \n",
      "\n",
      "                                                 Sex       Age  SibSp  Parch  \\\n",
      "Name                                                                           \n",
      "Kelly, Mr. James                                male  34.50000      0      0   \n",
      "Wilkes, Mrs. James (Ellen Needs)              female  47.00000      1      0   \n",
      "Myles, Mr. Thomas Francis                       male  62.00000      0      0   \n",
      "Wirz, Mr. Albert                                male  27.00000      0      0   \n",
      "Hirvonen, Mrs. Alexander (Helga E Lindqvist)  female  22.00000      1      1   \n",
      "...                                              ...       ...    ...    ...   \n",
      "Spector, Mr. Woolf                              male  30.27259      0      0   \n",
      "Oliva y Ocana, Dona. Fermina                  female  39.00000      0      0   \n",
      "Saether, Mr. Simon Sivertsen                    male  38.50000      0      0   \n",
      "Ware, Mr. Frederick                             male  30.27259      0      0   \n",
      "Peter, Master. Michael J                        male  30.27259      1      1   \n",
      "\n",
      "                                                          Ticket      Fare  \\\n",
      "Name                                                                         \n",
      "Kelly, Mr. James                                          330911    7.8292   \n",
      "Wilkes, Mrs. James (Ellen Needs)                          363272    7.0000   \n",
      "Myles, Mr. Thomas Francis                                 240276    9.6875   \n",
      "Wirz, Mr. Albert                                          315154    8.6625   \n",
      "Hirvonen, Mrs. Alexander (Helga E Lindqvist)             3101298   12.2875   \n",
      "...                                                          ...       ...   \n",
      "Spector, Mr. Woolf                                     A.5. 3236    8.0500   \n",
      "Oliva y Ocana, Dona. Fermina                            PC 17758  108.9000   \n",
      "Saether, Mr. Simon Sivertsen                  SOTON/O.Q. 3101262    7.2500   \n",
      "Ware, Mr. Frederick                                       359309    8.0500   \n",
      "Peter, Master. Michael J                                    2668   22.3583   \n",
      "\n",
      "                                             Cabin Embarked  \n",
      "Name                                                         \n",
      "Kelly, Mr. James                               NaN        Q  \n",
      "Wilkes, Mrs. James (Ellen Needs)               NaN        S  \n",
      "Myles, Mr. Thomas Francis                      NaN        Q  \n",
      "Wirz, Mr. Albert                               NaN        S  \n",
      "Hirvonen, Mrs. Alexander (Helga E Lindqvist)   NaN        S  \n",
      "...                                            ...      ...  \n",
      "Spector, Mr. Woolf                             C78        S  \n",
      "Oliva y Ocana, Dona. Fermina                  C105        C  \n",
      "Saether, Mr. Simon Sivertsen                  C105        S  \n",
      "Ware, Mr. Frederick                           C105        S  \n",
      "Peter, Master. Michael J                      C105        C  \n",
      "\n",
      "[418 rows x 11 columns]\n",
      "                                              PassengerId  Survived  Pclass  \\\n",
      "Name                                                                          \n",
      "Kelly, Mr. James                                      892         0       3   \n",
      "Wilkes, Mrs. James (Ellen Needs)                      893         1       3   \n",
      "Myles, Mr. Thomas Francis                             894         0       2   \n",
      "Wirz, Mr. Albert                                      895         0       3   \n",
      "Hirvonen, Mrs. Alexander (Helga E Lindqvist)          896         1       3   \n",
      "...                                                   ...       ...     ...   \n",
      "Spector, Mr. Woolf                                   1305         0       3   \n",
      "Oliva y Ocana, Dona. Fermina                         1306         1       1   \n",
      "Saether, Mr. Simon Sivertsen                         1307         0       3   \n",
      "Ware, Mr. Frederick                                  1308         0       3   \n",
      "Peter, Master. Michael J                             1309         0       3   \n",
      "\n",
      "                                                 Sex       Age  SibSp  Parch  \\\n",
      "Name                                                                           \n",
      "Kelly, Mr. James                                male  34.50000      0      0   \n",
      "Wilkes, Mrs. James (Ellen Needs)              female  47.00000      1      0   \n",
      "Myles, Mr. Thomas Francis                       male  62.00000      0      0   \n",
      "Wirz, Mr. Albert                                male  27.00000      0      0   \n",
      "Hirvonen, Mrs. Alexander (Helga E Lindqvist)  female  22.00000      1      1   \n",
      "...                                              ...       ...    ...    ...   \n",
      "Spector, Mr. Woolf                              male  30.27259      0      0   \n",
      "Oliva y Ocana, Dona. Fermina                  female  39.00000      0      0   \n",
      "Saether, Mr. Simon Sivertsen                    male  38.50000      0      0   \n",
      "Ware, Mr. Frederick                             male  30.27259      0      0   \n",
      "Peter, Master. Michael J                        male  30.27259      1      1   \n",
      "\n",
      "                                                          Ticket      Fare  \\\n",
      "Name                                                                         \n",
      "Kelly, Mr. James                                          330911    7.8292   \n",
      "Wilkes, Mrs. James (Ellen Needs)                          363272    7.0000   \n",
      "Myles, Mr. Thomas Francis                                 240276    9.6875   \n",
      "Wirz, Mr. Albert                                          315154    8.6625   \n",
      "Hirvonen, Mrs. Alexander (Helga E Lindqvist)             3101298   12.2875   \n",
      "...                                                          ...       ...   \n",
      "Spector, Mr. Woolf                                     A.5. 3236    8.0500   \n",
      "Oliva y Ocana, Dona. Fermina                            PC 17758  108.9000   \n",
      "Saether, Mr. Simon Sivertsen                  SOTON/O.Q. 3101262    7.2500   \n",
      "Ware, Mr. Frederick                                       359309    8.0500   \n",
      "Peter, Master. Michael J                                    2668   22.3583   \n",
      "\n",
      "                                             Cabin Embarked  \n",
      "Name                                                         \n",
      "Kelly, Mr. James                               NaN        Q  \n",
      "Wilkes, Mrs. James (Ellen Needs)               NaN        S  \n",
      "Myles, Mr. Thomas Francis                      NaN        Q  \n",
      "Wirz, Mr. Albert                               NaN        S  \n",
      "Hirvonen, Mrs. Alexander (Helga E Lindqvist)   NaN        S  \n",
      "...                                            ...      ...  \n",
      "Spector, Mr. Woolf                             C78        S  \n",
      "Oliva y Ocana, Dona. Fermina                  C105        C  \n",
      "Saether, Mr. Simon Sivertsen                  C105        S  \n",
      "Ware, Mr. Frederick                           C105        S  \n",
      "Peter, Master. Michael J                      C105        C  \n",
      "\n",
      "[418 rows x 11 columns]\n"
     ]
    },
    {
     "name": "stdout",
     "output_type": "stream",
     "text": [
      "                                              PassengerId  Survived  Pclass  \\\n",
      "Name                                                                          \n",
      "Kelly, Mr. James                                      892         0       3   \n",
      "Wilkes, Mrs. James (Ellen Needs)                      893         1       3   \n",
      "Myles, Mr. Thomas Francis                             894         0       2   \n",
      "Wirz, Mr. Albert                                      895         0       3   \n",
      "Hirvonen, Mrs. Alexander (Helga E Lindqvist)          896         1       3   \n",
      "...                                                   ...       ...     ...   \n",
      "Spector, Mr. Woolf                                   1305         0       3   \n",
      "Oliva y Ocana, Dona. Fermina                         1306         1       1   \n",
      "Saether, Mr. Simon Sivertsen                         1307         0       3   \n",
      "Ware, Mr. Frederick                                  1308         0       3   \n",
      "Peter, Master. Michael J                             1309         0       3   \n",
      "\n",
      "                                                 Sex       Age  SibSp  Parch  \\\n",
      "Name                                                                           \n",
      "Kelly, Mr. James                                male  34.50000      0      0   \n",
      "Wilkes, Mrs. James (Ellen Needs)              female  47.00000      1      0   \n",
      "Myles, Mr. Thomas Francis                       male  62.00000      0      0   \n",
      "Wirz, Mr. Albert                                male  27.00000      0      0   \n",
      "Hirvonen, Mrs. Alexander (Helga E Lindqvist)  female  22.00000      1      1   \n",
      "...                                              ...       ...    ...    ...   \n",
      "Spector, Mr. Woolf                              male  30.27259      0      0   \n",
      "Oliva y Ocana, Dona. Fermina                  female  39.00000      0      0   \n",
      "Saether, Mr. Simon Sivertsen                    male  38.50000      0      0   \n",
      "Ware, Mr. Frederick                             male  30.27259      0      0   \n",
      "Peter, Master. Michael J                        male  30.27259      1      1   \n",
      "\n",
      "                                                          Ticket      Fare  \\\n",
      "Name                                                                         \n",
      "Kelly, Mr. James                                          330911    7.8292   \n",
      "Wilkes, Mrs. James (Ellen Needs)                          363272    7.0000   \n",
      "Myles, Mr. Thomas Francis                                 240276    9.6875   \n",
      "Wirz, Mr. Albert                                          315154    8.6625   \n",
      "Hirvonen, Mrs. Alexander (Helga E Lindqvist)             3101298   12.2875   \n",
      "...                                                          ...       ...   \n",
      "Spector, Mr. Woolf                                     A.5. 3236    8.0500   \n",
      "Oliva y Ocana, Dona. Fermina                            PC 17758  108.9000   \n",
      "Saether, Mr. Simon Sivertsen                  SOTON/O.Q. 3101262    7.2500   \n",
      "Ware, Mr. Frederick                                       359309    8.0500   \n",
      "Peter, Master. Michael J                                    2668   22.3583   \n",
      "\n",
      "                                             Cabin Embarked  \n",
      "Name                                                         \n",
      "Kelly, Mr. James                               NaN        Q  \n",
      "Wilkes, Mrs. James (Ellen Needs)               NaN        S  \n",
      "Myles, Mr. Thomas Francis                      NaN        Q  \n",
      "Wirz, Mr. Albert                               NaN        S  \n",
      "Hirvonen, Mrs. Alexander (Helga E Lindqvist)   NaN        S  \n",
      "...                                            ...      ...  \n",
      "Spector, Mr. Woolf                             C78        S  \n",
      "Oliva y Ocana, Dona. Fermina                  C105        C  \n",
      "Saether, Mr. Simon Sivertsen                  C105        S  \n",
      "Ware, Mr. Frederick                           C105        S  \n",
      "Peter, Master. Michael J                      C105        C  \n",
      "\n",
      "[418 rows x 11 columns]\n"
     ]
    }
   ],
   "source": [
    "for item in a:\n",
    "    print(a)"
   ]
  },
  {
   "cell_type": "code",
   "execution_count": 109,
   "id": "d6145315",
   "metadata": {},
   "outputs": [
    {
     "data": {
      "text/plain": [
       "PassengerId     0\n",
       "Survived        0\n",
       "Pclass          0\n",
       "Sex             0\n",
       "Age             0\n",
       "SibSp           0\n",
       "Parch           0\n",
       "Ticket          0\n",
       "Fare            0\n",
       "Cabin          12\n",
       "Embarked        0\n",
       "dtype: int64"
      ]
     },
     "execution_count": 109,
     "metadata": {},
     "output_type": "execute_result"
    }
   ],
   "source": [
    "a.isnull().sum()"
   ]
  },
  {
   "cell_type": "code",
   "execution_count": 110,
   "id": "d823cb33",
   "metadata": {},
   "outputs": [
    {
     "data": {
      "text/plain": [
       "pandas.core.frame.DataFrame"
      ]
     },
     "execution_count": 110,
     "metadata": {},
     "output_type": "execute_result"
    }
   ],
   "source": [
    "type(a)"
   ]
  },
  {
   "cell_type": "code",
   "execution_count": 111,
   "id": "31609e51",
   "metadata": {},
   "outputs": [],
   "source": [
    "a.fillna('',inplace=True)"
   ]
  },
  {
   "cell_type": "code",
   "execution_count": 112,
   "id": "0cef4f0d",
   "metadata": {},
   "outputs": [
    {
     "data": {
      "text/html": [
       "<div>\n",
       "<style scoped>\n",
       "    .dataframe tbody tr th:only-of-type {\n",
       "        vertical-align: middle;\n",
       "    }\n",
       "\n",
       "    .dataframe tbody tr th {\n",
       "        vertical-align: top;\n",
       "    }\n",
       "\n",
       "    .dataframe thead th {\n",
       "        text-align: right;\n",
       "    }\n",
       "</style>\n",
       "<table border=\"1\" class=\"dataframe\">\n",
       "  <thead>\n",
       "    <tr style=\"text-align: right;\">\n",
       "      <th></th>\n",
       "      <th>PassengerId</th>\n",
       "      <th>Survived</th>\n",
       "      <th>Pclass</th>\n",
       "      <th>Sex</th>\n",
       "      <th>Age</th>\n",
       "      <th>SibSp</th>\n",
       "      <th>Parch</th>\n",
       "      <th>Ticket</th>\n",
       "      <th>Fare</th>\n",
       "      <th>Cabin</th>\n",
       "      <th>Embarked</th>\n",
       "    </tr>\n",
       "    <tr>\n",
       "      <th>Name</th>\n",
       "      <th></th>\n",
       "      <th></th>\n",
       "      <th></th>\n",
       "      <th></th>\n",
       "      <th></th>\n",
       "      <th></th>\n",
       "      <th></th>\n",
       "      <th></th>\n",
       "      <th></th>\n",
       "      <th></th>\n",
       "      <th></th>\n",
       "    </tr>\n",
       "  </thead>\n",
       "  <tbody>\n",
       "    <tr>\n",
       "      <th>Kelly, Mr. James</th>\n",
       "      <td>892</td>\n",
       "      <td>0</td>\n",
       "      <td>3</td>\n",
       "      <td>male</td>\n",
       "      <td>34.50000</td>\n",
       "      <td>0</td>\n",
       "      <td>0</td>\n",
       "      <td>330911</td>\n",
       "      <td>7.8292</td>\n",
       "      <td></td>\n",
       "      <td>Q</td>\n",
       "    </tr>\n",
       "    <tr>\n",
       "      <th>Wilkes, Mrs. James (Ellen Needs)</th>\n",
       "      <td>893</td>\n",
       "      <td>1</td>\n",
       "      <td>3</td>\n",
       "      <td>female</td>\n",
       "      <td>47.00000</td>\n",
       "      <td>1</td>\n",
       "      <td>0</td>\n",
       "      <td>363272</td>\n",
       "      <td>7.0000</td>\n",
       "      <td></td>\n",
       "      <td>S</td>\n",
       "    </tr>\n",
       "    <tr>\n",
       "      <th>Myles, Mr. Thomas Francis</th>\n",
       "      <td>894</td>\n",
       "      <td>0</td>\n",
       "      <td>2</td>\n",
       "      <td>male</td>\n",
       "      <td>62.00000</td>\n",
       "      <td>0</td>\n",
       "      <td>0</td>\n",
       "      <td>240276</td>\n",
       "      <td>9.6875</td>\n",
       "      <td></td>\n",
       "      <td>Q</td>\n",
       "    </tr>\n",
       "    <tr>\n",
       "      <th>Wirz, Mr. Albert</th>\n",
       "      <td>895</td>\n",
       "      <td>0</td>\n",
       "      <td>3</td>\n",
       "      <td>male</td>\n",
       "      <td>27.00000</td>\n",
       "      <td>0</td>\n",
       "      <td>0</td>\n",
       "      <td>315154</td>\n",
       "      <td>8.6625</td>\n",
       "      <td></td>\n",
       "      <td>S</td>\n",
       "    </tr>\n",
       "    <tr>\n",
       "      <th>Hirvonen, Mrs. Alexander (Helga E Lindqvist)</th>\n",
       "      <td>896</td>\n",
       "      <td>1</td>\n",
       "      <td>3</td>\n",
       "      <td>female</td>\n",
       "      <td>22.00000</td>\n",
       "      <td>1</td>\n",
       "      <td>1</td>\n",
       "      <td>3101298</td>\n",
       "      <td>12.2875</td>\n",
       "      <td></td>\n",
       "      <td>S</td>\n",
       "    </tr>\n",
       "    <tr>\n",
       "      <th>...</th>\n",
       "      <td>...</td>\n",
       "      <td>...</td>\n",
       "      <td>...</td>\n",
       "      <td>...</td>\n",
       "      <td>...</td>\n",
       "      <td>...</td>\n",
       "      <td>...</td>\n",
       "      <td>...</td>\n",
       "      <td>...</td>\n",
       "      <td>...</td>\n",
       "      <td>...</td>\n",
       "    </tr>\n",
       "    <tr>\n",
       "      <th>Spector, Mr. Woolf</th>\n",
       "      <td>1305</td>\n",
       "      <td>0</td>\n",
       "      <td>3</td>\n",
       "      <td>male</td>\n",
       "      <td>30.27259</td>\n",
       "      <td>0</td>\n",
       "      <td>0</td>\n",
       "      <td>A.5. 3236</td>\n",
       "      <td>8.0500</td>\n",
       "      <td>C78</td>\n",
       "      <td>S</td>\n",
       "    </tr>\n",
       "    <tr>\n",
       "      <th>Oliva y Ocana, Dona. Fermina</th>\n",
       "      <td>1306</td>\n",
       "      <td>1</td>\n",
       "      <td>1</td>\n",
       "      <td>female</td>\n",
       "      <td>39.00000</td>\n",
       "      <td>0</td>\n",
       "      <td>0</td>\n",
       "      <td>PC 17758</td>\n",
       "      <td>108.9000</td>\n",
       "      <td>C105</td>\n",
       "      <td>C</td>\n",
       "    </tr>\n",
       "    <tr>\n",
       "      <th>Saether, Mr. Simon Sivertsen</th>\n",
       "      <td>1307</td>\n",
       "      <td>0</td>\n",
       "      <td>3</td>\n",
       "      <td>male</td>\n",
       "      <td>38.50000</td>\n",
       "      <td>0</td>\n",
       "      <td>0</td>\n",
       "      <td>SOTON/O.Q. 3101262</td>\n",
       "      <td>7.2500</td>\n",
       "      <td>C105</td>\n",
       "      <td>S</td>\n",
       "    </tr>\n",
       "    <tr>\n",
       "      <th>Ware, Mr. Frederick</th>\n",
       "      <td>1308</td>\n",
       "      <td>0</td>\n",
       "      <td>3</td>\n",
       "      <td>male</td>\n",
       "      <td>30.27259</td>\n",
       "      <td>0</td>\n",
       "      <td>0</td>\n",
       "      <td>359309</td>\n",
       "      <td>8.0500</td>\n",
       "      <td>C105</td>\n",
       "      <td>S</td>\n",
       "    </tr>\n",
       "    <tr>\n",
       "      <th>Peter, Master. Michael J</th>\n",
       "      <td>1309</td>\n",
       "      <td>0</td>\n",
       "      <td>3</td>\n",
       "      <td>male</td>\n",
       "      <td>30.27259</td>\n",
       "      <td>1</td>\n",
       "      <td>1</td>\n",
       "      <td>2668</td>\n",
       "      <td>22.3583</td>\n",
       "      <td>C105</td>\n",
       "      <td>C</td>\n",
       "    </tr>\n",
       "  </tbody>\n",
       "</table>\n",
       "<p>418 rows × 11 columns</p>\n",
       "</div>"
      ],
      "text/plain": [
       "                                              PassengerId  Survived  Pclass  \\\n",
       "Name                                                                          \n",
       "Kelly, Mr. James                                      892         0       3   \n",
       "Wilkes, Mrs. James (Ellen Needs)                      893         1       3   \n",
       "Myles, Mr. Thomas Francis                             894         0       2   \n",
       "Wirz, Mr. Albert                                      895         0       3   \n",
       "Hirvonen, Mrs. Alexander (Helga E Lindqvist)          896         1       3   \n",
       "...                                                   ...       ...     ...   \n",
       "Spector, Mr. Woolf                                   1305         0       3   \n",
       "Oliva y Ocana, Dona. Fermina                         1306         1       1   \n",
       "Saether, Mr. Simon Sivertsen                         1307         0       3   \n",
       "Ware, Mr. Frederick                                  1308         0       3   \n",
       "Peter, Master. Michael J                             1309         0       3   \n",
       "\n",
       "                                                 Sex       Age  SibSp  Parch  \\\n",
       "Name                                                                           \n",
       "Kelly, Mr. James                                male  34.50000      0      0   \n",
       "Wilkes, Mrs. James (Ellen Needs)              female  47.00000      1      0   \n",
       "Myles, Mr. Thomas Francis                       male  62.00000      0      0   \n",
       "Wirz, Mr. Albert                                male  27.00000      0      0   \n",
       "Hirvonen, Mrs. Alexander (Helga E Lindqvist)  female  22.00000      1      1   \n",
       "...                                              ...       ...    ...    ...   \n",
       "Spector, Mr. Woolf                              male  30.27259      0      0   \n",
       "Oliva y Ocana, Dona. Fermina                  female  39.00000      0      0   \n",
       "Saether, Mr. Simon Sivertsen                    male  38.50000      0      0   \n",
       "Ware, Mr. Frederick                             male  30.27259      0      0   \n",
       "Peter, Master. Michael J                        male  30.27259      1      1   \n",
       "\n",
       "                                                          Ticket      Fare  \\\n",
       "Name                                                                         \n",
       "Kelly, Mr. James                                          330911    7.8292   \n",
       "Wilkes, Mrs. James (Ellen Needs)                          363272    7.0000   \n",
       "Myles, Mr. Thomas Francis                                 240276    9.6875   \n",
       "Wirz, Mr. Albert                                          315154    8.6625   \n",
       "Hirvonen, Mrs. Alexander (Helga E Lindqvist)             3101298   12.2875   \n",
       "...                                                          ...       ...   \n",
       "Spector, Mr. Woolf                                     A.5. 3236    8.0500   \n",
       "Oliva y Ocana, Dona. Fermina                            PC 17758  108.9000   \n",
       "Saether, Mr. Simon Sivertsen                  SOTON/O.Q. 3101262    7.2500   \n",
       "Ware, Mr. Frederick                                       359309    8.0500   \n",
       "Peter, Master. Michael J                                    2668   22.3583   \n",
       "\n",
       "                                             Cabin Embarked  \n",
       "Name                                                         \n",
       "Kelly, Mr. James                                          Q  \n",
       "Wilkes, Mrs. James (Ellen Needs)                          S  \n",
       "Myles, Mr. Thomas Francis                                 Q  \n",
       "Wirz, Mr. Albert                                          S  \n",
       "Hirvonen, Mrs. Alexander (Helga E Lindqvist)              S  \n",
       "...                                            ...      ...  \n",
       "Spector, Mr. Woolf                             C78        S  \n",
       "Oliva y Ocana, Dona. Fermina                  C105        C  \n",
       "Saether, Mr. Simon Sivertsen                  C105        S  \n",
       "Ware, Mr. Frederick                           C105        S  \n",
       "Peter, Master. Michael J                      C105        C  \n",
       "\n",
       "[418 rows x 11 columns]"
      ]
     },
     "execution_count": 112,
     "metadata": {},
     "output_type": "execute_result"
    }
   ],
   "source": [
    "a"
   ]
  },
  {
   "cell_type": "code",
   "execution_count": 113,
   "id": "bfdbfc91",
   "metadata": {},
   "outputs": [
    {
     "data": {
      "text/plain": [
       "PassengerId    0\n",
       "Survived       0\n",
       "Pclass         0\n",
       "Sex            0\n",
       "Age            0\n",
       "SibSp          0\n",
       "Parch          0\n",
       "Ticket         0\n",
       "Fare           0\n",
       "Cabin          0\n",
       "Embarked       0\n",
       "dtype: int64"
      ]
     },
     "execution_count": 113,
     "metadata": {},
     "output_type": "execute_result"
    }
   ],
   "source": [
    "a.isnull().sum()"
   ]
  },
  {
   "cell_type": "code",
   "execution_count": 114,
   "id": "3c0e405f",
   "metadata": {},
   "outputs": [
    {
     "data": {
      "text/html": [
       "<div>\n",
       "<style scoped>\n",
       "    .dataframe tbody tr th:only-of-type {\n",
       "        vertical-align: middle;\n",
       "    }\n",
       "\n",
       "    .dataframe tbody tr th {\n",
       "        vertical-align: top;\n",
       "    }\n",
       "\n",
       "    .dataframe thead th {\n",
       "        text-align: right;\n",
       "    }\n",
       "</style>\n",
       "<table border=\"1\" class=\"dataframe\">\n",
       "  <thead>\n",
       "    <tr style=\"text-align: right;\">\n",
       "      <th></th>\n",
       "      <th>PassengerId</th>\n",
       "      <th>Survived</th>\n",
       "      <th>Pclass</th>\n",
       "      <th>Sex</th>\n",
       "      <th>Age</th>\n",
       "      <th>SibSp</th>\n",
       "      <th>Parch</th>\n",
       "      <th>Ticket</th>\n",
       "      <th>Fare</th>\n",
       "      <th>Cabin</th>\n",
       "      <th>Embarked</th>\n",
       "    </tr>\n",
       "    <tr>\n",
       "      <th>Name</th>\n",
       "      <th></th>\n",
       "      <th></th>\n",
       "      <th></th>\n",
       "      <th></th>\n",
       "      <th></th>\n",
       "      <th></th>\n",
       "      <th></th>\n",
       "      <th></th>\n",
       "      <th></th>\n",
       "      <th></th>\n",
       "      <th></th>\n",
       "    </tr>\n",
       "  </thead>\n",
       "  <tbody>\n",
       "    <tr>\n",
       "      <th>Kelly, Mr. James</th>\n",
       "      <td>892</td>\n",
       "      <td>0</td>\n",
       "      <td>3</td>\n",
       "      <td>male</td>\n",
       "      <td>34.50000</td>\n",
       "      <td>0</td>\n",
       "      <td>0</td>\n",
       "      <td>330911</td>\n",
       "      <td>7.8292</td>\n",
       "      <td></td>\n",
       "      <td>Q</td>\n",
       "    </tr>\n",
       "    <tr>\n",
       "      <th>Wilkes, Mrs. James (Ellen Needs)</th>\n",
       "      <td>893</td>\n",
       "      <td>1</td>\n",
       "      <td>3</td>\n",
       "      <td>female</td>\n",
       "      <td>47.00000</td>\n",
       "      <td>1</td>\n",
       "      <td>0</td>\n",
       "      <td>363272</td>\n",
       "      <td>7.0000</td>\n",
       "      <td></td>\n",
       "      <td>S</td>\n",
       "    </tr>\n",
       "    <tr>\n",
       "      <th>Myles, Mr. Thomas Francis</th>\n",
       "      <td>894</td>\n",
       "      <td>0</td>\n",
       "      <td>2</td>\n",
       "      <td>male</td>\n",
       "      <td>62.00000</td>\n",
       "      <td>0</td>\n",
       "      <td>0</td>\n",
       "      <td>240276</td>\n",
       "      <td>9.6875</td>\n",
       "      <td></td>\n",
       "      <td>Q</td>\n",
       "    </tr>\n",
       "    <tr>\n",
       "      <th>Wirz, Mr. Albert</th>\n",
       "      <td>895</td>\n",
       "      <td>0</td>\n",
       "      <td>3</td>\n",
       "      <td>male</td>\n",
       "      <td>27.00000</td>\n",
       "      <td>0</td>\n",
       "      <td>0</td>\n",
       "      <td>315154</td>\n",
       "      <td>8.6625</td>\n",
       "      <td></td>\n",
       "      <td>S</td>\n",
       "    </tr>\n",
       "    <tr>\n",
       "      <th>Hirvonen, Mrs. Alexander (Helga E Lindqvist)</th>\n",
       "      <td>896</td>\n",
       "      <td>1</td>\n",
       "      <td>3</td>\n",
       "      <td>female</td>\n",
       "      <td>22.00000</td>\n",
       "      <td>1</td>\n",
       "      <td>1</td>\n",
       "      <td>3101298</td>\n",
       "      <td>12.2875</td>\n",
       "      <td></td>\n",
       "      <td>S</td>\n",
       "    </tr>\n",
       "    <tr>\n",
       "      <th>...</th>\n",
       "      <td>...</td>\n",
       "      <td>...</td>\n",
       "      <td>...</td>\n",
       "      <td>...</td>\n",
       "      <td>...</td>\n",
       "      <td>...</td>\n",
       "      <td>...</td>\n",
       "      <td>...</td>\n",
       "      <td>...</td>\n",
       "      <td>...</td>\n",
       "      <td>...</td>\n",
       "    </tr>\n",
       "    <tr>\n",
       "      <th>Spector, Mr. Woolf</th>\n",
       "      <td>1305</td>\n",
       "      <td>0</td>\n",
       "      <td>3</td>\n",
       "      <td>male</td>\n",
       "      <td>30.27259</td>\n",
       "      <td>0</td>\n",
       "      <td>0</td>\n",
       "      <td>A.5. 3236</td>\n",
       "      <td>8.0500</td>\n",
       "      <td>C78</td>\n",
       "      <td>S</td>\n",
       "    </tr>\n",
       "    <tr>\n",
       "      <th>Oliva y Ocana, Dona. Fermina</th>\n",
       "      <td>1306</td>\n",
       "      <td>1</td>\n",
       "      <td>1</td>\n",
       "      <td>female</td>\n",
       "      <td>39.00000</td>\n",
       "      <td>0</td>\n",
       "      <td>0</td>\n",
       "      <td>PC 17758</td>\n",
       "      <td>108.9000</td>\n",
       "      <td>C105</td>\n",
       "      <td>C</td>\n",
       "    </tr>\n",
       "    <tr>\n",
       "      <th>Saether, Mr. Simon Sivertsen</th>\n",
       "      <td>1307</td>\n",
       "      <td>0</td>\n",
       "      <td>3</td>\n",
       "      <td>male</td>\n",
       "      <td>38.50000</td>\n",
       "      <td>0</td>\n",
       "      <td>0</td>\n",
       "      <td>SOTON/O.Q. 3101262</td>\n",
       "      <td>7.2500</td>\n",
       "      <td>C105</td>\n",
       "      <td>S</td>\n",
       "    </tr>\n",
       "    <tr>\n",
       "      <th>Ware, Mr. Frederick</th>\n",
       "      <td>1308</td>\n",
       "      <td>0</td>\n",
       "      <td>3</td>\n",
       "      <td>male</td>\n",
       "      <td>30.27259</td>\n",
       "      <td>0</td>\n",
       "      <td>0</td>\n",
       "      <td>359309</td>\n",
       "      <td>8.0500</td>\n",
       "      <td>C105</td>\n",
       "      <td>S</td>\n",
       "    </tr>\n",
       "    <tr>\n",
       "      <th>Peter, Master. Michael J</th>\n",
       "      <td>1309</td>\n",
       "      <td>0</td>\n",
       "      <td>3</td>\n",
       "      <td>male</td>\n",
       "      <td>30.27259</td>\n",
       "      <td>1</td>\n",
       "      <td>1</td>\n",
       "      <td>2668</td>\n",
       "      <td>22.3583</td>\n",
       "      <td>C105</td>\n",
       "      <td>C</td>\n",
       "    </tr>\n",
       "  </tbody>\n",
       "</table>\n",
       "<p>418 rows × 11 columns</p>\n",
       "</div>"
      ],
      "text/plain": [
       "                                              PassengerId  Survived  Pclass  \\\n",
       "Name                                                                          \n",
       "Kelly, Mr. James                                      892         0       3   \n",
       "Wilkes, Mrs. James (Ellen Needs)                      893         1       3   \n",
       "Myles, Mr. Thomas Francis                             894         0       2   \n",
       "Wirz, Mr. Albert                                      895         0       3   \n",
       "Hirvonen, Mrs. Alexander (Helga E Lindqvist)          896         1       3   \n",
       "...                                                   ...       ...     ...   \n",
       "Spector, Mr. Woolf                                   1305         0       3   \n",
       "Oliva y Ocana, Dona. Fermina                         1306         1       1   \n",
       "Saether, Mr. Simon Sivertsen                         1307         0       3   \n",
       "Ware, Mr. Frederick                                  1308         0       3   \n",
       "Peter, Master. Michael J                             1309         0       3   \n",
       "\n",
       "                                                 Sex       Age  SibSp  Parch  \\\n",
       "Name                                                                           \n",
       "Kelly, Mr. James                                male  34.50000      0      0   \n",
       "Wilkes, Mrs. James (Ellen Needs)              female  47.00000      1      0   \n",
       "Myles, Mr. Thomas Francis                       male  62.00000      0      0   \n",
       "Wirz, Mr. Albert                                male  27.00000      0      0   \n",
       "Hirvonen, Mrs. Alexander (Helga E Lindqvist)  female  22.00000      1      1   \n",
       "...                                              ...       ...    ...    ...   \n",
       "Spector, Mr. Woolf                              male  30.27259      0      0   \n",
       "Oliva y Ocana, Dona. Fermina                  female  39.00000      0      0   \n",
       "Saether, Mr. Simon Sivertsen                    male  38.50000      0      0   \n",
       "Ware, Mr. Frederick                             male  30.27259      0      0   \n",
       "Peter, Master. Michael J                        male  30.27259      1      1   \n",
       "\n",
       "                                                          Ticket      Fare  \\\n",
       "Name                                                                         \n",
       "Kelly, Mr. James                                          330911    7.8292   \n",
       "Wilkes, Mrs. James (Ellen Needs)                          363272    7.0000   \n",
       "Myles, Mr. Thomas Francis                                 240276    9.6875   \n",
       "Wirz, Mr. Albert                                          315154    8.6625   \n",
       "Hirvonen, Mrs. Alexander (Helga E Lindqvist)             3101298   12.2875   \n",
       "...                                                          ...       ...   \n",
       "Spector, Mr. Woolf                                     A.5. 3236    8.0500   \n",
       "Oliva y Ocana, Dona. Fermina                            PC 17758  108.9000   \n",
       "Saether, Mr. Simon Sivertsen                  SOTON/O.Q. 3101262    7.2500   \n",
       "Ware, Mr. Frederick                                       359309    8.0500   \n",
       "Peter, Master. Michael J                                    2668   22.3583   \n",
       "\n",
       "                                             Cabin Embarked  \n",
       "Name                                                         \n",
       "Kelly, Mr. James                                          Q  \n",
       "Wilkes, Mrs. James (Ellen Needs)                          S  \n",
       "Myles, Mr. Thomas Francis                                 Q  \n",
       "Wirz, Mr. Albert                                          S  \n",
       "Hirvonen, Mrs. Alexander (Helga E Lindqvist)              S  \n",
       "...                                            ...      ...  \n",
       "Spector, Mr. Woolf                             C78        S  \n",
       "Oliva y Ocana, Dona. Fermina                  C105        C  \n",
       "Saether, Mr. Simon Sivertsen                  C105        S  \n",
       "Ware, Mr. Frederick                           C105        S  \n",
       "Peter, Master. Michael J                      C105        C  \n",
       "\n",
       "[418 rows x 11 columns]"
      ]
     },
     "execution_count": 114,
     "metadata": {},
     "output_type": "execute_result"
    }
   ],
   "source": [
    "a"
   ]
  },
  {
   "cell_type": "code",
   "execution_count": 119,
   "id": "2e300c79",
   "metadata": {},
   "outputs": [
    {
     "data": {
      "text/html": [
       "<div>\n",
       "<style scoped>\n",
       "    .dataframe tbody tr th:only-of-type {\n",
       "        vertical-align: middle;\n",
       "    }\n",
       "\n",
       "    .dataframe tbody tr th {\n",
       "        vertical-align: top;\n",
       "    }\n",
       "\n",
       "    .dataframe thead th {\n",
       "        text-align: right;\n",
       "    }\n",
       "</style>\n",
       "<table border=\"1\" class=\"dataframe\">\n",
       "  <thead>\n",
       "    <tr style=\"text-align: right;\">\n",
       "      <th></th>\n",
       "      <th>PassengerId</th>\n",
       "      <th>Survived</th>\n",
       "      <th>Pclass</th>\n",
       "      <th>Sex</th>\n",
       "      <th>Age</th>\n",
       "      <th>SibSp</th>\n",
       "      <th>Parch</th>\n",
       "      <th>Ticket</th>\n",
       "      <th>Fare</th>\n",
       "      <th>Cabin</th>\n",
       "      <th>Embarked</th>\n",
       "    </tr>\n",
       "    <tr>\n",
       "      <th>Name</th>\n",
       "      <th></th>\n",
       "      <th></th>\n",
       "      <th></th>\n",
       "      <th></th>\n",
       "      <th></th>\n",
       "      <th></th>\n",
       "      <th></th>\n",
       "      <th></th>\n",
       "      <th></th>\n",
       "      <th></th>\n",
       "      <th></th>\n",
       "    </tr>\n",
       "  </thead>\n",
       "  <tbody>\n",
       "    <tr>\n",
       "      <th>Wilkes, Mrs. James (Ellen Needs)</th>\n",
       "      <td>893</td>\n",
       "      <td>1</td>\n",
       "      <td>3</td>\n",
       "      <td>female</td>\n",
       "      <td>47.00000</td>\n",
       "      <td>1</td>\n",
       "      <td>0</td>\n",
       "      <td>363272</td>\n",
       "      <td>7.0000</td>\n",
       "      <td></td>\n",
       "      <td>S</td>\n",
       "    </tr>\n",
       "    <tr>\n",
       "      <th>Olsen, Master. Artur Karl</th>\n",
       "      <td>913</td>\n",
       "      <td>0</td>\n",
       "      <td>3</td>\n",
       "      <td>male</td>\n",
       "      <td>9.00000</td>\n",
       "      <td>0</td>\n",
       "      <td>1</td>\n",
       "      <td>C 17368</td>\n",
       "      <td>3.1708</td>\n",
       "      <td>E31</td>\n",
       "      <td>S</td>\n",
       "    </tr>\n",
       "    <tr>\n",
       "      <th>Thomas, Mr. John</th>\n",
       "      <td>1008</td>\n",
       "      <td>0</td>\n",
       "      <td>3</td>\n",
       "      <td>male</td>\n",
       "      <td>30.27259</td>\n",
       "      <td>0</td>\n",
       "      <td>0</td>\n",
       "      <td>2681</td>\n",
       "      <td>6.4375</td>\n",
       "      <td>C55 C57</td>\n",
       "      <td>C</td>\n",
       "    </tr>\n",
       "    <tr>\n",
       "      <th>Thomas, Mr. Charles P</th>\n",
       "      <td>1025</td>\n",
       "      <td>0</td>\n",
       "      <td>3</td>\n",
       "      <td>male</td>\n",
       "      <td>30.27259</td>\n",
       "      <td>1</td>\n",
       "      <td>0</td>\n",
       "      <td>2621</td>\n",
       "      <td>6.4375</td>\n",
       "      <td>C51</td>\n",
       "      <td>C</td>\n",
       "    </tr>\n",
       "    <tr>\n",
       "      <th>Pearce, Mr. Ernest</th>\n",
       "      <td>1055</td>\n",
       "      <td>0</td>\n",
       "      <td>3</td>\n",
       "      <td>male</td>\n",
       "      <td>30.27259</td>\n",
       "      <td>0</td>\n",
       "      <td>0</td>\n",
       "      <td>343271</td>\n",
       "      <td>7.0000</td>\n",
       "      <td>D22</td>\n",
       "      <td>S</td>\n",
       "    </tr>\n",
       "    <tr>\n",
       "      <th>Wiklund, Mr. Karl Johan</th>\n",
       "      <td>1124</td>\n",
       "      <td>0</td>\n",
       "      <td>3</td>\n",
       "      <td>male</td>\n",
       "      <td>21.00000</td>\n",
       "      <td>1</td>\n",
       "      <td>0</td>\n",
       "      <td>3101266</td>\n",
       "      <td>6.4958</td>\n",
       "      <td>F33</td>\n",
       "      <td>S</td>\n",
       "    </tr>\n",
       "    <tr>\n",
       "      <th>Chisholm, Mr. Roderick Robert Crispin</th>\n",
       "      <td>1158</td>\n",
       "      <td>0</td>\n",
       "      <td>1</td>\n",
       "      <td>male</td>\n",
       "      <td>30.27259</td>\n",
       "      <td>0</td>\n",
       "      <td>0</td>\n",
       "      <td>112051</td>\n",
       "      <td>0.0000</td>\n",
       "      <td>C89</td>\n",
       "      <td>S</td>\n",
       "    </tr>\n",
       "    <tr>\n",
       "      <th>Daly, Miss. Margaret Marcella Maggie\"\"</th>\n",
       "      <td>1183</td>\n",
       "      <td>1</td>\n",
       "      <td>3</td>\n",
       "      <td>female</td>\n",
       "      <td>30.00000</td>\n",
       "      <td>0</td>\n",
       "      <td>0</td>\n",
       "      <td>382650</td>\n",
       "      <td>6.9500</td>\n",
       "      <td>F E46</td>\n",
       "      <td>Q</td>\n",
       "    </tr>\n",
       "    <tr>\n",
       "      <th>Ismay, Mr. Joseph Bruce</th>\n",
       "      <td>1264</td>\n",
       "      <td>0</td>\n",
       "      <td>1</td>\n",
       "      <td>male</td>\n",
       "      <td>49.00000</td>\n",
       "      <td>0</td>\n",
       "      <td>0</td>\n",
       "      <td>112058</td>\n",
       "      <td>0.0000</td>\n",
       "      <td>B52 B54 B56</td>\n",
       "      <td>S</td>\n",
       "    </tr>\n",
       "  </tbody>\n",
       "</table>\n",
       "</div>"
      ],
      "text/plain": [
       "                                        PassengerId  Survived  Pclass     Sex  \\\n",
       "Name                                                                            \n",
       "Wilkes, Mrs. James (Ellen Needs)                893         1       3  female   \n",
       "Olsen, Master. Artur Karl                       913         0       3    male   \n",
       "Thomas, Mr. John                               1008         0       3    male   \n",
       "Thomas, Mr. Charles P                          1025         0       3    male   \n",
       "Pearce, Mr. Ernest                             1055         0       3    male   \n",
       "Wiklund, Mr. Karl Johan                        1124         0       3    male   \n",
       "Chisholm, Mr. Roderick Robert Crispin          1158         0       1    male   \n",
       "Daly, Miss. Margaret Marcella Maggie\"\"         1183         1       3  female   \n",
       "Ismay, Mr. Joseph Bruce                        1264         0       1    male   \n",
       "\n",
       "                                             Age  SibSp  Parch   Ticket  \\\n",
       "Name                                                                      \n",
       "Wilkes, Mrs. James (Ellen Needs)        47.00000      1      0   363272   \n",
       "Olsen, Master. Artur Karl                9.00000      0      1  C 17368   \n",
       "Thomas, Mr. John                        30.27259      0      0     2681   \n",
       "Thomas, Mr. Charles P                   30.27259      1      0     2621   \n",
       "Pearce, Mr. Ernest                      30.27259      0      0   343271   \n",
       "Wiklund, Mr. Karl Johan                 21.00000      1      0  3101266   \n",
       "Chisholm, Mr. Roderick Robert Crispin   30.27259      0      0   112051   \n",
       "Daly, Miss. Margaret Marcella Maggie\"\"  30.00000      0      0   382650   \n",
       "Ismay, Mr. Joseph Bruce                 49.00000      0      0   112058   \n",
       "\n",
       "                                          Fare        Cabin Embarked  \n",
       "Name                                                                  \n",
       "Wilkes, Mrs. James (Ellen Needs)        7.0000                     S  \n",
       "Olsen, Master. Artur Karl               3.1708          E31        S  \n",
       "Thomas, Mr. John                        6.4375      C55 C57        C  \n",
       "Thomas, Mr. Charles P                   6.4375          C51        C  \n",
       "Pearce, Mr. Ernest                      7.0000          D22        S  \n",
       "Wiklund, Mr. Karl Johan                 6.4958          F33        S  \n",
       "Chisholm, Mr. Roderick Robert Crispin   0.0000          C89        S  \n",
       "Daly, Miss. Margaret Marcella Maggie\"\"  6.9500        F E46        Q  \n",
       "Ismay, Mr. Joseph Bruce                 0.0000  B52 B54 B56        S  "
      ]
     },
     "execution_count": 119,
     "metadata": {},
     "output_type": "execute_result"
    }
   ],
   "source": [
    "data=a[(a['Fare']<=7.0000)]\n",
    "data"
   ]
  },
  {
   "cell_type": "code",
   "execution_count": 123,
   "id": "47093c1b",
   "metadata": {},
   "outputs": [
    {
     "data": {
      "text/html": [
       "<div>\n",
       "<style scoped>\n",
       "    .dataframe tbody tr th:only-of-type {\n",
       "        vertical-align: middle;\n",
       "    }\n",
       "\n",
       "    .dataframe tbody tr th {\n",
       "        vertical-align: top;\n",
       "    }\n",
       "\n",
       "    .dataframe thead th {\n",
       "        text-align: right;\n",
       "    }\n",
       "</style>\n",
       "<table border=\"1\" class=\"dataframe\">\n",
       "  <thead>\n",
       "    <tr style=\"text-align: right;\">\n",
       "      <th></th>\n",
       "      <th>PassengerId</th>\n",
       "      <th>Survived</th>\n",
       "      <th>Pclass</th>\n",
       "      <th>Sex</th>\n",
       "      <th>Age</th>\n",
       "      <th>SibSp</th>\n",
       "      <th>Parch</th>\n",
       "      <th>Ticket</th>\n",
       "      <th>Fare</th>\n",
       "      <th>Cabin</th>\n",
       "      <th>Embarked</th>\n",
       "    </tr>\n",
       "    <tr>\n",
       "      <th>Name</th>\n",
       "      <th></th>\n",
       "      <th></th>\n",
       "      <th></th>\n",
       "      <th></th>\n",
       "      <th></th>\n",
       "      <th></th>\n",
       "      <th></th>\n",
       "      <th></th>\n",
       "      <th></th>\n",
       "      <th></th>\n",
       "      <th></th>\n",
       "    </tr>\n",
       "  </thead>\n",
       "  <tbody>\n",
       "    <tr>\n",
       "      <th>Kelly, Mr. James</th>\n",
       "      <td>892</td>\n",
       "      <td>0</td>\n",
       "      <td>3</td>\n",
       "      <td>male</td>\n",
       "      <td>34.50000</td>\n",
       "      <td>0</td>\n",
       "      <td>0</td>\n",
       "      <td>330911</td>\n",
       "      <td>7.8292</td>\n",
       "      <td></td>\n",
       "      <td>Q</td>\n",
       "    </tr>\n",
       "    <tr>\n",
       "      <th>Myles, Mr. Thomas Francis</th>\n",
       "      <td>894</td>\n",
       "      <td>0</td>\n",
       "      <td>2</td>\n",
       "      <td>male</td>\n",
       "      <td>62.00000</td>\n",
       "      <td>0</td>\n",
       "      <td>0</td>\n",
       "      <td>240276</td>\n",
       "      <td>9.6875</td>\n",
       "      <td></td>\n",
       "      <td>Q</td>\n",
       "    </tr>\n",
       "    <tr>\n",
       "      <th>Wirz, Mr. Albert</th>\n",
       "      <td>895</td>\n",
       "      <td>0</td>\n",
       "      <td>3</td>\n",
       "      <td>male</td>\n",
       "      <td>27.00000</td>\n",
       "      <td>0</td>\n",
       "      <td>0</td>\n",
       "      <td>315154</td>\n",
       "      <td>8.6625</td>\n",
       "      <td></td>\n",
       "      <td>S</td>\n",
       "    </tr>\n",
       "    <tr>\n",
       "      <th>Svensson, Mr. Johan Cervin</th>\n",
       "      <td>897</td>\n",
       "      <td>0</td>\n",
       "      <td>3</td>\n",
       "      <td>male</td>\n",
       "      <td>14.00000</td>\n",
       "      <td>0</td>\n",
       "      <td>0</td>\n",
       "      <td>7538</td>\n",
       "      <td>9.2250</td>\n",
       "      <td></td>\n",
       "      <td>S</td>\n",
       "    </tr>\n",
       "    <tr>\n",
       "      <th>Connolly, Miss. Kate</th>\n",
       "      <td>898</td>\n",
       "      <td>1</td>\n",
       "      <td>3</td>\n",
       "      <td>female</td>\n",
       "      <td>30.00000</td>\n",
       "      <td>0</td>\n",
       "      <td>0</td>\n",
       "      <td>330972</td>\n",
       "      <td>7.6292</td>\n",
       "      <td></td>\n",
       "      <td>Q</td>\n",
       "    </tr>\n",
       "    <tr>\n",
       "      <th>...</th>\n",
       "      <td>...</td>\n",
       "      <td>...</td>\n",
       "      <td>...</td>\n",
       "      <td>...</td>\n",
       "      <td>...</td>\n",
       "      <td>...</td>\n",
       "      <td>...</td>\n",
       "      <td>...</td>\n",
       "      <td>...</td>\n",
       "      <td>...</td>\n",
       "      <td>...</td>\n",
       "    </tr>\n",
       "    <tr>\n",
       "      <th>Henriksson, Miss. Jenny Lovisa</th>\n",
       "      <td>1304</td>\n",
       "      <td>1</td>\n",
       "      <td>3</td>\n",
       "      <td>female</td>\n",
       "      <td>28.00000</td>\n",
       "      <td>0</td>\n",
       "      <td>0</td>\n",
       "      <td>347086</td>\n",
       "      <td>7.7750</td>\n",
       "      <td>C78</td>\n",
       "      <td>S</td>\n",
       "    </tr>\n",
       "    <tr>\n",
       "      <th>Spector, Mr. Woolf</th>\n",
       "      <td>1305</td>\n",
       "      <td>0</td>\n",
       "      <td>3</td>\n",
       "      <td>male</td>\n",
       "      <td>30.27259</td>\n",
       "      <td>0</td>\n",
       "      <td>0</td>\n",
       "      <td>A.5. 3236</td>\n",
       "      <td>8.0500</td>\n",
       "      <td>C78</td>\n",
       "      <td>S</td>\n",
       "    </tr>\n",
       "    <tr>\n",
       "      <th>Oliva y Ocana, Dona. Fermina</th>\n",
       "      <td>1306</td>\n",
       "      <td>1</td>\n",
       "      <td>1</td>\n",
       "      <td>female</td>\n",
       "      <td>39.00000</td>\n",
       "      <td>0</td>\n",
       "      <td>0</td>\n",
       "      <td>PC 17758</td>\n",
       "      <td>108.9000</td>\n",
       "      <td>C105</td>\n",
       "      <td>C</td>\n",
       "    </tr>\n",
       "    <tr>\n",
       "      <th>Saether, Mr. Simon Sivertsen</th>\n",
       "      <td>1307</td>\n",
       "      <td>0</td>\n",
       "      <td>3</td>\n",
       "      <td>male</td>\n",
       "      <td>38.50000</td>\n",
       "      <td>0</td>\n",
       "      <td>0</td>\n",
       "      <td>SOTON/O.Q. 3101262</td>\n",
       "      <td>7.2500</td>\n",
       "      <td>C105</td>\n",
       "      <td>S</td>\n",
       "    </tr>\n",
       "    <tr>\n",
       "      <th>Ware, Mr. Frederick</th>\n",
       "      <td>1308</td>\n",
       "      <td>0</td>\n",
       "      <td>3</td>\n",
       "      <td>male</td>\n",
       "      <td>30.27259</td>\n",
       "      <td>0</td>\n",
       "      <td>0</td>\n",
       "      <td>359309</td>\n",
       "      <td>8.0500</td>\n",
       "      <td>C105</td>\n",
       "      <td>S</td>\n",
       "    </tr>\n",
       "  </tbody>\n",
       "</table>\n",
       "<p>283 rows × 11 columns</p>\n",
       "</div>"
      ],
      "text/plain": [
       "                                PassengerId  Survived  Pclass     Sex  \\\n",
       "Name                                                                    \n",
       "Kelly, Mr. James                        892         0       3    male   \n",
       "Myles, Mr. Thomas Francis               894         0       2    male   \n",
       "Wirz, Mr. Albert                        895         0       3    male   \n",
       "Svensson, Mr. Johan Cervin              897         0       3    male   \n",
       "Connolly, Miss. Kate                    898         1       3  female   \n",
       "...                                     ...       ...     ...     ...   \n",
       "Henriksson, Miss. Jenny Lovisa         1304         1       3  female   \n",
       "Spector, Mr. Woolf                     1305         0       3    male   \n",
       "Oliva y Ocana, Dona. Fermina           1306         1       1  female   \n",
       "Saether, Mr. Simon Sivertsen           1307         0       3    male   \n",
       "Ware, Mr. Frederick                    1308         0       3    male   \n",
       "\n",
       "                                     Age  SibSp  Parch              Ticket  \\\n",
       "Name                                                                         \n",
       "Kelly, Mr. James                34.50000      0      0              330911   \n",
       "Myles, Mr. Thomas Francis       62.00000      0      0              240276   \n",
       "Wirz, Mr. Albert                27.00000      0      0              315154   \n",
       "Svensson, Mr. Johan Cervin      14.00000      0      0                7538   \n",
       "Connolly, Miss. Kate            30.00000      0      0              330972   \n",
       "...                                  ...    ...    ...                 ...   \n",
       "Henriksson, Miss. Jenny Lovisa  28.00000      0      0              347086   \n",
       "Spector, Mr. Woolf              30.27259      0      0           A.5. 3236   \n",
       "Oliva y Ocana, Dona. Fermina    39.00000      0      0            PC 17758   \n",
       "Saether, Mr. Simon Sivertsen    38.50000      0      0  SOTON/O.Q. 3101262   \n",
       "Ware, Mr. Frederick             30.27259      0      0              359309   \n",
       "\n",
       "                                    Fare Cabin Embarked  \n",
       "Name                                                     \n",
       "Kelly, Mr. James                  7.8292              Q  \n",
       "Myles, Mr. Thomas Francis         9.6875              Q  \n",
       "Wirz, Mr. Albert                  8.6625              S  \n",
       "Svensson, Mr. Johan Cervin        9.2250              S  \n",
       "Connolly, Miss. Kate              7.6292              Q  \n",
       "...                                  ...   ...      ...  \n",
       "Henriksson, Miss. Jenny Lovisa    7.7750   C78        S  \n",
       "Spector, Mr. Woolf                8.0500   C78        S  \n",
       "Oliva y Ocana, Dona. Fermina    108.9000  C105        C  \n",
       "Saether, Mr. Simon Sivertsen      7.2500  C105        S  \n",
       "Ware, Mr. Frederick               8.0500  C105        S  \n",
       "\n",
       "[283 rows x 11 columns]"
      ]
     },
     "execution_count": 123,
     "metadata": {},
     "output_type": "execute_result"
    }
   ],
   "source": [
    "data=a[(a['SibSp']==0)]\n",
    "data"
   ]
  },
  {
   "cell_type": "code",
   "execution_count": null,
   "id": "45cc066d",
   "metadata": {},
   "outputs": [],
   "source": []
  }
 ],
 "metadata": {
  "kernelspec": {
   "display_name": "Python 3 (ipykernel)",
   "language": "python",
   "name": "python3"
  },
  "language_info": {
   "codemirror_mode": {
    "name": "ipython",
    "version": 3
   },
   "file_extension": ".py",
   "mimetype": "text/x-python",
   "name": "python",
   "nbconvert_exporter": "python",
   "pygments_lexer": "ipython3",
   "version": "3.9.13"
  }
 },
 "nbformat": 4,
 "nbformat_minor": 5
}
